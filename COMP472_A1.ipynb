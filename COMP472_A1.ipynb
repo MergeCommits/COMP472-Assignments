{
 "cells": [
  {
   "cell_type": "code",
   "execution_count": 1,
   "outputs": [],
   "source": [
    "import pandas as pd\n",
    "from codecs import open\n",
    "from sklearn.feature_extraction.text import CountVectorizer, TfidfTransformer\n",
    "from sklearn.model_selection import train_test_split, GridSearchCV\n",
    "from sklearn.naive_bayes import MultinomialNB\n",
    "from sklearn.tree import DecisionTreeClassifier\n",
    "from sklearn.metrics import accuracy_score, confusion_matrix, classification_report\n",
    "import matplotlib.pyplot as plt\n",
    "import seaborn as sns"
   ],
   "metadata": {
    "collapsed": false,
    "pycharm": {
     "name": "#%%\n"
    }
   }
  },
  {
   "cell_type": "markdown",
   "source": [
    "## Read the entire collection"
   ],
   "metadata": {
    "collapsed": false
   }
  },
  {
   "cell_type": "code",
   "execution_count": 2,
   "outputs": [],
   "source": [
    "# function to read documents\n",
    "def read_documents(doc_file):\n",
    "    docs = []\n",
    "    labels = []\n",
    "    with open(doc_file, encoding='utf-8') as f:\n",
    "        for line in f:\n",
    "            words = line.strip().split(\" \")\n",
    "            labels.append(words[1])\n",
    "            docs.append(' '.join(line.split(\" \")[3:]))\n",
    "    return docs, labels"
   ],
   "metadata": {
    "collapsed": false,
    "pycharm": {
     "name": "#%%\n"
    }
   }
  },
  {
   "cell_type": "code",
   "execution_count": 3,
   "outputs": [],
   "source": [
    "# Read the reviews document\n",
    "all_docs, all_labels = read_documents('all_sentiment_shuffled.txt')\n",
    "# Convert to DataFrame\n",
    "df = pd.DataFrame({'labels': all_labels,\n",
    "                          'docs': all_docs})\n",
    "# Convert a collection of text documents to a matrix of token counts.\n",
    "# Note: Stop words are words like “and”, “the”, “him”, which are presumed to be\n",
    "# uninformative in representing the content of a text, and which may be removed\n",
    "# to avoid them being construed as signal for prediction.\n",
    "# https://scikit-learn.org/stable/modules/feature_extraction.html#stop-words\n",
    "vectorizer = CountVectorizer(stop_words='english')\n",
    "# Learn the vocabulary dictionary and return document-term matrix\n",
    "all_features = vectorizer.fit_transform(df.docs)"
   ],
   "metadata": {
    "collapsed": false,
    "pycharm": {
     "name": "#%%\n"
    }
   }
  },
  {
   "cell_type": "markdown",
   "source": [
    "## Task 0: Split Data into Training and Evaluation"
   ],
   "metadata": {
    "collapsed": false
   }
  },
  {
   "cell_type": "code",
   "execution_count": 4,
   "outputs": [],
   "source": [
    "# Split arrays or matrices into random train and test subsets\n",
    "# Use 80% for training and the remainder for evaluation\n",
    "X_train, X_test, y_train, y_test = train_test_split(all_features, df.labels,\n",
    "                                                    test_size=0.2, random_state=88)"
   ],
   "metadata": {
    "collapsed": false,
    "pycharm": {
     "name": "#%%\n"
    }
   }
  },
  {
   "cell_type": "markdown",
   "source": [
    "## Task 1: Plot Distribution of # of Instances in each Class"
   ],
   "metadata": {
    "collapsed": false,
    "pycharm": {
     "name": "#%% md\n"
    }
   }
  },
  {
   "cell_type": "code",
   "execution_count": 5,
   "outputs": [
    {
     "data": {
      "text/plain": "<Figure size 432x288 with 1 Axes>",
      "image/png": "[encoded data removed]"
     },
     "metadata": {},
     "output_type": "display_data"
    }
   ],
   "source": [
    "sns.set_theme() # Apply the default theme\n",
    "sns.set_style('darkgrid') # Set Seaborn style\n",
    "# Construct plot\n",
    "sns.countplot(data = df, x = 'labels')\n",
    "plt.show()"
   ],
   "metadata": {
    "collapsed": false,
    "pycharm": {
     "name": "#%%\n"
    }
   }
  },
  {
   "cell_type": "code",
   "execution_count": 6,
   "outputs": [
    {
     "name": "stdout",
     "output_type": "stream",
     "text": [
      "Number of Instances of Each Class: neg = 5914, pos = 6000\n"
     ]
    }
   ],
   "source": [
    "pos_len = len(df.loc[df['labels'] == 'pos'])\n",
    "neg_len = len(df.loc[df['labels'] == 'neg'])\n",
    "print('Number of Instances of Each Class: neg = ' + str(neg_len) + ', pos = ' + str(pos_len))"
   ],
   "metadata": {
    "collapsed": false,
    "pycharm": {
     "name": "#%%\n"
    }
   }
  },
  {
   "cell_type": "markdown",
   "source": [
    "## Task 2: Run 3 different ML models:\n",
    "### alt1) Naive Bayes Classifier (default smoothing, near optimal results)"
   ],
   "metadata": {
    "collapsed": false
   }
  },
  {
   "cell_type": "code",
   "execution_count": 7,
   "outputs": [],
   "source": [
    "clf_defnb = MultinomialNB()\n",
    "clf_defnb.fit(X_train, y_train)\n",
    "clf_y_pred_defnb = clf_defnb.predict(X_test)"
   ],
   "metadata": {
    "collapsed": false,
    "pycharm": {
     "name": "#%%\n"
    }
   }
  },
  {
   "cell_type": "markdown",
   "source": [
    "#### - b) Confusion Matrix"
   ],
   "metadata": {
    "collapsed": false
   }
  },
  {
   "cell_type": "code",
   "execution_count": 8,
   "outputs": [
    {
     "name": "stdout",
     "output_type": "stream",
     "text": [
      "Confusion Matrix:\n",
      " [[1001  196]\n",
      " [ 238  948]]\n"
     ]
    }
   ],
   "source": [
    "conf_mtx_defnb = confusion_matrix(y_test, clf_y_pred_defnb)\n",
    "print('Confusion Matrix:\\n', conf_mtx_defnb)"
   ],
   "metadata": {
    "collapsed": false,
    "pycharm": {
     "name": "#%%\n"
    }
   }
  },
  {
   "cell_type": "markdown",
   "source": [
    "#### - c) Classification Report"
   ],
   "metadata": {
    "collapsed": false
   }
  },
  {
   "cell_type": "code",
   "execution_count": 9,
   "outputs": [
    {
     "name": "stdout",
     "output_type": "stream",
     "text": [
      "Classification Report:\n",
      "               precision    recall  f1-score   support\n",
      "\n",
      "         neg       0.81      0.84      0.82      1197\n",
      "         pos       0.83      0.80      0.81      1186\n",
      "\n",
      "    accuracy                           0.82      2383\n",
      "   macro avg       0.82      0.82      0.82      2383\n",
      "weighted avg       0.82      0.82      0.82      2383\n",
      "\n"
     ]
    }
   ],
   "source": [
    "clf_rep_defnb = classification_report(y_test, clf_y_pred_defnb)\n",
    "print('Classification Report:\\n', clf_rep_defnb)"
   ],
   "metadata": {
    "collapsed": false,
    "pycharm": {
     "name": "#%%\n"
    }
   }
  },
  {
   "cell_type": "markdown",
   "source": [
    "#### - d) Accuracy"
   ],
   "metadata": {
    "collapsed": false
   }
  },
  {
   "cell_type": "code",
   "execution_count": 10,
   "outputs": [
    {
     "name": "stdout",
     "output_type": "stream",
     "text": [
      "Accuracy: 0.8178766261015527\n"
     ]
    }
   ],
   "source": [
    "clf_acc_defnb = accuracy_score(y_test, clf_y_pred_defnb)\n",
    "print('Accuracy:', clf_acc_defnb)"
   ],
   "metadata": {
    "collapsed": false,
    "pycharm": {
     "name": "#%%\n"
    }
   }
  },
  {
   "cell_type": "markdown",
   "source": [
    "### alt2) Naive Bayes Classifier (bad ~= 0 smoothing)"
   ],
   "metadata": {
    "collapsed": false
   }
  },
  {
   "cell_type": "code",
   "execution_count": 11,
   "outputs": [],
   "source": [
    "clf_badnb = MultinomialNB(alpha=0.0000000001)\n",
    "clf_badnb.fit(X_train, y_train)\n",
    "clf_y_pred_badnb = clf_badnb.predict(X_test)"
   ],
   "metadata": {
    "collapsed": false,
    "pycharm": {
     "name": "#%%\n"
    }
   }
  },
  {
   "cell_type": "markdown",
   "source": [
    "#### - b) Confusion Matrix"
   ],
   "metadata": {
    "collapsed": false
   }
  },
  {
   "cell_type": "code",
   "execution_count": 12,
   "outputs": [
    {
     "name": "stdout",
     "output_type": "stream",
     "text": [
      "Confusion Matrix:\n",
      " [[876 321]\n",
      " [347 839]]\n"
     ]
    }
   ],
   "source": [
    "conf_mtx_badnb = confusion_matrix(y_test, clf_y_pred_badnb)\n",
    "print('Confusion Matrix:\\n', conf_mtx_badnb)"
   ],
   "metadata": {
    "collapsed": false,
    "pycharm": {
     "name": "#%%\n"
    }
   }
  },
  {
   "cell_type": "markdown",
   "source": [
    "#### - c) Classification Report"
   ],
   "metadata": {
    "collapsed": false
   }
  },
  {
   "cell_type": "code",
   "execution_count": 13,
   "outputs": [
    {
     "name": "stdout",
     "output_type": "stream",
     "text": [
      "Classification Report:\n",
      "               precision    recall  f1-score   support\n",
      "\n",
      "         neg       0.72      0.73      0.72      1197\n",
      "         pos       0.72      0.71      0.72      1186\n",
      "\n",
      "    accuracy                           0.72      2383\n",
      "   macro avg       0.72      0.72      0.72      2383\n",
      "weighted avg       0.72      0.72      0.72      2383\n",
      "\n"
     ]
    }
   ],
   "source": [
    "clf_rep_badnb = classification_report(y_test, clf_y_pred_badnb)\n",
    "print('Classification Report:\\n', clf_rep_badnb)"
   ],
   "metadata": {
    "collapsed": false,
    "pycharm": {
     "name": "#%%\n"
    }
   }
  },
  {
   "cell_type": "markdown",
   "source": [
    "#### - d) Accuracy"
   ],
   "metadata": {
    "collapsed": false
   }
  },
  {
   "cell_type": "code",
   "execution_count": 14,
   "outputs": [
    {
     "name": "stdout",
     "output_type": "stream",
     "text": [
      "Accuracy: 0.7196810742761225\n"
     ]
    }
   ],
   "source": [
    "clf_acc_badnb = accuracy_score(y_test, clf_y_pred_badnb)\n",
    "print('Accuracy:', clf_acc_badnb)"
   ],
   "metadata": {
    "collapsed": false,
    "pycharm": {
     "name": "#%%\n"
    }
   }
  },
  {
   "cell_type": "markdown",
   "source": [
    "### a) Naive Bayes Classifier (optimal = 5 smoothing)"
   ],
   "metadata": {
    "collapsed": false
   }
  },
  {
   "cell_type": "code",
   "source": [
    "clf_optnb = MultinomialNB(alpha=5)\n",
    "clf_optnb.fit(X_train, y_train)\n",
    "clf_y_pred_optnb = clf_optnb.predict(X_test)"
   ],
   "metadata": {
    "collapsed": false,
    "pycharm": {
     "name": "#%%\n"
    }
   },
   "execution_count": 15,
   "outputs": []
  },
  {
   "cell_type": "markdown",
   "source": [
    "### b) Base Decision Tree"
   ],
   "metadata": {
    "collapsed": false
   }
  },
  {
   "cell_type": "code",
   "execution_count": 16,
   "outputs": [],
   "source": [
    "clf_basetree = DecisionTreeClassifier()\n",
    "clf_basetree.fit(X_train, y_train)\n",
    "clf_y_pred_basetree = clf_basetree.predict(X_test)"
   ],
   "metadata": {
    "collapsed": false,
    "pycharm": {
     "name": "#%%\n"
    }
   }
  },
  {
   "cell_type": "markdown",
   "source": [
    "### c) Best Decision Tree - GridSearch for Best Parameters"
   ],
   "metadata": {
    "collapsed": false
   }
  },
  {
   "cell_type": "code",
   "execution_count": 17,
   "outputs": [
    {
     "data": {
      "text/plain": "\"tree_param = {'criterion':['gini','entropy'],\\n             'splitter':['random','best'], # Best: default = ”best”\\n             'max_depth':range(1,10), # Best: default = None\\n             'min_samples_split':range(2,10), # Best: default = 2\\n             'min_samples_leaf':range(1,5), # Best: default = 1\\n             }\""
     },
     "execution_count": 17,
     "metadata": {},
     "output_type": "execute_result"
    }
   ],
   "source": [
    "# TESTED PARAMETERS:\n",
    "# Most parameters caused no gain from defaults.\n",
    "# Only criterion & splitter non-defaults increase results.\n",
    "# (criterion default=”gini”, splitter default=”best”)\n",
    "'''tree_param = {'criterion':['gini','entropy'],\n",
    "             'splitter':['random','best'], # Best: default = ”best”\n",
    "             'max_depth':range(1,10), # Best: default = None\n",
    "             'min_samples_split':range(2,10), # Best: default = 2\n",
    "             'min_samples_leaf':range(1,5), # Best: default = 1\n",
    "             }'''"
   ],
   "metadata": {
    "collapsed": false,
    "pycharm": {
     "name": "#%%\n"
    }
   }
  },
  {
   "cell_type": "code",
   "execution_count": 18,
   "outputs": [],
   "source": [
    "tree_param = {'criterion':['gini','entropy'],\n",
    "             'splitter':['random','best'],\n",
    "             }\n",
    "clf_testtree = GridSearchCV(DecisionTreeClassifier(),\n",
    "                    param_grid=tree_param,\n",
    "                    cv=5,\n",
    "                    verbose=1,\n",
    "                    n_jobs=-1)"
   ],
   "metadata": {
    "collapsed": false,
    "pycharm": {
     "name": "#%%\n"
    }
   }
  },
  {
   "cell_type": "code",
   "execution_count": 19,
   "outputs": [
    {
     "name": "stdout",
     "output_type": "stream",
     "text": [
      "Fitting 5 folds for each of 4 candidates, totalling 20 fits\n"
     ]
    },
    {
     "name": "stderr",
     "output_type": "stream",
     "text": [
      "[Parallel(n_jobs=-1)]: Using backend LokyBackend with 12 concurrent workers.\n",
      "[Parallel(n_jobs=-1)]: Done  18 out of  20 | elapsed:    9.6s remaining:    1.0s\n",
      "[Parallel(n_jobs=-1)]: Done  20 out of  20 | elapsed:    9.7s finished\n"
     ]
    },
    {
     "data": {
      "text/plain": "GridSearchCV(cv=5, estimator=DecisionTreeClassifier(), n_jobs=-1,\n             param_grid={'criterion': ['gini', 'entropy'],\n                         'splitter': ['random', 'best']},\n             verbose=1)"
     },
     "execution_count": 19,
     "metadata": {},
     "output_type": "execute_result"
    }
   ],
   "source": [
    "clf_testtree.fit(X_train, y_train)"
   ],
   "metadata": {
    "collapsed": false,
    "pycharm": {
     "name": "#%%\n"
    }
   }
  },
  {
   "cell_type": "code",
   "execution_count": 20,
   "outputs": [
    {
     "data": {
      "text/plain": "0.720385986130515"
     },
     "execution_count": 20,
     "metadata": {},
     "output_type": "execute_result"
    }
   ],
   "source": [
    "clf_testtree.best_score_"
   ],
   "metadata": {
    "collapsed": false,
    "pycharm": {
     "name": "#%%\n"
    }
   }
  },
  {
   "cell_type": "code",
   "execution_count": 21,
   "outputs": [
    {
     "data": {
      "text/plain": "{'criterion': 'entropy', 'splitter': 'random'}"
     },
     "execution_count": 21,
     "metadata": {},
     "output_type": "execute_result"
    }
   ],
   "source": [
    "clf_testtree.best_params_"
   ],
   "metadata": {
    "collapsed": false,
    "pycharm": {
     "name": "#%%\n"
    }
   }
  },
  {
   "cell_type": "markdown",
   "source": [
    "### c) Best Decision Tree"
   ],
   "metadata": {
    "collapsed": false
   }
  },
  {
   "cell_type": "code",
   "execution_count": 22,
   "outputs": [],
   "source": [
    "clf_besttree = clf_testtree.best_estimator_\n",
    "clf_besttree.fit(X_train, y_train)\n",
    "clf_y_pred_besttree = clf_besttree.predict(X_test)"
   ],
   "metadata": {
    "collapsed": false,
    "pycharm": {
     "name": "#%%\n"
    }
   }
  },
  {
   "cell_type": "markdown",
   "source": [
    "## Task 3: Output to Files:\n",
    "#### - a) Row Number of Instance, Index of Predicted Class\n",
    "#### - b) Confusion Matrix\n",
    "#### - c) Classification Report\n",
    "#### - d) Accuracy"
   ],
   "metadata": {
    "collapsed": false
   }
  },
  {
   "cell_type": "code",
   "execution_count": 23,
   "outputs": [],
   "source": [
    "def write_to_file (filename, preds, con_mx, class_report, acc):\n",
    "    i = 0\n",
    "    out = 'a) Row Number of Instance, Index of Predicted Class\\n'\n",
    "    for pred in preds:\n",
    "        out += str(i) + \", \" + pred +'\\n'\n",
    "        i += 1\n",
    "    out += '\\nb) Confusion Matrix\\n'\n",
    "    out += str(con_mx)\n",
    "    out += '\\n\\nc) Classification Report\\n'\n",
    "    out += str(class_report)\n",
    "    out += '\\nd) Accuracy\\n'\n",
    "    out += str(acc)\n",
    "    with open(filename, 'w') as f:\n",
    "        f.write(out)"
   ],
   "metadata": {
    "collapsed": false,
    "pycharm": {
     "name": "#%%\n"
    }
   }
  },
  {
   "cell_type": "code",
   "execution_count": 24,
   "outputs": [],
   "source": [
    "# Generate Optimal Naive Bayes Metrics\n",
    "clf_mtx_optnb = confusion_matrix(y_test, clf_y_pred_optnb)\n",
    "clf_rep_optnb = classification_report(y_test, clf_y_pred_optnb)\n",
    "clf_acc_optnb = accuracy_score(y_test, clf_y_pred_optnb)\n",
    "# Generate Base-DT Metrics\n",
    "clf_mtx_basetree = confusion_matrix(y_test, clf_y_pred_basetree)\n",
    "clf_rep_basetree = classification_report(y_test, clf_y_pred_basetree)\n",
    "clf_acc_basetree = accuracy_score(y_test, clf_y_pred_basetree)\n",
    "# Generate Best-DT Metrics\n",
    "clf_mtx_besttree = confusion_matrix(y_test, clf_y_pred_besttree)\n",
    "clf_rep_besttree = classification_report(y_test, clf_y_pred_besttree)\n",
    "clf_acc_besttree = accuracy_score(y_test, clf_y_pred_besttree)"
   ],
   "metadata": {
    "collapsed": false,
    "pycharm": {
     "name": "#%%\n"
    }
   }
  },
  {
   "cell_type": "code",
   "execution_count": 25,
   "outputs": [],
   "source": [
    "# MultinomialNB Write to File\n",
    "write_to_file(\"MultinomialNB-Reviews.txt\", clf_y_pred_optnb, clf_mtx_optnb, clf_rep_optnb, clf_acc_optnb)"
   ],
   "metadata": {
    "collapsed": false,
    "pycharm": {
     "name": "#%%\n"
    }
   }
  },
  {
   "cell_type": "code",
   "execution_count": 26,
   "outputs": [],
   "source": [
    "# Base-DT Write to File\n",
    "write_to_file(\"Base-DT-Reviews.txt\", clf_y_pred_basetree, clf_mtx_basetree, clf_rep_basetree, clf_acc_basetree)"
   ],
   "metadata": {
    "collapsed": false,
    "pycharm": {
     "name": "#%%\n"
    }
   }
  },
  {
   "cell_type": "code",
   "execution_count": 27,
   "outputs": [],
   "source": [
    "# Best-DT Write to File\n",
    "write_to_file(\"Best-DT-Reviews.txt\", clf_y_pred_besttree, clf_mtx_besttree, clf_rep_besttree, clf_acc_besttree)"
   ],
   "metadata": {
    "collapsed": false,
    "pycharm": {
     "name": "#%%\n"
    }
   }
  },
  {
   "cell_type": "markdown",
   "source": [
    "## Task 4: Error Analysis"
   ],
   "metadata": {
    "collapsed": false
   }
  },
  {
   "cell_type": "markdown",
   "source": [
    "#### Smoothing value for Naive Bayes classifier\n",
    "Setting the smoothing to a near-zero value results in a f1 score of 0.71. As the smoothing value increases (up to 1),\n",
    "the score goes up to 0.83.\n",
    "\n",
    "This is due to the data set for validation likely containing words that aren't in the training set,\n",
    "and without a smoothing value it results in a 0% probability for that word being in any of the labels."
   ],
   "metadata": {
    "collapsed": false
   }
  },
  {
   "cell_type": "markdown",
   "source": [
    "#### The entropy parameter worked best for the decision tree\n",
    "The gini criterion is much faster because it is less computationally expensive.\n",
    "However, the obtained results using the entropy criterion are slightly better.\n",
    "As the results are so similar, it does not seem to be worth the time invested in training when using the entropy criterion."
   ],
   "metadata": {
    "collapsed": false
   }
  },
  {
   "cell_type": "markdown",
   "source": [
    "#### The random parameter worked best for the decision tree\n",
    "Setting the splitter for the decision tree to randomly choose the most important features instead of deciding which\n",
    "are the most imported yielded more precise results with the validation set.\n",
    "\n",
    "This could be due to the 'best' splitter method causing some overfitting with the model, in which the model arranged\n",
    "the tree in a way that made it unable to generalize the data to unseen sets."
   ],
   "metadata": {
    "collapsed": false
   }
  },
  {
   "cell_type": "code",
   "execution_count": 28,
   "outputs": [],
   "source": [
    "# split results again but on docs, to get a list of test docs\n",
    "X_train_doc, X_test_doc, y_train_doc, y_test_doc = train_test_split(all_features, df.docs,\n",
    "                                                    test_size=0.2, random_state=88)"
   ],
   "metadata": {
    "collapsed": false,
    "pycharm": {
     "name": "#%%\n"
    }
   }
  },
  {
   "cell_type": "code",
   "execution_count": 33,
   "outputs": [
    {
     "data": {
      "text/plain": "\"\\nfor row_index, (doc, inpt, prediction, label) in enumerate(zip (y_test_doc, X_test, clf_y_pred_optnb, y_test)):\\n  if prediction != label:\\n    print('Row', row_index, 'has been classified as', prediction, 'and should be', label)\\n    print(doc)\\n\""
     },
     "execution_count": 33,
     "metadata": {},
     "output_type": "execute_result"
    }
   ],
   "source": [
    "# Uncomment to show Wrong Predictions\n",
    "'''\n",
    "for row_index, (doc, inpt, prediction, label) in enumerate(zip (y_test_doc, X_test, clf_y_pred_optnb, y_test)):\n",
    "  if prediction != label:\n",
    "    print('Row', row_index, 'has been classified as', prediction, 'and should be', label)\n",
    "    print(doc)\n",
    "'''"
   ],
   "metadata": {
    "collapsed": false,
    "pycharm": {
     "name": "#%%\n"
    }
   }
  },
  {
   "cell_type": "markdown",
   "source": [
    "### Incorrect Row Classification Examples\n",
    "#### Row 1563 has been classified as neg and should be pos\n",
    "'i found i did enjoy this movie , even though the director took liberties . it does n't follow so much the novel by jane austen , but if you have n't read the book and are unable to do the comparisons , this movie is enjoyable . i gave 4 stars because of the liberties taken by the director , but did like what i saw'"
   ],
   "metadata": {
    "collapsed": false
   }
  },
  {
   "cell_type": "markdown",
   "source": [
    "This is a positive review which includes a healthy amount of the negatives that the reviewer had, despite overall being positive on the movie."
   ],
   "metadata": {
    "collapsed": false
   }
  },
  {
   "cell_type": "markdown",
   "source": [
    "#### Row 89 has been classified as pos and should be neg\n",
    "'it 's loud . you ca n't hear the lyrics nor the words . just a lot of loud noise . great if you want to damage your hearing'"
   ],
   "metadata": {
    "collapsed": false
   }
  },
  {
   "cell_type": "markdown",
   "source": [
    "This is clearly an example is misclassifying sarcasm as positive when it's clearly negative to a human reader."
   ],
   "metadata": {
    "collapsed": false
   }
  },
  {
   "cell_type": "markdown",
   "source": [
    "#### Row 2022 has been classified as neg and should be pos"
   ],
   "metadata": {
    "collapsed": false
   }
  },
  {
   "cell_type": "markdown",
   "source": [
    "'la pelicula es mas o menos , pero la banda sonora es buena , en especial la cancion #1 crush de garbage , es una excelente cancion.. .'"
   ],
   "metadata": {
    "collapsed": false
   }
  },
  {
   "cell_type": "markdown",
   "source": [
    "This result is perhaps due to the lack of Spanish examples to train upon leading to inaccuracy. Additionally, the review discusses the song titled \"Garbage\", which could lead to negative results."
   ],
   "metadata": {
    "collapsed": false,
    "pycharm": {
     "name": "#%% md\n"
    }
   }
  },
  {
   "cell_type": "markdown",
   "source": [
    "#### Row 185 has been classified as pos and should be neg"
   ],
   "metadata": {
    "collapsed": false
   }
  },
  {
   "cell_type": "markdown",
   "source": [
    "'i love this band and have all the rest of their cds '"
   ],
   "metadata": {
    "collapsed": false
   }
  },
  {
   "cell_type": "markdown",
   "source": [
    "It's possible the review has been mislabeled, such as the reviewer misclicking Negative when he meant to give it a Positive score. Even a human would understand this review as a positive comment, after all."
   ],
   "metadata": {
    "collapsed": false,
    "pycharm": {
     "name": "#%% md\n"
    }
   }
  },
  {
   "cell_type": "code",
   "execution_count": null,
   "outputs": [],
   "source": [],
   "metadata": {
    "collapsed": false,
    "pycharm": {
     "name": "#%%\n"
    }
   }
  }
 ],
 "metadata": {
  "kernelspec": {
   "name": "python3",
   "language": "python",
   "display_name": "Python 3"
  },
  "language_info": {
   "codemirror_mode": {
    "name": "ipython",
    "version": 2
   },
   "file_extension": ".py",
   "mimetype": "text/x-python",
   "name": "python",
   "nbconvert_exporter": "python",
   "pygments_lexer": "ipython2",
   "version": "2.7.6"
  }
 },
 "nbformat": 4,
 "nbformat_minor": 0
}
