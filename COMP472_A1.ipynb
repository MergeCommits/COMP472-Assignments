{
 "cells": [
  {
   "cell_type": "code",
   "execution_count": 185,
   "outputs": [],
   "source": [
    "import pandas as pd\n",
    "from codecs import open\n",
    "import sklearn\n",
    "from sklearn.feature_extraction.text import CountVectorizer, TfidfTransformer\n",
    "from sklearn.model_selection import train_test_split, GridSearchCV\n",
    "from sklearn.naive_bayes import MultinomialNB\n",
    "from sklearn.pipeline import Pipeline\n",
    "from sklearn.tree import DecisionTreeClassifier\n",
    "from sklearn.metrics import accuracy_score, confusion_matrix, classification_report\n",
    "import matplotlib.pyplot as plt\n",
    "import seaborn as sns\n",
    "import sys\n",
    "\n",
    "#from __future__ import division\n",
    "#from sklearn import tree\n",
    "\n",
    "# explicitly require this experimental feature\n",
    "#from sklearn.experimental import enable_halving_search_cv # noqa\n",
    "# now you can import normally from model_selection\n",
    "#from sklearn.model_selection import HalvingGridSearchCV"
   ],
   "metadata": {
    "collapsed": false,
    "pycharm": {
     "name": "#%%\n"
    }
   }
  },
  {
   "cell_type": "markdown",
   "source": [
    "## Read the entire collection"
   ],
   "metadata": {
    "collapsed": false
   }
  },
  {
   "cell_type": "code",
   "execution_count": 2,
   "outputs": [],
   "source": [
    "# function to read documents\n",
    "def read_documents(doc_file):\n",
    "    docs = []\n",
    "    labels = []\n",
    "    with open(doc_file, encoding='utf-8') as f:\n",
    "        for line in f:\n",
    "            words = line.strip().split(\" \")\n",
    "            labels.append(words[1])\n",
    "            docs.append(' '.join(line.split(\" \")[3:]))\n",
    "    return docs, labels"
   ],
   "metadata": {
    "collapsed": false,
    "pycharm": {
     "name": "#%%\n"
    }
   }
  },
  {
   "cell_type": "code",
   "execution_count": 3,
   "outputs": [],
   "source": [
    "# Read doc\n",
    "all_docs, all_labels = read_documents('all_sentiment_shuffled.txt')\n",
    "# Convert to DataFrame\n",
    "df = pd.DataFrame({'labels': all_labels,\n",
    "                          'docs': all_docs})\n",
    "# Convert a collection of text documents to a matrix of token counts\n",
    "# Stop words are words like “and”, “the”, “him”, which are presumed to be\n",
    "# uninformative in representing the content of a text, and which may be removed\n",
    "# to avoid them being construed as signal for prediction.\n",
    "# https://scikit-learn.org/stable/modules/feature_extraction.html#stop-words\n",
    "vectorizer = CountVectorizer(stop_words='english')\n",
    "# Learn the vocabulary dictionary and return document-term matrix\n",
    "all_features = vectorizer.fit_transform(df.docs)"
   ],
   "metadata": {
    "collapsed": false,
    "pycharm": {
     "name": "#%%\n"
    }
   }
  },
  {
   "cell_type": "markdown",
   "source": [
    "## Task 0: Split Data into Training and Evaluation"
   ],
   "metadata": {
    "collapsed": false
   }
  },
  {
   "cell_type": "code",
   "execution_count": 4,
   "outputs": [],
   "source": [
    "# Split arrays or matrices into random train and test subsets\n",
    "# Use 80% for training and the remainder for evaluation\n",
    "X_train, X_test, y_train, y_test = train_test_split(all_features, df.labels,\n",
    "                                                    test_size=0.2, random_state=88)"
   ],
   "metadata": {
    "collapsed": false,
    "pycharm": {
     "name": "#%%\n"
    }
   }
  },
  {
   "cell_type": "markdown",
   "source": [
    "## Task 1: Plot Distribution of # of Instances in each Class"
   ],
   "metadata": {
    "collapsed": false,
    "pycharm": {
     "name": "#%% md\n"
    }
   }
  },
  {
   "cell_type": "code",
   "execution_count": 5,
   "outputs": [
    {
     "data": {
      "text/plain": "<Figure size 432x288 with 1 Axes>",
      "image/png": "[encoded data removed]"
     },
     "metadata": {},
     "output_type": "display_data"
    }
   ],
   "source": [
    "sns.set_theme() # Apply the default theme\n",
    "sns.set_style('darkgrid') # Set Seaborn style\n",
    "# Construct plot\n",
    "sns.countplot(data = df, x = 'labels')\n",
    "plt.show()"
   ],
   "metadata": {
    "collapsed": false,
    "pycharm": {
     "name": "#%%\n"
    }
   }
  },
  {
   "cell_type": "code",
   "execution_count": 6,
   "outputs": [
    {
     "name": "stdout",
     "output_type": "stream",
     "text": [
      "Number of Instances of Each Class: neg = 5914, pos = 6000\n"
     ]
    }
   ],
   "source": [
    "pos_len = len(df.loc[df['labels'] == 'pos'])\n",
    "neg_len = len(df.loc[df['labels'] == 'neg'])\n",
    "print('Number of Instances of Each Class: neg = ' + str(neg_len) + ', pos = ' + str(pos_len))"
   ],
   "metadata": {
    "collapsed": false,
    "pycharm": {
     "name": "#%%\n"
    }
   }
  },
  {
   "cell_type": "markdown",
   "source": [
    "## Task 2: Run 3 different ML models:"
   ],
   "metadata": {
    "collapsed": false,
    "pycharm": {
     "name": "#%% md\n"
    }
   }
  },
  {
   "cell_type": "markdown",
   "source": [
    "### alt1) Naive Bayes Classifier (default)"
   ],
   "metadata": {
    "collapsed": false
   }
  },
  {
   "cell_type": "code",
   "execution_count": 7,
   "outputs": [],
   "source": [
    "clf_defnb = MultinomialNB()\n",
    "clf_defnb.fit(X_train, y_train)\n",
    "clf_y_pred_defnb = clf_defnb.predict(X_test)"
   ],
   "metadata": {
    "collapsed": false,
    "pycharm": {
     "name": "#%%\n"
    }
   }
  },
  {
   "cell_type": "markdown",
   "source": [
    "#### - b) Confusion Matrix"
   ],
   "metadata": {
    "collapsed": false
   }
  },
  {
   "cell_type": "code",
   "execution_count": 8,
   "outputs": [
    {
     "name": "stdout",
     "output_type": "stream",
     "text": [
      "Confusion Matrix:\n",
      " [[1001  196]\n",
      " [ 238  948]]\n"
     ]
    }
   ],
   "source": [
    "conf_mtx_defnb = confusion_matrix(y_test, clf_y_pred_defnb)\n",
    "print('Confusion Matrix:\\n', conf_mtx_defnb)"
   ],
   "metadata": {
    "collapsed": false,
    "pycharm": {
     "name": "#%%\n"
    }
   }
  },
  {
   "cell_type": "markdown",
   "source": [
    "#### - c) Classification Report"
   ],
   "metadata": {
    "collapsed": false
   }
  },
  {
   "cell_type": "code",
   "execution_count": 9,
   "outputs": [
    {
     "name": "stdout",
     "output_type": "stream",
     "text": [
      "Classification Report:\n",
      "               precision    recall  f1-score   support\n",
      "\n",
      "         neg       0.81      0.84      0.82      1197\n",
      "         pos       0.83      0.80      0.81      1186\n",
      "\n",
      "    accuracy                           0.82      2383\n",
      "   macro avg       0.82      0.82      0.82      2383\n",
      "weighted avg       0.82      0.82      0.82      2383\n",
      "\n"
     ]
    }
   ],
   "source": [
    "clf_rep_defnb = classification_report(y_test, clf_y_pred_defnb)\n",
    "print('Classification Report:\\n', clf_rep_defnb)"
   ],
   "metadata": {
    "collapsed": false,
    "pycharm": {
     "name": "#%%\n"
    }
   }
  },
  {
   "cell_type": "markdown",
   "source": [
    "#### - d) Accuracy"
   ],
   "metadata": {
    "collapsed": false
   }
  },
  {
   "cell_type": "code",
   "execution_count": 10,
   "outputs": [
    {
     "name": "stdout",
     "output_type": "stream",
     "text": [
      "Accuracy: 0.8178766261015527\n"
     ]
    }
   ],
   "source": [
    "clf_acc_defnb = accuracy_score(y_test, clf_y_pred_defnb)\n",
    "print('Accuracy:', clf_acc_defnb)"
   ],
   "metadata": {
    "collapsed": false,
    "pycharm": {
     "name": "#%%\n"
    }
   }
  },
  {
   "cell_type": "markdown",
   "source": [
    "### alt2) Naive Bayes Classifier (worst ~= 0 smoothing)"
   ],
   "metadata": {
    "collapsed": false
   }
  },
  {
   "cell_type": "code",
   "execution_count": 11,
   "outputs": [],
   "source": [
    "clf_badnb = MultinomialNB(alpha=0.0000000001)\n",
    "clf_badnb.fit(X_train, y_train)\n",
    "clf_y_pred_badnb = clf_badnb.predict(X_test)"
   ],
   "metadata": {
    "collapsed": false,
    "pycharm": {
     "name": "#%%\n"
    }
   }
  },
  {
   "cell_type": "markdown",
   "source": [
    "#### - b) Confusion Matrix"
   ],
   "metadata": {
    "collapsed": false
   }
  },
  {
   "cell_type": "code",
   "execution_count": 12,
   "outputs": [
    {
     "name": "stdout",
     "output_type": "stream",
     "text": [
      "Confusion Matrix:\n",
      " [[876 321]\n",
      " [347 839]]\n"
     ]
    }
   ],
   "source": [
    "conf_mtx_badnb = confusion_matrix(y_test, clf_y_pred_badnb)\n",
    "print('Confusion Matrix:\\n', conf_mtx_badnb)"
   ],
   "metadata": {
    "collapsed": false,
    "pycharm": {
     "name": "#%%\n"
    }
   }
  },
  {
   "cell_type": "markdown",
   "source": [
    "#### - c) Classification Report"
   ],
   "metadata": {
    "collapsed": false
   }
  },
  {
   "cell_type": "code",
   "execution_count": 13,
   "outputs": [
    {
     "name": "stdout",
     "output_type": "stream",
     "text": [
      "Classification Report:\n",
      "               precision    recall  f1-score   support\n",
      "\n",
      "         neg       0.72      0.73      0.72      1197\n",
      "         pos       0.72      0.71      0.72      1186\n",
      "\n",
      "    accuracy                           0.72      2383\n",
      "   macro avg       0.72      0.72      0.72      2383\n",
      "weighted avg       0.72      0.72      0.72      2383\n",
      "\n"
     ]
    }
   ],
   "source": [
    "clf_rep_badnb = classification_report(y_test, clf_y_pred_badnb)\n",
    "print('Classification Report:\\n', clf_rep_badnb)"
   ],
   "metadata": {
    "collapsed": false,
    "pycharm": {
     "name": "#%%\n"
    }
   }
  },
  {
   "cell_type": "markdown",
   "source": [
    "#### - d) Accuracy"
   ],
   "metadata": {
    "collapsed": false
   }
  },
  {
   "cell_type": "code",
   "execution_count": 14,
   "outputs": [
    {
     "name": "stdout",
     "output_type": "stream",
     "text": [
      "Accuracy: 0.7196810742761225\n"
     ]
    }
   ],
   "source": [
    "clf_acc_badnb = accuracy_score(y_test, clf_y_pred_badnb)\n",
    "print('Accuracy:', clf_acc_badnb)"
   ],
   "metadata": {
    "collapsed": false,
    "pycharm": {
     "name": "#%%\n"
    }
   }
  },
  {
   "cell_type": "markdown",
   "source": [
    "### a) Naive Bayes Classifier (optimal = 5 smoothing)"
   ],
   "metadata": {
    "collapsed": false
   }
  },
  {
   "cell_type": "code",
   "source": [
    "clf_optnb = MultinomialNB(alpha=5)\n",
    "clf_optnb.fit(X_train, y_train)\n",
    "clf_y_pred_optnb = clf_optnb.predict(X_test)"
   ],
   "metadata": {
    "collapsed": false,
    "pycharm": {
     "name": "#%%\n"
    }
   },
   "execution_count": 15,
   "outputs": []
  },
  {
   "cell_type": "markdown",
   "source": [
    "### b) Base Decision Tree"
   ],
   "metadata": {
    "collapsed": false
   }
  },
  {
   "cell_type": "code",
   "execution_count": 19,
   "outputs": [],
   "source": [
    "clf_basetree = DecisionTreeClassifier()\n",
    "clf_basetree.fit(X_train, y_train)\n",
    "clf_y_pred_basetree = clf_basetree.predict(X_test)"
   ],
   "metadata": {
    "collapsed": false,
    "pycharm": {
     "name": "#%%\n"
    }
   }
  },
  {
   "cell_type": "markdown",
   "source": [
    "#### - c) Classification Report"
   ],
   "metadata": {
    "collapsed": false
   }
  },
  {
   "cell_type": "code",
   "execution_count": 20,
   "outputs": [
    {
     "name": "stdout",
     "output_type": "stream",
     "text": [
      "Classification Report:\n",
      "               precision    recall  f1-score   support\n",
      "\n",
      "         neg       0.81      0.85      0.83      1197\n",
      "         pos       0.84      0.80      0.82      1186\n",
      "\n",
      "    accuracy                           0.82      2383\n",
      "   macro avg       0.82      0.82      0.82      2383\n",
      "weighted avg       0.82      0.82      0.82      2383\n",
      "\n"
     ]
    }
   ],
   "source": [
    "clf_rep_basetree = classification_report(y_test, clf_y_pred_optnb)\n",
    "print('Classification Report:\\n', clf_rep_basetree)"
   ],
   "metadata": {
    "collapsed": false,
    "pycharm": {
     "name": "#%%\n"
    }
   }
  },
  {
   "cell_type": "markdown",
   "source": [
    "#### - d) Accuracy"
   ],
   "metadata": {
    "collapsed": false
   }
  },
  {
   "cell_type": "code",
   "execution_count": 21,
   "outputs": [
    {
     "name": "stdout",
     "output_type": "stream",
     "text": [
      "Accuracy: 0.7230381871590432\n"
     ]
    }
   ],
   "source": [
    "clf_acc_basetree = accuracy_score(y_test, clf_y_pred_basetree)\n",
    "print('Accuracy:', clf_acc_basetree)"
   ],
   "metadata": {
    "collapsed": false,
    "pycharm": {
     "name": "#%%\n"
    }
   }
  },
  {
   "cell_type": "markdown",
   "source": [
    "### c) Best Decision Tree - GridSearch for Best Parameters"
   ],
   "metadata": {
    "collapsed": false
   }
  },
  {
   "cell_type": "code",
   "execution_count": 114,
   "outputs": [
    {
     "data": {
      "text/plain": "\"tree_param = {'criterion':['gini','entropy'],\\n             'splitter':['random','best'], # Best: default = ”best”\\n             'max_depth':range(1,10), # Best: default = None\\n             'min_samples_split':range(2,10), # Best: default = 2\\n             'min_samples_leaf':range(1,5), # Best: default = 1\\n             }\""
     },
     "execution_count": 114,
     "metadata": {},
     "output_type": "execute_result"
    }
   ],
   "source": [
    "# poor params, only criterion & splitter non-defaults increase results\n",
    "# criterion default=”gini”, splitter default=”best”\n",
    "'''tree_param = {'criterion':['gini','entropy'],\n",
    "             'splitter':['random','best'], # Best: default = ”best”\n",
    "             'max_depth':range(1,10), # Best: default = None\n",
    "             'min_samples_split':range(2,10), # Best: default = 2\n",
    "             'min_samples_leaf':range(1,5), # Best: default = 1\n",
    "             }'''"
   ],
   "metadata": {
    "collapsed": false,
    "pycharm": {
     "name": "#%%\n"
    }
   }
  },
  {
   "cell_type": "code",
   "execution_count": 142,
   "outputs": [],
   "source": [
    "tree_param = {'criterion':['gini','entropy'],\n",
    "             'splitter':['random','best'],\n",
    "             }"
   ],
   "metadata": {
    "collapsed": false,
    "pycharm": {
     "name": "#%%\n"
    }
   }
  },
  {
   "cell_type": "code",
   "execution_count": 143,
   "outputs": [],
   "source": [
    "clf_testtree = GridSearchCV(DecisionTreeClassifier(),\n",
    "                    param_grid=tree_param,\n",
    "                    cv=5,\n",
    "                    verbose=1,\n",
    "                    n_jobs=-1)"
   ],
   "metadata": {
    "collapsed": false,
    "pycharm": {
     "name": "#%%\n"
    }
   }
  },
  {
   "cell_type": "code",
   "execution_count": 145,
   "outputs": [
    {
     "name": "stdout",
     "output_type": "stream",
     "text": [
      "Fitting 5 folds for each of 4 candidates, totalling 20 fits\n"
     ]
    },
    {
     "name": "stderr",
     "output_type": "stream",
     "text": [
      "[Parallel(n_jobs=-1)]: Using backend LokyBackend with 12 concurrent workers.\n",
      "[Parallel(n_jobs=-1)]: Done  18 out of  20 | elapsed:    9.9s remaining:    1.0s\n",
      "[Parallel(n_jobs=-1)]: Done  20 out of  20 | elapsed:    9.9s finished\n"
     ]
    },
    {
     "data": {
      "text/plain": "GridSearchCV(cv=5, estimator=DecisionTreeClassifier(), n_jobs=-1,\n             param_grid={'criterion': ['gini', 'entropy'],\n                         'splitter': ['random', 'best']},\n             verbose=1)"
     },
     "execution_count": 145,
     "metadata": {},
     "output_type": "execute_result"
    }
   ],
   "source": [
    "clf_testtree.fit(X_train, y_train)"
   ],
   "metadata": {
    "collapsed": false,
    "pycharm": {
     "name": "#%%\n"
    }
   }
  },
  {
   "cell_type": "code",
   "execution_count": 146,
   "outputs": [
    {
     "data": {
      "text/plain": "0.7183935476025534"
     },
     "execution_count": 146,
     "metadata": {},
     "output_type": "execute_result"
    }
   ],
   "source": [
    "clf_testtree.best_score_"
   ],
   "metadata": {
    "collapsed": false,
    "pycharm": {
     "name": "#%%\n"
    }
   }
  },
  {
   "cell_type": "code",
   "execution_count": 147,
   "outputs": [
    {
     "data": {
      "text/plain": "{'criterion': 'entropy', 'splitter': 'random'}"
     },
     "execution_count": 147,
     "metadata": {},
     "output_type": "execute_result"
    }
   ],
   "source": [
    "clf_testtree.best_params_"
   ],
   "metadata": {
    "collapsed": false,
    "pycharm": {
     "name": "#%%\n"
    }
   }
  },
  {
   "cell_type": "markdown",
   "source": [
    "### c) Best Decision Tree"
   ],
   "metadata": {
    "collapsed": false
   }
  },
  {
   "cell_type": "code",
   "execution_count": 148,
   "outputs": [],
   "source": [
    "clf_besttree = clf_testtree.best_estimator_\n",
    "clf_besttree.fit(X_train, y_train)\n",
    "clf_y_pred_besttree = clf_besttree.predict(X_test)"
   ],
   "metadata": {
    "collapsed": false,
    "pycharm": {
     "name": "#%%\n"
    }
   }
  },
  {
   "cell_type": "markdown",
   "source": [
    "#### - c) Classification Report"
   ],
   "metadata": {
    "collapsed": false
   }
  },
  {
   "cell_type": "code",
   "execution_count": 149,
   "outputs": [
    {
     "name": "stdout",
     "output_type": "stream",
     "text": [
      "Classification Report:\n",
      "               precision    recall  f1-score   support\n",
      "\n",
      "         neg       0.72      0.75      0.73      1197\n",
      "         pos       0.74      0.70      0.72      1186\n",
      "\n",
      "    accuracy                           0.73      2383\n",
      "   macro avg       0.73      0.73      0.72      2383\n",
      "weighted avg       0.73      0.73      0.72      2383\n",
      "\n"
     ]
    }
   ],
   "source": [
    "clf_rep_besttree = classification_report(y_test, clf_y_pred_besttree)\n",
    "print('Classification Report:\\n', clf_rep_besttree)"
   ],
   "metadata": {
    "collapsed": false,
    "pycharm": {
     "name": "#%%\n"
    }
   }
  },
  {
   "cell_type": "markdown",
   "source": [
    "#### - d) Accuracy"
   ],
   "metadata": {
    "collapsed": false
   }
  },
  {
   "cell_type": "code",
   "execution_count": 150,
   "outputs": [
    {
     "name": "stdout",
     "output_type": "stream",
     "text": [
      "Accuracy: 0.7251363827108687\n"
     ]
    }
   ],
   "source": [
    "clf_acc_besttree = accuracy_score(y_test, clf_y_pred_besttree)\n",
    "print('Accuracy:', clf_acc_besttree)"
   ],
   "metadata": {
    "collapsed": false,
    "pycharm": {
     "name": "#%%\n"
    }
   }
  },
  {
   "cell_type": "markdown",
   "source": [
    "## Task 3: Output to Files:\n",
    "#### - a) Row Number of Instance, Index of Predicted Class"
   ],
   "metadata": {
    "collapsed": false
   }
  },
  {
   "cell_type": "code",
   "execution_count": null,
   "outputs": [],
   "source": [
    "i = 0\n",
    "for pred in clf_y_pred_optnb:\n",
    "    print(str(i) + \", \" + pred)\n",
    "    i += 1"
   ],
   "metadata": {
    "collapsed": false,
    "pycharm": {
     "name": "#%%\n"
    }
   }
  },
  {
   "cell_type": "markdown",
   "source": [
    "#### - b) Confusion Matrix"
   ],
   "metadata": {
    "collapsed": false
   }
  },
  {
   "cell_type": "code",
   "execution_count": null,
   "outputs": [],
   "source": [
    "conf_mtx_optnb = confusion_matrix(y_test, clf_y_pred_optnb)\n",
    "print(conf_mtx_optnb)"
   ],
   "metadata": {
    "collapsed": false,
    "pycharm": {
     "name": "#%%\n"
    }
   }
  },
  {
   "cell_type": "markdown",
   "source": [
    "#### - c) Classification Report"
   ],
   "metadata": {
    "collapsed": false
   }
  },
  {
   "cell_type": "code",
   "execution_count": 187,
   "outputs": [
    {
     "name": "stdout",
     "output_type": "stream",
     "text": [
      "              precision    recall  f1-score   support\n",
      "\n",
      "         neg       0.81      0.85      0.83      1197\n",
      "         pos       0.84      0.80      0.82      1186\n",
      "\n",
      "    accuracy                           0.82      2383\n",
      "   macro avg       0.82      0.82      0.82      2383\n",
      "weighted avg       0.82      0.82      0.82      2383\n",
      "\n"
     ]
    }
   ],
   "source": [
    "clf_rep_optnb = classification_report(y_test, clf_y_pred_optnb)\n",
    "print(clf_rep_optnb)"
   ],
   "metadata": {
    "collapsed": false,
    "pycharm": {
     "name": "#%%\n"
    }
   }
  },
  {
   "cell_type": "code",
   "execution_count": 186,
   "outputs": [
    {
     "ename": "ValueError",
     "evalue": "Expected 1D or 2D array, got 0D array instead",
     "output_type": "error",
     "traceback": [
      "\u001B[1;31m---------------------------------------------------------------------------\u001B[0m",
      "\u001B[1;31mValueError\u001B[0m                                Traceback (most recent call last)",
      "\u001B[1;32m<ipython-input-186-1bbfb2a1467b>\u001B[0m in \u001B[0;36m<module>\u001B[1;34m\u001B[0m\n\u001B[1;32m----> 1\u001B[1;33m \u001B[0mnp\u001B[0m\u001B[1;33m.\u001B[0m\u001B[0msavetxt\u001B[0m\u001B[1;33m(\u001B[0m\u001B[1;34mr'MultinomialNB-Reviews.txt'\u001B[0m\u001B[1;33m,\u001B[0m \u001B[0mclf_rep_optnb\u001B[0m\u001B[1;33m,\u001B[0m \u001B[0mfmt\u001B[0m\u001B[1;33m=\u001B[0m\u001B[1;34m'%d'\u001B[0m\u001B[1;33m)\u001B[0m\u001B[1;33m\u001B[0m\u001B[1;33m\u001B[0m\u001B[0m\n\u001B[0m",
      "\u001B[1;32m<__array_function__ internals>\u001B[0m in \u001B[0;36msavetxt\u001B[1;34m(*args, **kwargs)\u001B[0m\n",
      "\u001B[1;32m~\\anaconda3\\envs\\COMP472_A1\\lib\\site-packages\\numpy\\lib\\npyio.py\u001B[0m in \u001B[0;36msavetxt\u001B[1;34m(fname, X, fmt, delimiter, newline, header, footer, comments, encoding)\u001B[0m\n\u001B[0;32m   1369\u001B[0m         \u001B[1;31m# Handle 1-dimensional arrays\u001B[0m\u001B[1;33m\u001B[0m\u001B[1;33m\u001B[0m\u001B[1;33m\u001B[0m\u001B[0m\n\u001B[0;32m   1370\u001B[0m         \u001B[1;32mif\u001B[0m \u001B[0mX\u001B[0m\u001B[1;33m.\u001B[0m\u001B[0mndim\u001B[0m \u001B[1;33m==\u001B[0m \u001B[1;36m0\u001B[0m \u001B[1;32mor\u001B[0m \u001B[0mX\u001B[0m\u001B[1;33m.\u001B[0m\u001B[0mndim\u001B[0m \u001B[1;33m>\u001B[0m \u001B[1;36m2\u001B[0m\u001B[1;33m:\u001B[0m\u001B[1;33m\u001B[0m\u001B[1;33m\u001B[0m\u001B[0m\n\u001B[1;32m-> 1371\u001B[1;33m             raise ValueError(\n\u001B[0m\u001B[0;32m   1372\u001B[0m                 \"Expected 1D or 2D array, got %dD array instead\" % X.ndim)\n\u001B[0;32m   1373\u001B[0m         \u001B[1;32melif\u001B[0m \u001B[0mX\u001B[0m\u001B[1;33m.\u001B[0m\u001B[0mndim\u001B[0m \u001B[1;33m==\u001B[0m \u001B[1;36m1\u001B[0m\u001B[1;33m:\u001B[0m\u001B[1;33m\u001B[0m\u001B[1;33m\u001B[0m\u001B[0m\n",
      "\u001B[1;31mValueError\u001B[0m: Expected 1D or 2D array, got 0D array instead"
     ]
    }
   ],
   "source": [
    "'''def write_to_file (filename, con_mx, class_report, acc):\n",
    "    with open(filename, 'w') as f:\n",
    "        import sys\n",
    "        # sys.stdout = f  # Change the standard output to the file we created.\n",
    "        ml_model = train_model(x_train, y_train, pipeline)\n",
    "        predict_eval_data(x_test, y_truth, ml_model)'''"
   ],
   "metadata": {
    "collapsed": false,
    "pycharm": {
     "name": "#%%\n"
    }
   }
  },
  {
   "cell_type": "markdown",
   "source": [
    "#### - d) Accuracy"
   ],
   "metadata": {
    "collapsed": false
   }
  },
  {
   "cell_type": "code",
   "execution_count": 152,
   "outputs": [
    {
     "name": "stdout",
     "output_type": "stream",
     "text": [
      "Accuracy  0.8224926563155686 ['pos' 'pos' 'neg' ... 'neg' 'pos' 'neg']\n"
     ]
    }
   ],
   "source": [
    "clf_acc_optnb = accuracy_score(y_test, clf_y_pred_optnb)\n",
    "print('Accuracy ', clf_acc_optnb, clf_y_pred_optnb)"
   ],
   "metadata": {
    "collapsed": false,
    "pycharm": {
     "name": "#%%\n"
    }
   }
  },
  {
   "cell_type": "markdown",
   "source": [
    "## Task 4: Error Analysis"
   ],
   "metadata": {
    "collapsed": false,
    "pycharm": {
     "name": "#%% md\n"
    }
   }
  },
  {
   "cell_type": "code",
   "execution_count": 179,
   "outputs": [],
   "source": [
    "\n",
    "X_train_doc, X_test_doc, y_train_doc, y_test_doc = train_test_split(all_features, df.docs,\n",
    "                                                    test_size=0.2, random_state=88)"
   ],
   "metadata": {
    "collapsed": false,
    "pycharm": {
     "name": "#%%\n"
    }
   }
  },
  {
   "cell_type": "code",
   "execution_count": 183,
   "outputs": [
    {
     "name": "stdout",
     "output_type": "stream",
     "text": [
      "Row 6 has been classified as neg and should be pos\n",
      "jewish soles trying to avoid the devil 's brigade ( hitler 's killing machine ) .... sad , but oh so funny and cute in sections that alas , maybe only the jewish people would truly understand . i found it all of these things but with love , warmth to the end \n",
      "\n",
      "Row 8 has been classified as pos and should be neg\n",
      "buddy holly has a number of collections that are superior to the one put out under the 20th century masters series . every one of the cds in this series is skimpy in content and superfluous . this one is no exception . look elsewhere \n",
      "\n",
      "Row 11 has been classified as neg and should be pos\n",
      "there is a cure from your liberal disease . take a non-partisan journey with dr savage and open your so called liberal mind to the truth . and remember conservative and wacko are polar opposites \n",
      "\n",
      "Row 13 has been classified as neg and should be pos\n",
      "i just purchased this album , my first misfits album and every song on it rocks ( i especially like where eagles dare ) . i just bought two more albums , walk among us and static age and i wish they would hurry up and get here in the mail because i cant wait . my only complain is the sound quality . it sounds like they put a dollar store tape recorder in the corner and started rocking...but i guess that makes it sound more real too . metallica covered a couple of their albums on their garage album but it just isnt the same . \n",
      "\n",
      "Row 44 has been classified as neg and should be pos\n",
      "i rate this 5 stars based on my knowledge of the fantastic four and x-men complete editions . i 'm writing this review to warn people about my receiving 2 defective copies of the spider-man version from amazon . i 'll have to try a 3rd time \n",
      "\n",
      "Row 45 has been classified as neg and should be pos\n",
      "i bought this obus forme king sized pillow because i thought it might stop my snoring . i must admit to being surprised that the pillow actually did minimize my night time rattling if not eliminate it completely . there have been reviews that mentioned the pillow had a strange odor at first . i found that it did give off a smell similar to that of a new carpet or some plastics , but that disappeared in just a few days and was never offensive . my wife wanted to try my pillow and liked it so much she kept it . i have just ordered a second pillow . \n",
      "\n",
      "Row 53 has been classified as pos and should be neg\n",
      "this was just to much country for this parrothead . i liked one song , piece of work and that was about it \n",
      "\n",
      "Row 56 has been classified as pos and should be neg\n",
      "i have to admit , i expected a lot more from mr setzer . the first track was ok , then it proceeded to go down hill from there . not much rockabilly happening , then it all comes clear with \" really rockabilly \" when he slags off all his traditional rockabilly fans...world wide . he even gives us aussies a serv , even though i do n't think he has ever set foot here . if brian wants to turn his back on rockabilly and try swing , jazz , rock or whatever , then go ahead , but why slag your old fans ? . it 's the last time i buy one of his cds without listening to it first \n",
      "\n",
      "Row 60 has been classified as neg and should be pos\n",
      "from what i gather , edward abbey has somewhat of a cult following . i had never read anything by the guy , never even heard of him before i got this book . i just thought i should point that out before going on . this book kept me reading , no doubt about that . it has it 's downsides , but overall , i 'd reccomend it . not \" hey , you gotta read this right now , \" but it 's good if you 're looking for something a little different . this book kind of made me think . i 'm not the kind of guy who is always reading into a book trying to analyze every aspect of it . but i could n't help it with this story . i thought a lot of it was psychological , dealing with the main character , his thoughts , attitudes , and what made him tick . this is a fairly long book , but the actual story of the guy going back to his hometown is short . the plot alternates every chapter- - one about where he presently is , and then a memory , then where he is , then another memory , and so on . although it was an interesting way to write the book , i thought some of the memory sequences dragged a bit . but do n't get me wrong , overall i did enjoy them . if you 're looking for something that might be able to fuel a couple of thoughts about life , this is a good bookt to pick up \n",
      "\n",
      "Row 63 has been classified as neg and should be pos\n",
      "this product is great for injury and leg elevation . my grandmother had a hematoma on her leg and she said that her \" legs do n't fall asleep anymore and they feel so good . \" my grandmother has had two strokes and this is just the relief that she needs . my mother has fibromayalgia and i 'm ordering two for her as well . she \" test-drove \" them before giving a set to my grandmother and this will be a great holiday gift for her \n",
      "\n",
      "Row 78 has been classified as neg and should be pos\n",
      "good product ; however , i do n't understand why it requires lengthy updates every time i open the program . perhaps they should try to get it right the first time . and it 's impossible to tell whether the updates do anything for me . using it with quicken is a pita . it is unclear to me how you get more than one state \n",
      "\n",
      "Row 79 has been classified as neg and should be pos\n",
      "i have just purchased my second m407 camera , yes that 's right i said the second one . i purchased the first about a year ago and have used it in the wilds of idaho taking pictures in all kinds of weather at every elevation imaginable . all the pictures have turned out great . i recently had a reason to take more pictures indoors , new grand daughter . again the pictures have been fantastic , have had several blown to 11x17 for matting and framing , great quality . i would make several suggestion to folks , buy digital camera batteries , every camera i have owned eats batteries , this hp is no different . if you spend the money and get good quality batteries they will last ! second recommendation get a sd memory card , if you are like me you will not be happy with the interanl memory and want to take lots of pictures . so , this photographer says you ca n't beat the price , for the quality and service you get from hp . i forgot to mention i had a camera that did n't work , and hp replaced within 2 days with a new one , no questions asked . good service goes a long way in my book . buy one you wo n't be sorry ! \n",
      "\n",
      "Row 89 has been classified as pos and should be neg\n",
      "it 's loud . you ca n't hear the lyrics nor the words . just a lot of loud noise . great if you want to damage your hearing \n",
      "\n",
      "Row 90 has been classified as pos and should be neg\n",
      "neither my husband or i could get into the movie . i dont think i would ever watch this film again . it was not what it was made out to be \n",
      "\n",
      "Row 96 has been classified as neg and should be pos\n",
      "i found this upgrade has fixed some things and attempted to fix things that did not require fixing . hot keys that go to dockers does not speed up the work process . it appears to be slower in handling bmps . larger files cause it to hesitate selecting objects . a real memory hog . the new contour tool makes the upgrade worthy . so far it is not crashing like 12 did \n",
      "\n",
      "Row 105 has been classified as neg and should be pos\n",
      "this is a great book . i could n't wait to see what was going to happen next and how all the mixups would be straightened out ! it is a very funny and delightful book , i hope there will be a sequel , we need to know what happens to these people , i feel like i know them \n",
      "\n",
      "Row 107 has been classified as neg and should be pos\n",
      "the brood is the lightning in the bottle that director david cronenberg has never been able to duplicate . while all of his films definitely have his fingerprints all over them , the brood managed to rise to the top of all of his films . it is absolutely dripping in a sense of dispair and dread . there is a pervading coldness about it - such that you want to wrap up in something warm as you watch it - you want to watch it with the lights on because you 're very much afraid of what might be there if you turn off the lights . the film is a psychological thriller wrapped in a slasher flick . it warrants slasher status simply because of the sheer number of onscreen murders that take place . this is a very bloody film ! samantha eggar is nuts and in a weird clinic for people like her . she is being treated by a creepy oliver reed ( in one of his better performances ) . art hindle is her ex husband and he 's worried about how she is treating their young daughter . after a while that is the least of his worries , as these horribly disfigured and ( what the hell are they ? ) bizarre little children run around killing all the people that have really ticked off samantha eggar . i wo n't say more , because part of the horror in a cronenberg film is the pseudo-science that he get you to believe in . whereas cronenberg 's videodrome was weird , but not terribly good , the brood is one of the creepiest films i 've ever seen and a guilty pleasure ( can i really call it that ? ) that i choose to subject myself to every so often . really ! what are those things ? \n",
      "\n",
      "Row 108 has been classified as pos and should be neg\n",
      "just a warning to everyone that buys this version of the dvd , it 's fullscreen and does n't have any special features . now if you 've seen the scenes that were n't included in the extended vhs , but were for some reason on the cable version , you 'd see that they were among some of the funniest in the movie . i 'd really like to see this one get maybe a double dvd release with when nature calls , souped up and some of those great missing scenes including ace singing onstage with cannibal corpse ( funniest scene in the whole movie i thought ) , ace conversing with a few drunks in ray finkle 's hometown and some others . \n",
      "\n",
      "Row 113 has been classified as neg and should be pos\n",
      "there 's too much drama going on in this discussion ! i do n't really care about what year these episodes came out or that there are 9 missing episodes of the new scooby doo movies . i 'm just glad there 's more scooby ! ! \n",
      "\n",
      "Row 114 has been classified as neg and should be pos\n",
      "the layout of office 2003 is better than office 2003 , which has improved my efficiency . for those who spend all day working with the outlook package , it 's worth the money to upgrade \n",
      "\n",
      "Row 124 has been classified as neg and should be pos\n",
      "this was a book that finally answered my wife 's questions . she is a theologian ( main stream , liberal . evolution is ok ) and deals with science and religion frequently . she kept asking me of my biochemical research \" is it predictive ? \" . what she was asking was from my studies in protein structure could i predict the taj mahal ? i mumbled a great deal during those conversations . in this book mayr give voice and coherence to the chaos that is biology . it is not the science of physics , where one equation rules all . choices , and accidents happen , and they shape future development . that is who we are . i recommend this book to anyone really interested in what biology is , and what is can say about how it has arrived in this place and time . duke ou \n",
      "\n",
      "Row 141 has been classified as neg and should be pos\n",
      "i really liked this film . before michael moore became a liberal celebrity , he was a completely obscure magazine writer and filmmaker . this film was a major underground hit at the time , and it still is excellent today . you really feel for the people who lose their jobs , and you 're infuriated by the callous indifference of roger smith and the management of general motors . i really liked the segment where flint tries to reinvent itself as tourist mecca of the midwest . it consisted of a horribly misguided attempt at opening up a hilton in downtown flint , and opening up a theme park called auto world . it justs smacks of desperation and stupidity ; it has make you laugh and grimace at the same time . instead of giving these people really good jobs again , they come up with this idiotic scheme , which ended up in disaster ( both the hilton and auto world closed within a year ) . moore in recent years has become a \" political celebrity \" , in that politics has become quite the cottage industry in america . it 's not just moore doing it ; right wingers like hannity and coulter have been doing it too . they all got books ; some of them got films ; some of them have radio shows . a lot of them are n't really interested in changing anything , as it might interfere with their livelihoods . i do n't know if moore is like that or not . but this is still a potent , darkly funny film about real class warfare , and the dismantling of the working class in america . \n",
      "\n",
      "Row 157 has been classified as pos and should be neg\n",
      "this was required reading for my british literature class . it 's the only novel in the class that i struggled with and only struggled from boredom . it is entirely possible that i just do not understand the genius that is forster , but i did not enjoy this novel . a lover of forster or modernist writing might enjoy it more . it must be a classic for a reason . \n",
      "\n",
      "Row 158 has been classified as pos and should be neg\n",
      "it 's ok that helps to moisturize the skin , but it 's just stays oily and cannot be absorbed appropriately in the skin . \n",
      "\n",
      "Row 160 has been classified as pos and should be neg\n",
      "i love canon products and i have had a complete canon system for about 10 years . i love everything canon does . however i do not understand canon 's reasoning behind producing this lens . the reason for the ef-s lenses is offering wider angle by getting the rear elements of a lens closer to the \" film \" plane . they cannot do this on film and full frame sensor cameras because the mirror is larger and would hit the rear elements of an ef-s lens . they have indicated , however , that by 35 mm that advantage is gone . why then do they produce a 60 mm macro lens when they already have their macro requirements covered with they current three lenses ? i would guess that the short back focus makes the lens cheaper ; but this lens is only $60 short of the excellent 100 f2.8 usm macro . as i said , if for $60 i can get a lens that has 40 mm more reach ( 66 in 1.6crop cameras ; useful in macro photography ) and that works on all canon cameras , i 'm not going to be thinking about this lens at all . granted , you might not be thinking of buying a ff camera anytime soon , but canon has indicated that eventually they will have ff on all their dslr 's , so why bother with this lens ? the 17-85 or 10-22 are very reasonable offerings for the ef-s lineup , but the 60mm macro does n't make any sense to me . my $0.0 \n",
      "\n",
      "Row 169 has been classified as neg and should be pos\n",
      "in general...this program worked very well . i 've had a hard time putting my new dual core pentium d computer in the raid 1 configuration , so i bought this instead . the clone function works extremely well and is an adequate alternative to the raid 1 configuration , but i was a bit confused about how to use the \" incremental backup \" function . the initial backup went well , but when i went back for incremental backup additions , it would tell me it was \" impossible \" ....so i just clone the c drive every few weeks now . i have two seagate 320 gb sata hard drives , and it 's great to know that i have an exact copy of the c drive if i fry it . i live in ethiopia , so the power fluctuations are frequent and disastorous . i 've already lost one hard drive to power flux abnormalities . i 'd buy this product again , and it 's comforting to know that it 's on my system and that i can back up my valuable data easily and quickly when i need to \n",
      "\n",
      "Row 171 has been classified as neg and should be pos\n",
      "i had the same problem with works suite 2002 that i had with 2006. the product key that came with the discs would not install microsoft word ; the message \" invalid product key \" came up . after a computer problem , i reformatted the drive and did a reinstall from the original works 2002 discs . the invalid key message showed up when i tried to install word 2002. after arguing with microsoft people for three weeks i bought the new works suite 2006. after running all the discs to a clean hard drive , everything worked except , again , the invalid key message came up and would n't activate word . highly irritating . i got it going by to microsoft works , programs , clicked word document , got an \" activate product \" and got word installed and running . this seems to be a dumb glitch in the software \n",
      "\n",
      "Row 172 has been classified as neg and should be pos\n",
      "tom delonge is at it again with a new band and a new album . even with being accompanied by the lead guitarist from boxcar racer , angels and airwaves managed to have a completely different sound . they dropped the more punk rock tone of boxcar racer in favor of an emo-alternative style of rock . the first released single \" the adventure \" is quite enjoyable and even though i have n't checked too deeply into it , i think it 's the theme song for nbc 's studio 60. besides , how can you go wrong with an album that 's gone double platinum in the uk and gold in canada \n",
      "\n",
      "Row 173 has been classified as pos and should be neg\n",
      "i remember really liking this album when it was first released , even though i could tell it was not in the same league as the real thing or angel dust . listening to the album now , i realise it is by far the worst fnm album since mike patton joined . the whole album feels very rushed , it has a sparse , raw sound , very different to angel dust 's polish . the music is generally very simple with many tracks sounding like b-sides and lacks the consistent melodiousness and sense of rhythm of their previous two classic albums . it was a shame to see guitarist jim martin depart . he had an unmistakable style and crunching guitar sound and was an integral part of fnm 's style and make up . however , being replaced ( for a short time anyway ) by trey spruance is no bad thing - anyone familiar with his work with mr bungle will know he is a genius with a guitar and his work here on king for a day is excellent , it 's just a shame that the material he has to work with is largely uninspired . how ironic then that on such a disappointing album , fnm produce one of their greatest ever tracks - the title track is pure genius , full of the care and effort , rhythm and melodiousness fnm were famous for . beginning with a great bass riff and acoustic strum , it is soon joined by a gentle female voice effect and simple minor piano scale and then brilliantly builds into a tour de force of percussion and guitar work before cleverly returning to the gentle acoustic sounds of the intro where it carefully takes 2 and a half minutes to wind down beautifully - this is fnm as you 'd expect them . another track that deserves special mention is cuckoo or caca , a great metal piece with excellent percussion and keyboards and crazy vocals . it 's scorching and funy and another reminder of the greatness fnm once held in abundance . it 's just a shame that these moments of inspiration are surrounded by so much surprising blandness ( caralho voador , take this bottle , the last to know ) and 2nd rate metal ( ugly in the morning , what a day , get out ) . star a.d. could have been vintage fnm but in the end falls flat , evidence starts off interestingly enough but soon gets boring and metal tracks like ricochet , the gentle art of making enemies and digging the grave are simple and sound like what most student bands are writing . however , the album does end on another note of vintage fnm - just a man is funny and catchy with patton having fun doing his tom jones impression and the inclusion of a gospel choir at the end is inspired - you find yourself not wanting it to end . patton 's vocals throughout the album are still amazing but should be accompanying much better material and you ca n't help but feel he was a little bored here - i think his heart always really lay with the far superior mr bungle , where he really shone and where his voice was absolutely perfect for the complex and avant garde material . i suppose it 's not surprising that king for a day is a largely empty affair , the departure of jim martin and the diminished presence of roddy bottum at rehearsals meant that fnm 's original chemistry and resources were sadly lacking and so were unable to achieve what they once had been able to . it 's really an album for faith no more fans , it 's certainly no classic despite some classic material and i feel it was the beginning of the end for fnm , they would improve with their next album , album of the year - but only marginally . \n",
      "\n",
      "Row 175 has been classified as neg and should be pos\n",
      "i have always used norton products for antivirus . for the previous 12 months i had problems getting the auto update feature to work and as a result had to download new definitions every time i turned on my computer . ( a royal pain ! ) at renewal time , i looked around and found pc-cillin software was highly recommended . i bought it and loaded it easily . since i 'm not very computer savy , it took me a little extra time to figure out some of the settings . it works well . i miss a couple of norton features like adding an email sender to the blocked list with one click - but updates load by themselves and i 've had no problems . \n",
      "\n",
      "Row 181 has been classified as pos and should be neg\n",
      "lou reed rocks ! ! ! dude ! ! but methinks this collection dost not . the tunes are all good , but there are n't very many of them , and the sound is deplorable , in that inimitable rca-first-cd-edition sort of way ( fans of the jefferson airplane and harry nilsson know what i 'm talking about ) . a much better jumping off point would be & quot ; different times : lou reed in the 70's &quot ; , or , even better , check out & quot ; transformer&quot ; or & quot ; rock ' n ' roll animal&quot ; \n",
      "\n",
      "Row 184 has been classified as pos and should be neg\n",
      "it didnt work as good as the teflon curling iron i had a couple years ago , it works just as good as a regular non-teflon curling iron \n",
      "\n",
      "Row 185 has been classified as pos and should be neg\n",
      "i love this band and have all the rest of their cds \n",
      "\n",
      "Row 187 has been classified as pos and should be neg\n",
      "there are so many different sites that all tell you that ' they ' have the best absorbed coenzyme q10 manufactured . it 's hard to know who is really telling the absolute truth or just propagandizing a product for quick sale . we are born with extremely high levels of coenzyme q10 and then it gets slowly used up as the years pass even if we actually eat the foods that resupply our bodies . and who purposefully eats these foods for the coenzyme q10 content ? the mitochondria in every single cell in our body needs this coenzyme for production of energy . by the time we are over 40 , our levels have dropped significantly and our energy levels have dropped with it . i must admit that this nature 's made product does not seem to increase my energy level like other company 's coenzyme q10 does . so , from my own reaction to this product , i do not recommend this particular coenzyme q10. there are several other companies that make excellent , effective products ( like dr. whitaker 's and dr. sinatra 's and dr. william 's ) but not this nature made product \n",
      "\n",
      "Row 205 has been classified as pos and should be neg\n",
      "these songs are hacked up versons of rick 's music . i played it a couple of times until i got the library of original lps . the lps are better . at least they carry full versions of songs . i pass on rick and this package . rca cheats people out of good music. . \n",
      "\n",
      "Row 206 has been classified as pos and should be neg\n",
      "i love the office . what i do n't love is amazon listing a 3-disc boxed set of seasons 1 and 2 and the 2 bbc specials for sale and then mailing me 2 separate discs of seasons 1 and 2. so be aware that amazon is not shipping what they advertise here . i have contacted them and have had not a reply about this \n",
      "\n",
      "Row 208 has been classified as neg and should be pos\n",
      "\" venom \" is one of those movies i thought i would hate because i heard so much negativity about it but i really enjoyed it , being a fan of the 70 's and 80 's slashers i crave newer versions because i have seen all the other ones over and over again . venom did not disappoint me . it starts off with action and never lets up.i found it to be one of my favorite new horror / slasher flicks , the voodoo angle was good but not overplayed , i 'm simple in that i want to see a killer with an axe , machete butcher knife etc not a bunch of supernatural mumbo jumbo..i do n't want to have to wonder \" was that a dream or was it real~ ! ! \" as so many movies these days play off of . give me an old fashioned slice and dice and i 'm in heaven.and venom gave me that , so i hope to see venom 2 , if so , i 'm there ( for the record , mr jangles used the hook & chain before kane in see no evil.. . ) .. \n",
      "\n",
      "Row 209 has been classified as pos and should be neg\n",
      "the drywalls in my house apparently have some insulation blown into them , and i could not get the hooks to work . i finally did get one in place and hung a medium large picture on it , and it failed . far short of the maximum weight on the package . in all fariness the walls were not the right kind of walls and i think whey would work fine for small and medium pics . the laser tool that was included is neat and i used it for all of my pictures , which i had to hang with other hardware \n",
      "\n",
      "Row 222 has been classified as pos and should be neg\n",
      "this mirror is unsatisfactory becasue the light is negligible and the magnification ( 5x ) is not sufficient \n",
      "\n",
      "Row 224 has been classified as neg and should be pos\n",
      "i 'm an amateur at website design / building , so understand that i 'm not very \" deep \" in dreamweaver 's abilities . however , i got the program to switch from adobe golive cs2 which had many quirks , bugs , and frustrations . ( one example - while you upload your changed files to the web server in golive , you ca n't do anything else in the program . single tasking ! ? ! ? ! ) after just 30 minutes or so of working with dreamweaver to update my site , i 'm already sure i 've made the right decision ! i have a long way to go in learning what it can do , but my first impressions of the product are excellent \n",
      "\n",
      "Row 244 has been classified as neg and should be pos\n",
      "this book opens our eyes . sure , we feel that we know what we should be doing . many times we are right in our hunches . yet , we still do not always do what needs to be done . instead , out of either laziness or taking the easy road , we fail because it is so easy to do so . besides , the customer will always walk in the door . right ? as this book reminds us , the customer may never be back . it is in the insight of a professioanl like tasca that we are reminded of wehat we may already know . again , our implementation of these rules which he explains simply , we will achieve . another book i encourage is \" cars and people : how to put the two together . \" \n",
      "\n",
      "Row 246 has been classified as neg and should be pos\n",
      "i have been hankering after this great album on cd for a long time now . imagine my surprise to suddenly find out that it is available . surprise turned to shock when i saw the price . does the company that produces this cd not realise that are people all around the world ( including south africa where i live ) who are very keen on this album ? at this stage though , it is only the very wealthy that can afford it . \n",
      "\n",
      "Row 248 has been classified as pos and should be neg\n",
      "the camera is a great camera.it is one of the best kind of camera in its level.everything is great in that ( perfect picture and easy to work ) but in that package as i saw in amazon add , the remote suppose to be in the package and comes with it but it wo n't and there is not remute in that package and it is kind of cheating...be careful about this product if you think whatever has written comes with package but not . \n",
      "\n",
      "Row 255 has been classified as neg and should be pos\n",
      "i can say before i started to use this product i was always afraid of wearing white clothings but tide to go has totally changed everything . initially i thought this was just a gimmick but i thought it was worth a try , ...soo...i bought it with me during our two-week trip with my parents in august..and it came handy...my dad bought a brand new white jacket and had it put on immediately and then decided to drink a cup of coffee..unfortunately , he spilled the coffee on the white jacket when he tried to open the lid to put sugar in it...my mother immediately wiped the coffee off with napkins..the coffee stain , however , was still there...then..i remember i had put a tide-to-go in my purse...i immediately used it on all coffee stains on the white jacket...and to my surpise , all the brown spots resulted from the coffee spill were gone...amazing..i have used this on different kind of food stains . i 've used it on coffee stain , spaghetti sauce stain , juice stain and they all worked . my mother , my mother-in-law , and my sister-in law they were all so amazed at the result that they all asked me for one to carry with them . nowadays i do n't leave home without one in my purse..i used to be afraid of wearing white clothings , i am no longer afraid of wearing whites because of tide-to-go..this is definitely a useful product to carry with you everywhere you go..oh..as far as the smell goes..the smell is bearable to me...and in order to use it you have to push it down to get the actual fluid to flow out through the tip of the tide-to-go marker . \n",
      "\n",
      "Row 259 has been classified as neg and should be pos\n",
      "i was n't sure what to expect when i 1st tried this two-part microdermabrasion & peel kit . i use it twice a week , and what a difference it has made on my skin . the only thing is , i wish they made a bigger bottle of the peel . mariann \n",
      "\n",
      "Row 273 has been classified as pos and should be neg\n",
      "read the the second reveiw from the bottom that says a music fan from the east coast . the olny good song on this cd is fly \n",
      "\n",
      "Row 279 has been classified as neg and should be pos\n",
      "when this show was on back in the day on fox i couldnt believe i was actually watching something i could relate to . there doesnt seem to be really that many tv shows that deal with dark and the real life experinces of real people . if ya ask me when it was on . it was actually something that gave me some relief . i deal everyday with some experinces re-lated to the show . its somewhat of a constant battle . enough about me . im really glad all 3 seasons are out . and im also glad i didnt have to wait many years either . one thing i didnt like about fox when titus was on they kept moveing it around . it wasnt fair for the show . then the next thing ya know there were some repeats then it was gone . im not really happy with fox cause titus still should be on tv or had a much longer run then it did . i hope chris shows up in something else soon . hes got one of those faces ya never forget \n",
      "\n",
      "Row 283 has been classified as pos and should be neg\n",
      "oliver stone proves to be just as reliable as a social critic as he is a \" historian . \" platoon and born on the fourth of july were great films but jfk , though brilliantly made , was a sign that something was off about stone 's mental processes . natural born killers could have been a scathing indictment of our media 's obsession with violence and decadence...but instead it 's just exhibit a in the indictment , wallowing in the filth it tries to satirize \n",
      "\n",
      "Row 285 has been classified as pos and should be neg\n",
      "tim lahaye , jerry jenkins , and others in the pre-trib circle , such as ed hindson , tommy ice , chuck missler , etc. , continue to put forth the same deceptions that hal lindsey popularized decades ago . the notion of a pre-tribulation rapture is foreign to scripture , it is foreign to the teachings of the early church , and it is grooming the church for destruction through ignorance and lack of preparation for what is really coming . these men are novices and not prophecy \" experts \" or \" scholars \" by any stretch of the imagination ; they are those who tickle the ears of gullible christians . why continue to be deceived ? tim cohen , in his excellent book , the antichrist and a cup of tea , provides biblically sound and testable evidence to show that the coming antichrist is known now . not only that , the same author ( tim cohen ) has now put out the strongest presentation on the whole issue of the rapture ever offered to the saints of god in christ : the real rapture . if you really want to know the truth about the timing of the coming rapture , then you need to hear tim cohen 's the real rapture ( based on a volume in his forthcoming \" messiah , history , and the tribulation period \" series ( see prophecy house 's web site for details on these items ) \n",
      "\n",
      "Row 289 has been classified as pos and should be neg\n",
      "i live in buffalo and i 'm a big prog rock fan ; so when i saw this cd at the library , i knew i had to give it a free listen . but make no mistake - this cd under-delivers on many levels . i always wanted asia to be a great band - it had my favorite guitar player ( steve howe ) , a top-shelf drummer ( carl palmer ) , and a proven bass player / vocalist who was up to the task ( john wetton ) . but there was always a bit too much \" pop \" , simplicity and repetition in their music to totally engage me . hey , progressive rock is mostly about \" different \" , complexity and change , right ? asia was a progressive-pop band ( akin to the later albums of todd rundgren 's utopia ) that made good music , but did n't really pioneer much of anything . same with this cd . there 's little here that 's new or better than the studio versions of the songs . palmer 's long drum solo got boring after a while . steve 's acoustic solos can be found on other yes recordings , and done much better there - here , the recording quality is so bad that it sounds like he 's playing tuned rubber bands at times . ( honestly , i remember hearing better fidelity from my old kenner close'n'play ! ) o.k. , it was cool to hear steve express his pleasure at playing in buffalo again ! but the so-called \" keyboard solo \" by geoff downs was underwhelming to say the least , and reinforced my suspicion that he was sort of the weak link in this group of otherwise great prog virtuosos . i guess if one loves a band too much , they can blindly overlook some shortcomings on almost any cd by that band , and that 's just fine for those people . however , the objective reality of this cd 's value comes creeping in on many other 's existing reviews : namely , the production quality is sub-par ( to the point of being annoying at times ) ; the vocals and harmonies are often off-key ( you really should n't have to wince this much during 79 minutes of music ! ) ; this is clearly a single disk album that was issued on 2 disks for some reason ; the packaging and liner notes are scant ; and the performance just does n't add much to the studio versions . this is for asia completists only . asia did make a solid 5-star progressive-pop cd with their first studio album . i love it . but they never improved upon it , and never stretched out into new territory . perhaps this 1982 live recording exposes some of the weaknesses that kept this potential supergroup from going from \" good \" to \" great \" . support your local library . ( and in this case , save some cash ! ) \n",
      "\n",
      "Row 298 has been classified as neg and should be pos\n",
      "if you think yer gonna puke everytime you have to suffer through a \" country \" song from nashville these days , and you happen to like classic rock , you would probably appreciate what shooter 's trying to do here . folks , this is the real deal . i do n't mean real country or real rock - this is a hybrid - i mean he 's making music that is honest and down to earth . a flash in the pan , he 's not . he 's going to be around for awhile \n",
      "\n",
      "Row 299 has been classified as neg and should be pos\n",
      "this is my favorite ghostface slbum . it has a geat vibe to the cd and you could not get sick of hearing it . check it out and you wont be dissapointed . rating a \n",
      "\n",
      "Row 310 has been classified as pos and should be neg\n",
      "batman begins is soooo much better than this or any other of the batman movies . nicholson sucked as the joker . joker is a comedian who had an accident trying to pull a robbery to help his pregnant wife . he is not a gangster or the one who killed batman 's parents ! ! ! ! he is a psycho and batman 's nemesis ! ! ! you ca n't kill him off ! ! ! how stupid is that ? ! ! ! who came up with that one . keaton is a sissy , christian bale could beat him down ! ! ! keaton did not have the physical prescence to play batman . all in all , a joke of a comic movie..but it is better than daredevil ! ! ! ! : - \n",
      "\n",
      "Row 313 has been classified as neg and should be pos\n",
      "i like all the things you can do with this product . glad i purchased it \n",
      "\n",
      "Row 317 has been classified as pos and should be neg\n",
      "i purchased this unit and was dissatisfied with comparisons i made at the doctor 's office . i next purchased an omron arm unit and found the results to be more valid and reliable . the wrist unit is very cool , but did not live up to consumer reports suggestion that it had acceptable validity . i 'm technically savvy , an excellent instructions follower , and really wanted to like this unit , but i cannot recommend it . skip the cool wrist unit and get an arm unit if at all possible . \n",
      "\n",
      "Row 318 has been classified as pos and should be neg\n",
      "this soundtrack does not have all the songs in it from the movie . i was looking for two from the movie , and the soundtrack did not have them . like , a song by michelle branch that is in the movie is not in there . bo \n",
      "\n",
      "Row 321 has been classified as pos and should be neg\n",
      "i did not find this book very helpful . there is an entire chapter dedicated to which expensive pots are the best to & quot ; invest&quot ; in ( it seems the pricier the better , and i mean several hundred dollars , i actually went to stores and priced the recommended brands ) and what kind of fancy kitchen gadgets are needed to create gourmet meals . i am not a professional chef , just a simple housewife that enjoys preparing simple , good-tasting meals for my family , the recipes here seem to be time-consuming and complicated . not much money to be saved here \n",
      "\n",
      "Row 325 has been classified as pos and should be neg\n",
      "rob touches on so much with this cd . my favorite song is one that has n't got any airplay and , in my opinion , the public missed out a great hit ! \" streetcorner symphony \" is about people coming together . it 's what i call my happy song . each day as i go to work i play the song as loud as i can get it ! we , my daughters and i , saw him live and he also called it a happy song ! i ca n't wait for his live albulm to come out ! there are fast and slow songs on this cd and will be worth every penny you spend to buy it ! incredible voice and songwritting \n",
      "\n",
      "Row 335 has been classified as neg and should be pos\n",
      "i have been running xp for a few days and so far so good . i was running win98se and decided to upgrade after microsoft announced that they no longer support win98. my software is now obsolete ? yikes ! well , i 'm glad i upgraded . installation went smooth as silk and i have not experienced any problems at all . i had to find a couple of new drivers for hardware but that 's been it . and for home edition versus pro , i think i can be quite happy with the home edition . i will say that win98se had been a headache for a long time so the stability that i see so far with xp home is a relief . good features , good reliability . a very decent upgrade . i recommend it . four stars \n",
      "\n",
      "Row 341 has been classified as neg and should be pos\n",
      "you 'll never read this in national geographic , and ng is all the poorer for it . p.j. o'rourke is never politically-correct and he visits places on the planet from which most people would like to escape...the result is a spot on , razor sharp , keenly observed travelogue that is side-splittingly funny , in a tragic sort of way . o'rourke has a wonderful way of spotting irony , silliness , and official absurdity , and letting all of the air out of pompous , ill-conceived notions . in short , he is the un 's worst nightmare . for anyone who has travelled or ever interacted with any government agency anywhere- -especially our own- -this book is a must read \n",
      "\n",
      "Row 364 has been classified as pos and should be neg\n",
      "the camera feels slick . the software that comes with it gets a 4 star for efficiency , though the intuitiveness is not its strength . while the large lcd display is terrific ( the main reason i got it ) , it is worthless in a high glare situation . you ca n't see what you are shooting . it 's worthless ! and since nikon did not give you a viewing lense for such situations , there are times whey you have no idea what you are shooting . while the viewing wheel , to rapidly cycle through the shots you 've taken , is quite handy , the rest of the navigation is less than intuitive , and often takes so long to figure out that you give up . pictures are generally good , though the conditions have to be perfect , or you get grain or blur . there is one lovely feature , but it is only useful on a tri-pod . it is a function which allows you to take a flash photo and have the aperture remain open for a little while after to fill in the background . it creates flash shots without the black void background typical of such pix . i use that feature a lot , but its worthless without \" legs \" for the camera . i bought this on a whim , counting on the nikon reputation . had i known , i would have stuck with the canon \n",
      "\n",
      "Row 369 has been classified as neg and should be pos\n",
      "i just upgraded my webster software to this version for winxp . it 's ok and does the job it 's intended to perform . but i liked the previous versions that displayed both the definitions and the thesaurus in parallel panels . just a matter of display preference , so it 's not that important to every user . \n",
      "\n",
      "Row 372 has been classified as pos and should be neg\n",
      "i only needed this for school a little while back . now i am marketing in hawaii at a resort and realizing this book taught me little to nothing . have fun with it if you please though \n",
      "\n",
      "Row 373 has been classified as neg and should be pos\n",
      "i have got a virus that cause files \" comment.htt \" appeared in many folders and my previous antivirus can detect them but can not destroy that virus . i tried to use another 2 antiviruses but not effective . so i try kav and it works ! also kav does not slow my computer like some big-named antivirus . autoupdate feature is cool . we do not have to click anything and the prize is reasonable \n",
      "\n",
      "Row 380 has been classified as pos and should be neg\n",
      "lonestar did n't really surprise me with their 2001 effort . i 'm already there and not a day goes by suffers from \" amazed \" syndrome . amazed 's 1999 multi-format mega success is spread all over this album , their wanting to sound like every ' 80s heavy metal band power ballad . did they listen to monster ballads 2 too much while making this album in nashville ? i 'm already there comes off as very diane warren-ish in its sappy lyrics . their wanting to be diverse as a country band is okay , but these songs do n't work for them . these songs are just complete fluff and their other songs are far better than this . \n",
      "\n",
      "Row 384 has been classified as neg and should be pos\n",
      "i have been running xp for a few days and so far so good . i was running win98se and decided to upgrade after microsoft announced that they no longer support win98. my software is now obsolete ? yikes ! well , i 'm glad i upgraded . installation went smooth as silk and i have not experienced any problems at all . i had to find a couple of new drivers for hardware but that 's been it . and for home edition versus pro , i think i can be quite happy with the home edition . i will say that win98se had been a headache for a long time so the stability that i see so far with xp home is a relief . good features , good reliability . a very decent upgrade . i recommend it . four stars \n",
      "\n",
      "Row 385 has been classified as pos and should be neg\n",
      "by the title i would be led to believe that there is more than one george story . there is one george and a few others , one of which scares my 2 1 / 2 year old . i thought the stories would be animated . however , some ( including george ) are pictures from a story book . we love to read books , but videos should be more than photos of a story book . would not recommend this \n",
      "\n",
      "Row 396 has been classified as neg and should be pos\n",
      "here 's a good litmus test to show how good a book like \" breathing lessons \" is- -nothing extraordinary happens and yet i did not want to put the book down . there are no conspiracies to rule the world or cover up some dark secret . there are no car chases , explosions , sex scenes ( barely even any kissing ) , or exotic locations . no one changes or has an epiphany . almost nothing happens- -maggie and ira go to a funeral and when they come back they try to reunite their son and former daughter-in-law but nothing changes at all . to the average reader this book probably would seem really dull . heck , if someone told me the plot of this book i 'd think it was really dull too , but i did n't want to put it down . the reason is that maggie and ira are so well-drawn and so familiar to me that they seem like people i know or could know . i think i could go to the supermarket and run into maggie and ira , that 's how real they seemed to me . i suppose ther reason is that tyler allows me as the reader to know just about everything regarding these two characters and their two personalities just come through so transparently in the story that they do n't seem like characters acting their parts ; they seem like real people . because of this , even though very little happens to maggie or ira and even though neither of them changes by the end of the book , i cared so much about them that i wanted to keep reading right through the end so i breezed through the novel in a few days . in all honesty , what i really appreciate about this book is that it seemingly disproves almost everything i 've ever read about how to write a book . this is purely a character-driven novel with very little \" plot \" except for the death of maggie 's friend 's husband that gets the ball rolling . everything else seems to happen so naturally as an extension of maggie 's personality more than any artificially-generated plot twists . it 's hard for me to find any real faults with this book , except for the lengthy flashback near the end that perhaps goes on too long . some people may call this boring or dull , but i would call it purely exceptional . i loved this book and highly recommend it \n",
      "\n",
      "Row 403 has been classified as neg and should be pos\n",
      "first of all , let me say this product is great in almost every way . so if you need to feel better about your nose and / or throat , go for it . my main complain about the grossan hydro pulse is that it is noticeably expensive . some time ago , grossan was making just his own irrigator tip matching it to a waterpik machine that cost a half the price of the hydro pulse . but then , grossan decided to produce his own machine and , if i 'm right , viajet is making it for him . viajet sells the same machine , except for the grossan tip , at about -again - a half the price of the hydro pulse . the breathe-ease solution that you might use along with the irrigator is also expensive ( i have check this comparing it with a simillar product that can be purchased in my country ) . so what makes the hydro pulse so expensive ? maybe health is a business , after all . other than that , like i have said , this product is great for almost any respiratory problem . i used to irrigate my nose with a similar solution that comes in a 135 ml bottle , and is intended to use it over 50 times . the hydro pulse lets you do a 500 ml clean everytime , so you get the idea . also , if you are suffering respiratory problems and want to chek an interesting drug-free treatment , look for the buteyko method \n",
      "\n",
      "Row 420 has been classified as neg and should be pos\n",
      "this is a great beginner 's guide to home buying . the advice is straightforward and the explanations are easy to understand . buying a home is a scary and daunting prospect for me . i kept getting a lot of conflicting advice from relatives , friends , and coworkers on when to buy , what to buy , and how to buy . this is very frustrating as everyone means well , but what worked for them might not apply to me . and do n't bother asking a realtor or mortgage company if you should buy- -they make their living on our decisions to buy ! so i bought home buying for dummies to learn more , and it has a lot of sound and thoughtful guidance to help decide when and how much to buy.. . and also how to find a good home , and then negotiate with the realtors , the sellers , the mortgage companies , and everyone else that is sticking their hands in your wallet . the author 's advice is realistic , and he points out the pitfalls of jumping in and what trouble you can get into with the different loan options out there \n",
      "\n",
      "Row 432 has been classified as pos and should be neg\n",
      "it ' curious how an interesting history can be not well told by a modern music . in some cases the music go to the hand with the story , but not in this cd , in which we say the music that it is not for the story . i did n't ejoyed with that c \n",
      "\n",
      "Row 440 has been classified as pos and should be neg\n",
      "actually garth hudson , the former organist of the band does not play on this cd ( nor ' every geriatric rockstar's ' ) . the musician you might be referring to is al garth ex of loggins / messina \n",
      "\n",
      "Row 444 has been classified as pos and should be neg\n",
      "i bought this album after hearing about them from a fellow beach boys fan . i 'm a huge pet sounds fan , but i love all kinds of orchestrated rock from \" the left banke \" to \" beulah . \" this album is not that good , people . it 's not even \" okay . \" there are way better takes on the \" brian wilson \" ( read : phil spector ) sound . whether it 's \" the ladybug transistor \" or \" the apples in stereo . \" heck , check out a great vancouver band called \" ashley park \" as well . the production on this is so rooted in the eighties / nineties that it 's almost unlistenable . they may be good road musicians but it does n't show on this album , especially since some of tracks use lamo drum loops \" a la stone roses . \" you would be better off going through the elephant 6 label 's recordings or even merge stuff . to be honest , i did n't even find the compositions that scintillating , regardless of the production . chord and change-wise , they 're interesting....but that does n't make the songs good . \n",
      "\n",
      "Row 445 has been classified as neg and should be pos\n",
      "i am still under the free 3 month trial period and love it . i will buy it because it does n't eat my memory and i feel safe with the people who designed the operating system . i reccomend \n",
      "\n",
      "Row 446 has been classified as pos and should be neg\n",
      "the best kind of electric toothbrush ( according to my hygienist ) is one with a rotating top to the head , that way it gets the gums better . i ordered this one and i do n't like it.. . besides the lack of rotating head , it is very loud and i feel like i 'm going to wake up my roommates . : ) \n",
      "\n",
      "Row 454 has been classified as neg and should be pos\n",
      "there are several real advantages to using quicken willmaker software . 1. the legal part of the software was done by nolo . they publish an awful lot of do-it-yourself software , and are well respected ( if you are not a lawyer ) . nolos involvement helps to assure me of a quality product . 2. the user interface , a fill in the blank approach with a lot of help screens , make the whole process quite easy and painless to go through . 3. besides the standard last will , the package includes a number of other documents that you may want decide you need . among others this includes living trust , living will , final arrangements , notice to terminate joint credit card accounts , child care agreement & instructions , and many more . having said that , there are two problems with the software : 1. if you live in louisiana , your laws are based on the french system , not the english system and there is a caution on the box that says : ' estate planning documents not valid in louisiana . ' 2. there has been at least one law suit saying that if you fill out the will for another person , you may be practicing law without a license . do a google search on ' heirs sue over will-making software ' where someone apparently used this software to do a will for a lady . \n",
      "\n",
      "Row 459 has been classified as neg and should be pos\n",
      "my boyfriend bought from the earth to the moon , and since he is an astrophysics student i expected that he would have enjoyed finding about people 's conceptions about going to the moon at that early time . he however summed up the book by saying that it contained a lot of basic things did n't make much sense . well , from a layman 's perspective i found from the earth to the moon engaging . it goes into the technical aspects of going to the moon and involves a reasonable amount of logic , physics and astronomy . even from my scientifically deprived perspective , a lot of things in the book did n't make much sense , such as the actual method of getting to the moon , but this does n't really take away from the book - it adds greatly to its appeal . the book contained some bizarre bits of humour and its whimsical nature never bordered into the ridiculous . i was kept wondering how much of this was actually going to work , and what these poor souls were going to come up with next . compared to twenty thousand leagues under the sea and even journey to the centre of the earth however , from the earth to the moon is noticeably less imaginative . verne uses everyday objects and ideas to make his ideas a reality , and much unlike his other works , does n't stray far from the earthly . some people may feel cheated by the predictable conclusion , but all in all from the earth to the moon is a good read . if you drop at the sight of f ( x ) = y , then this book is not for you because it involves some logical thinking , centripetal forces and the like which may be hard to assimilate . if you really know your physics theory then you may not appreciate the book either because of the theoretical meanderings that may have limited basis today . if you , like me are somewhere in the middle of these two extremes then from the earth to the moon is definitely worth your time . \n",
      "\n",
      "Row 461 has been classified as neg and should be pos\n",
      "the story , walk across the sea , by susan fletcher , takes place at a town near the ocean . white people thought themselves superior to others , especially the chinese . chinese were often looked down upon and shunned , mainly because of their religious beliefs . the lighthouse keeper 's daughter , however , was different from other white people . believing her father 's talks about chinese people in the beginning of the story , the girl , eliza jane , meets a chinese boy around her age . after the chinese boy saves her goat , eliza becomes interested in the boy 's behavior . soon , she learns that everyone may not be as they seemed . this story was rather interesting in a way . the time of the story show how the characters act and think . the story also shows how different some characters are , such as eliza 's father and mother . ( \" something moved inside me , like a sudden shift in the wind . \" ) eliza was also , in a way , different from other white people . she befriended and showed kindness toward the chinese boy . ( \" ` you 'll do him no harm ? i have your word on it ? ' \" ) i was also amazed by the twist of the story when the story reveals that the father truly worries about the chinese boy . of all of the stories i have read , i have never found one that was perfect . this story is no different . when the chinese people were driven out of the village by angry white people , i could feel the same shock and anger eliza felt . the story , however , has a few more bad parts . one boy , amos , accidentally broke eliza jane 's nose while trying to find the chinese boy . afraid that he might get in trouble , the boy lied to his father about breaking eliza 's nose . to make matters worse , amos blames the fault on the chinese boy ! ( \" i had a mind to shout at him , to tell him to put her down.. . \" ) on the other hand , i did not like how eliza acted toward the chinese boy when they first met . when the boy yelled a warning , eliza thought he was trying to scare her off so he could steal her goat . therefore , when the boy was holding the goat , eliza thought that he was taking the goat from her , when what really happened was that the boy saved the goat from a wave . even so , that was not the worst part of the story . ( \" ` get you from me , ' he said . ` i ca n't be near you now . get out of my sight ! ' \" ) as a father , eliza 's father was expected by me to listen and talk to eliza about her chinese friend , and maybe even understand why she was protecting him . as a result , i was shocked and disappointed in her father when he told her that he did not even want to talk to her ! thankfully , there was nothing worse than this part of the story . ( \" terrible things can happen in this world-things you ca n't explain away . it 's not safe here , andrew john . i ca n't promise you 'll be safe . but there are miracles , too-like you . and love . and glories well beyond our knowing . \" ) the ending , where eliza talks to her baby brother about life and the chinese boy was my favorite part . it ties everything together and concludes the story about friendship \n",
      "\n",
      "Row 464 has been classified as pos and should be neg\n",
      "boy , this is way too much to pay for a hood on this lens . it 's a great a lens , but this is hardly worth the price \n",
      "\n",
      "Row 468 has been classified as pos and should be neg\n",
      "i have been a ronstadt fan since the early 70 's , and although the nelson riddle stage and the mexican stage were not my style , i still loved her vocal perfection . this is truly the only album i have n't played more than twice ( i did n't like it the first time , which surprised me , so i tried it again ) . it does n't showcase her voice or her talents . the songs are very ho hum . linda , put out a christmas album ( been waiting for years ) , and try to get sweetness back for this old fan \n",
      "\n",
      "Row 469 has been classified as neg and should be pos\n",
      "in my opionion , act ! is clearly still the best contact manager on the market . i am not talking about a complex crm solution , but it is a fine contact manager . i am not using the outlook and palm interfaces and i do n't have any complains other than it is slow if you are running many programs at the same time . the built in email features are okay , seach features are excellent . just give it a 30 day trial and compare to goldmine , maximizer and others \n",
      "\n",
      "Row 477 has been classified as pos and should be neg\n",
      "saw \" hart 's war \" the other night and could n't really believe anyone would invest money and time in a film as awful as this one . this film bombed at the box office and was yanked from circulation after only a few days . here are ten reasons why : 1. this film is n't \" the great escape \" and even though he would probably like to think otherwise , bruce willis is n't steve mcqueen . even though willis received top billing , this is a colin farrell vehicle . 2. the vast majority of the target audience of 18-34 year old moviegoing males could care less about what happened during the reagan administration , much less world war ii . \" hart 's war \" may just as well be a film about a pow camp during the war of 1812. anything with vin diesel or the rock would be bound to sell more tickets . 3. as far as depicting life in a pow camp , \" hart 's war \" is pretty much on par with \" hogan 's heroes \" . the germans are nice guys with guns who do n't know very much and everyone gets away with just about anything . where did the gi 's get all those cigarettes , anyway ? 4. any stalag luft comandant worth his weight in sauerkraut would have just as soon killed the bruce willis character as look at him . as depicted in \" hart 's war \" , the camp commandant ( as portrayed by marcel lures ) would have had a very difficult time maintaining any sort of status as an officer in the german army . his collection of american jazz / blues records is a cute writer 's invention that has nothing to do with the reality of the situation , or of the type of men who were in charge of german pow camps . in reality , the marcel lures character would probably have been relegated to another type of nazi camp with a pink triangle sewn on the front of his tunic . 5. the storyline is not completely unbelievable - trials did take place in pow camps , one good example being the pow 's who were tried and hung in andersonville ; however , the whole idea that the camp 's commandant would actively participate in such a trial as sort of a jerry springer type advocate is ludicrous . 6. the idea that during the trial , a group of pow 's who escape go on a secret mission to destroy a nearby munitions factory is insulting . not only did nothing like this ever happen during world war ii , it degrades the bravery of those poor souls whose only act of heroism was to survive internment under harsh and sometimes brutal conditions . the german army simply was n't that stupid . 7. i saw this film once and did n't like it . i thought that maybe the second time would be better . it wasn't . 8. beyond being sheer hollywood political correctness , \" hart 's war \" seriously misrepresents many of the more important aspects of internment . it ignores the real focus of life in such a stalag which , for most pow 's , was just day to day survival . also , the soldiers who served in our armed forces during world war ii and also happened to be african americans were n't spineless , hapless dopes . 9. bruce willis playing the same role in variations of \" die hard \" over and over and over again is tiring . 10. better films about the same sort of subject matter are \" the tuskeegee airmen \" and \" stalag 17 \" . hopefully in a few years , \" hart 's war \" will be completely forgotten , and these dvd 's will be rotting in some landfill . \n",
      "\n",
      "Row 481 has been classified as neg and should be pos\n",
      "2 fast 2 furious is one of those sequels that comes around every so often that does n't require you to have seen the original . i saw this movie for the first time not too long after it came out , and having never seen the original , i thought i would be lost and would n't enjoy myself as much as other people , but on the contrary - i left the experience much happier than when i came in . this film is full of quick one-liners that deserve a laugh . the special effects and the car races will leave your mouth gaping open . i have heard and read that people did n't appreciate this film as much because it seemed to focus more on a plot than the first film did rather than focus more on the races , but overall , i think the balance works well . even thinking of the plot that we are left with , i really ca n't see another time when a race would even be appropriate . and as for people saying that this film is worse than the original , i would have to disagree...why ? frankly , i have always been a firm believer than vin diesel is entirely overrated as an actor . ( i mean , c'mon - have you seen the pacifier ? ) he 's nothing more than a meat head who , while able to do pretty good fight scenes , should leave the dialogue to someone else . yes , this film is for the younger crowd , and there are numerous occasions when unbelievable events take place ( take the boat jumping as an example ) , but there is no saying that an older person would n't enjoy it as well...the only thing that i will say is that you really should n't go into this film expecting an oscar worthy performance , or else you will be disappointed . if you sit back and take this as the fun romp that it is , however , you will thoroughly enjoy yourself \n",
      "\n",
      "Row 483 has been classified as neg and should be pos\n",
      "i love this product and the lasting results . it is so gentle on my hair . i bought two , one being a christmas present for my neighbor who had recently had a very bad perm , and she agreed , makes the set last while not futher damaging your hair . if you are sleeping in curlers , sleep no more . this product is for you \n",
      "\n",
      "Row 490 has been classified as neg and should be pos\n",
      "( 3.75 ) the other reviews can reveal what this book is about . what i wanted to share is the extreme responses this book incited in my boyfriend and me . he alternately found himself loving the narrator , yuriko 's sister , for her brutal honesty and hating her for her malice and psychological bullying of kazue . meanwhile , i found myself rooting the narrator on as she spoke the cruel truth about the pitiful hopelessness of kazue 's meritocratic dreams , but a moment later i wondered if that made me a bully myself or as bitter and heartless as the narrator . perhaps it reminded me too much of what i had seen growing up to shock me . then , there was the simultaneous hilarity and pain of kazue 's cluelessness . was she a tragic figure , blind , or both ? i admired kirino for inspiring me to feel so much for her characters , even for yuriko , who is certainly not the ditsy airhead her older sister wants us to believe she is ( i also found it hard to believ she was as ghastly as she considered herself in her 30s : is it just because women past 25 in japan are regarded as christmas cake , as a friend from japan says ? ) . my attention was quite strained by zhang 's tale of chinese hardship ( it seemed the wrong book to educate the reader about how difficult it is for immigrants in japan ) , but i immediately forgave kirino when yuriko 's older sister admitted herself zhang 's account was tedious and could be skipped ( i 'd recommend others to skim it as well ) . again , my patience was tested by kazue 's journal : i just kept on thinking , are n't you ready to die yet ? but i see this was intentional on kirino 's part , to make the reader struggle between our ( or my ) wanting kazue to just give up on life and our feeling ashamed for our coldness and complicity in her bullying . it also made my boyfriend and me think concurrently of the people we loved in our own lives who were heading towards the same fate as kazue and yuriko , not through prostitution but through drugs . what did disappoint me in the end was the last chapter , which seemed a cop-out . if only an editor had suggested it was unconvincing and encouraged her that an alternative , though more shocking , would be more in line with the narrator 's character , but that is wishful thinking on my part . when i give this book to others , which i will , i will make sure to discuss with them , when they 've finished , what they thought of the ending . this book could have been edited down a hundred pages ( back when it was written in japanese ) , but for what it did offer , i have no regrets for its consuming my attention entirely and will always look forward to further translations of kirino 's books . this book may not be the masterpiece \" out \" was , but for anyone who has gone to an elite school on scholarship , striven to remain a petite zero , wanted to excel while recognizing how off-the-mark our values of judgment are , or wondered just how much her body could be worth , reading \" grotesque \" is just as powerful an experience as reading \" out \" was \n",
      "\n",
      "Row 495 has been classified as pos and should be neg\n",
      "appleseed suffers from the problem most big budget , cgi enhanced anime theatrical releases have : gorgeous visuals , but a incomprehensible story filled with dull cliche dialog . trust me , i was sucked in by the amazing trailer like most of you . i wanted this to be a great movie ( as i am a fan of the oav animated series ) . appleseed is worth seeing for the visuals alone.. . but that is about all \n",
      "\n",
      "Row 500 has been classified as pos and should be neg\n",
      "i had high expectations when purchasing a laser range finder for use on the golf course . after a lot of research , i settled on the pro tour laser . as previous reviewers have stated , this unit is very hard to stabilize . i have a feeling this is true of all lasers . even with supporting both elbows on the hood of a car i found this unit very hard to find yardages for objects beyond 150 yards paricularly when bright sunlight is present . on the golf course , finding the flag and obtaining a yardage at longer yardages is almost impossible if there are objects behind the flag such as trees or landscaping . this unit has been returned and i have gone to a standard handheld gps instead . once the center of the green is initially saved as a waypoint , this is a very reliable and quick method to get a yardage , you just have to convert feet or 1 / 100 's of a mile into yards . i do this with a chart taped on the back of the gps . accuracy is about 2-4 yards which is good enough for anyone but a vey low handicapper . i am staying away from a laser finder until golf courses uniformly put reflectors on their poles . \n",
      "\n",
      "Row 507 has been classified as neg and should be pos\n",
      "compared to the olive & aloe bar , this one seems to lather better \n",
      "\n",
      "Row 512 has been classified as neg and should be pos\n",
      "we received these cards as a christmas gift . they are very well made . the quality is outstanding . some have beads on them and some have details that you cannot get on a card without spending a fortune for them . well worth it to buy them . you wo n't be disappointed ! \n",
      "\n",
      "Row 515 has been classified as pos and should be neg\n",
      "first of all , who was the spastic genius who decided that concert films had to change camera angles every five seconds ? this is terribly anoying , especially when every third shot is of the same audience members . this may be fun for a home video , but not for a mass marketed commercial release . the dance hall crashers are an awesome band . much of the fun of seeing the dhc in concert is their highly kinetic stage presence . it would have been great if this dvd had concentrated on the band as a whole and not just different extreme closeups switched at a dizzying rate . and since the dhc are supposed to be the focus , why does the director insist on featuring so many shots of the audience ? it gets on your nerves . i love the dhc . their live cd has a permanent place on my playlist . but this horribly made dvd only made it through three songs . perhaps if i had been at the front of the stage that night , i would appreciate it more . \n",
      "\n",
      "Row 522 has been classified as neg and should be pos\n",
      "i loved the first one and i think , with the logic and plot of the first one , this follows through . we knew they changed the world , and in this sequel we see that . the actors do a good , since the lead characters are suppose to be , let 's say less intelligent , but nice . i think this movie and the 1st one are classics . i like the grim reaper , his atitude during the movie , and the fact the he is the comic relief ( okay so most of the movie is comic relief ) even if they are fun to watch to laugh at , it is worth it to watch \n",
      "\n",
      "Row 528 has been classified as pos and should be neg\n",
      "i was hoping that \" socermania \" would be on the \" extreme sports fun \" dvd but no ! instead disney had to put on all of the same cartoons that were released on the \" disney treasures \" this also goes for the other two dvd 's extreme music and adventure fun , allthough ' pluto 's blue note ' , ' donald 's dilemma ' ' no sail ' ' old sequoia ' and ' trailer horn ' are on dvd for the first time but with the new disney treasures \" disney rarities \" and \" the chronological donald volume 2 \" ( which might i add could use a lot of improvment on the restoration ) who needs these dvds , so i suggest not to buy these cheap dvd 's and buy the treasures in spite of the bad restoration \n",
      "\n",
      "Row 530 has been classified as pos and should be neg\n",
      "do you love \" on eagles wings \" ? if the answer is yes , then do you know the words to panis angelicus ? the answer is probably \" no . \" i do n't blame you for liking this cd . the problem is that it is n't catholic and it is n't classic . you should ask yourself if you are willing to entertain the songs that catholics have enjoyed for thousands of years . if you are willing to look beyond the guitars at your local mass , start with sacred songs by bocelli , or simply baroque by yo yo ma \n",
      "\n",
      "Row 534 has been classified as pos and should be neg\n",
      "every lakers fan i 've ever met lives in the past sadly now . to them , the clock stopped when kareem and magic hung up the shoes [and we know why magic had to leave]. their basketball knowledge from the 60s to the 90s is rewarding . after this , however , they do n't have a clue of what has happened to this once mighty and moral organization . the lakers have been a good team over the decades [as apparent on this dvd set] , but the run of greatness is coming to a long slide with kobe driving the bus . the lakers were once considered the green bay packers of the nfl , but now they 're just lucky to even get close to a playoff spot over a majority of the teams in the western conference which are much better than the present lakers . i recently attended a game last fall at the staples center , and besides all of the celebs eating hummus in the stands , i could barely hear myself think over phil jackson 's mantra \" i told you so . \" further illustrating how things have changed in la , jack nicholson has become embarrassed to wear anything purple or yellow . so it is understandable that laker fans would rather focus on the achievements of magic and kareem , than rather extol the diminishing skills of kobe since his colorado folly . there are some good games on this dvd along with great moments from the baylor , chamberlain , west days . i recommend any laker fan to purchase this dvd set to relive the past . so laker fans , keep living in the past if you so desire . maybe kobe will retire and become a man of the cloth and lead the lakers to the nba championship promised land once again . long live the forum [or the staple remover center] or whatever they are calling the lakers home now \n",
      "\n",
      "Row 546 has been classified as neg and should be pos\n",
      "i just upgraded my webster software to this version for winxp . it 's ok and does the job it 's intended to perform . but i liked the previous versions that displayed both the definitions and the thesaurus in parallel panels . just a matter of display preference , so it 's not that important to every user . \n",
      "\n",
      "Row 550 has been classified as pos and should be neg\n",
      "i agree with some of the negative reviews that the junie b . jones books often use language and depict behavior that are less than desirable . my son , who is a pretty sensitive boy , did n't like junie b . jones because he thought she was rude . i would much prefer that my kids read books with kids who , though they may get in trouble from time to time or may make mistakes , are generally nice people . we did love the magic tree house series , both for the adventure and the personalities of jack and annie \n",
      "\n",
      "Row 565 has been classified as pos and should be neg\n",
      "i'vc had this book since i was 7 years old . i loved the awesome photos of echanis doing his thing . if you like the elaborate and complex , then this is the knife fighting book for you . there are simpler ways of \" getting it done \" , but few are more fun to try . and , by the way , if any of you are curious as to how he died , he was killed while \" training \" in nicaragua . hmmm . . \n",
      "\n",
      "Row 569 has been classified as pos and should be neg\n",
      "product does n't really do anything more than blow air . it does n't appear to do anything with the ultraviolet light \n",
      "\n",
      "Row 574 has been classified as pos and should be neg\n",
      "i was pleased at the methods used to train your dogs from puppy to mature dogs . it covers several different styles of training , clicker and others . i would highly recommend it as a excellent resource in your inventory of training methods . i am using it on my 9 week old rat terrier and he will fetch , come sit and down with a little help and yes even shake hands \n",
      "\n",
      "Row 580 has been classified as neg and should be pos\n",
      "i was a little skeptical on this product because of the cheap price and the lack of reviews . but it is just what it says it is , and i am really happy with my purchase . i would definitely buy this again \n",
      "\n",
      "Row 585 has been classified as neg and should be pos\n",
      "i thought that this was adam sandler 's best movie he has made.that he played man who 's a slacker that he trys to impress his girlfriend by adopting a cute 5-year-old boy ( played by dylan & cole sprouse ) .i think of how the movie should 've ended real good is for sonny to have legal custody of jullian.i laugh out loud when i see this movie ! ! ! \n",
      "\n",
      "Row 592 has been classified as neg and should be pos\n",
      "when i bought this camera the sales people tried to get me to buy another battery . they said the one that came with it would only be good for about 20 minutes . now i have bought alot of items in my lifetime , a 20 min battery on a camera just doesnt seem like a very good \" business \" choice . so i said no . so i got the camera , charged the battery until the light went green ( which sucked because i wanted to play with it right when i got it ) and started taking pictures ( oh i also got a 2g cf ) worked great....so i planned to go up a mountain and take soem scenery shots . keeping in mind what the sales person had told me i pocketed the charger just incase . well , 6000 ' , 300 pictures , and 5 hours later the camera is still running strong , still have 200 shots left for the trip home , battery life indicator hasnt budged off of the full button . so all in all , i think the battery life is great , now i can see if your taking say thousands of pictures all in a row you may need another but for just going on a trip and shooting a few pictures at every stop point , the original will work fine . as for the quality of photos.....i love them \n",
      "\n",
      "Row 593 has been classified as neg and should be pos\n",
      "the first time you play this cd you 're just gonna hate it . promise ring 's third album is the opposite of this . very emergency is super catchy and tight but you get sick of it quick , there 's just not much there . that understood , this album will rock you for years . it grows on you . at first listen it sounds like really bad emo demos . like the faceless band you saw open for fugazi the last time they hobbled into town . no hooks , no choruses , lots of really bad singing and sloppy guitar [with the drums mixed way too loud , an emo thing]. on the 100th listen , if you make it that far , it will sound like an old friend yammerin ' on about the good old days . trust me , it 's a desert island disc in the making , i envy those of you just discovering this cd \n",
      "\n",
      "Row 594 has been classified as neg and should be pos\n",
      "i read the good doctor 's book eat to live and then bought china study which he talks a lot about in this book . then i bought this book being curious after reading a few other books on fasting and this book wins hands down though i do feel he 's being overly cautious about doing long fasts of more than 5 days without medical supervision to protect himself as people have been doing long fasts for centuries without medical supervision and doing just fine and since finding a doctor in even a large community is rare indeed one is left to do this on their own . being a vegetarian for more than 37 years i became an almost 100% vegan after reading eat to live and have to say that i feel great with more energy and even started reducing anti-depression med i 've been taking for severe depression . yesterday i took my last pill ! all week i 've been emptying my refrigerator in order to start my water fast tomorow . and reducing my one cup of coffee in the norning to none because i remember clerly that awful caffiene withdrawl healache , i 'm going to do 10 days and hoping for 14. i 've done 3 day fast before and one 5 day and that was great . yes , there are some flaws in both books and i wish the good doctor would have made use of a good editor as it 's not as professionally written as it could be and the recipes in eat to live are atrocious with too much canned foods and not healthy organic foods but i 'll forgive him because he got me on the china study which changed my life and his studies and own experience helping people get well are good and inspiring . why am i going on a 10 day detox water diet ? i read randall fitxgerald 's one hundred year lie and that was the catalyst that pulled it all together for me . a detox fast absolutely necessary after my years on earth and after too many years on anti-depressants i 'm keeping dr. fuhrman 's fasting book close by during the next 10 hopefully 14 days for support and encouragement . i did make the mistake of telling my coworkers that i was starting a 10 day fast though the good doctor warned me not to . the comments from them were typical i suppose knowing their health or lack of but i held my tongue . those comments are just like the stupid ones some of the reviewers of dr. fuhnman 's books make along with other nutrituion books . but i thinkof the wisest words , \" you are responsible for your own health \" and think about my not being able to remember the last time i had a cold and the last flu i had in 1964 and smile . i do n't intend to support the ill-begotten medical-pharmecutical industry . the last time i went to the dr. i promptly firedhim after his continued to badger me into getting manograms . and other tests , i repeated that i eat well etc and he said nutrition had nothing to to do with breast cancer and i just walked out of his office forever . i 'd rather read a book \n",
      "\n",
      "Row 600 has been classified as neg and should be pos\n",
      "i have had omord hr-100c for a few months now . i use it wile on my treadmill . it seems to take a wile before it starts to register the hart rate ; i think it is because the sending unit needs some moisture to make good contact with your skin . i did have some trouble with the unit when i first started using it ; i replaced the battery in the sending unit which solved the problem . the fact that the battery is user replaceable is one of the main reasons i picked the omord brand . the hr-100c is a bare bones unit and does a good job if you are looking for an inexpensive basic hart rate monitor \n",
      "\n",
      "Row 606 has been classified as neg and should be pos\n",
      "i loved \" never cry wolf \" ! ! ! i saw it years ago on video , but can only imagine the dvd is as good or better . i was disappointed to see that it was listed with ' the bear ' to buy together... . i love anthony hopkins , and the bear was one of the worst movies i have ever seen . do n't let the pairing with ' the bear ' scare you off . \" never cry wolf \" is excellent ! sorry tony : - ) okay , i just realized that ' the edge ' was the one with anthony hopkins.. . my apologies to the bear ! anyway , get \" never cry wolf \" ! you wo n't be disappointed ! ! \n",
      "\n",
      "Row 610 has been classified as pos and should be neg\n",
      "this book is a place to start at best . the main part of middle eastern cook that i find enjoyable is the use of fresh produce and spices . this book calls for dried spices at times . the dishes do n't produce the food that i remember eating growing up with my family . the book is not a total loss , however . the spinach pies are acceptable . there are many other books out there that i would recommend first \n",
      "\n",
      "Row 612 has been classified as neg and should be pos\n",
      "i purchased this dryer to replace an older one that is far too loud . while this new one is much quieter than the old one , it really is n't super-quiet . still , i have no complaints on the noise , but the flimsy wall mounting hardware is another story . the threaded holes in the mounting plate are extremely fragile , so much so that they both were wrung out during the initial mounting of the dryer . it did n't help any that the mounting holes were extremely hard to locate once the plate was mounted - it 's hard to see thru that white plastic shell . i ended up having to discard the original threaded screws and use two slightly larger metal tapping screws to mount the dryer to the bracket . this worked fine , but the original mounting hardware is n't very well designed in my opinion . other than that the dryer seems to work very well , although i have n't had it long enough to know how well it will last . all in all , i 'd give the dryer 4 stars out of 5 \n",
      "\n",
      "Row 634 has been classified as neg and should be pos\n",
      "i am a photographer and i am always running down my batteries.. . i have n't found one so cheap as i did here . thank you amazon. . \n",
      "\n",
      "Row 637 has been classified as pos and should be neg\n",
      "we are very disappointed in this product because it provides almost no options to customize the spreadsheet . we cannot rename catagories that are not applicable to us ( i.e. , child care ) , and we cannot create new categories that are specific to our needs . what 's even more limiting and disppointing is that you cannot create a different tab for each month to use for comparison , which makes us wonder what value we gain from having a single month of finances captured . finally , the bar graphs for summary comparisons are shaded the same color of the background which makes it very difficult to read \n",
      "\n",
      "Row 638 has been classified as pos and should be neg\n",
      "dr. scholl 's pedicure essentials cracked skin repair cream had a very nice smell and felt good . however , the long-term effects were n't what i expected . i could n't tell much of a difference after using it for a week . regular lotion that i 've used in the past seemed to have the same effect . perhaps it just needed more time to work \n",
      "\n",
      "Row 640 has been classified as neg and should be pos\n",
      "yeah its great . get rid of ur piece of doo-doo windows operating system and pick yo self up dis ! aight piece yallz . and remember once yo go mac ya neva go back \n",
      "\n",
      "Row 641 has been classified as pos and should be neg\n",
      "just show the real machines working , forget all the goofy narration that is annoying to adults and does n't even hold my son 's interest . he much prefers the fred levine series or the i love cat machines series \n",
      "\n",
      "Row 655 has been classified as neg and should be pos\n",
      "i think microsoft is the best products i have use because i have never had any problems with the software at all but have had other problems with other software was a hade ac \n",
      "\n",
      "Row 664 has been classified as neg and should be pos\n",
      "i 'm a fan of three 6 mafia , and i can say maybe they kinda got a little of three 6 's rap style in this album , but i dunno . dj paul and juicy j , the superproducers , they can never be beaten . i got all the hypnotize minds albums and they did invent crunk music . many people have n't heard of them cuz besides ridin ' spinners and chickenhead they have n't been played on the radio very much except for their new track \" poppin ' my collar . \" crime mob 's alright . the beats are alright , but nothing compared to three 6 mafia . some of them are some krunk songs , i can get hyped to a few of them . but other than that i dunno . the lyrics are rather simple , i 'm an 18 year old white dude and i think i can put together some better bars than these dudes can . but they do get some major play up here in virginia . stilletos and knuck if you buck have n't gotten some airtime . but there 's only like 4 songs total that are worth hearing . i guess we 'll see if they put out another album or not . i think if they had some other fellas from georgia like t.i. or jeezy or something they might get some more hype . who knows , since paul wall 's on every song now maybe he 'll make a cameo . i guess we 'll see . three 6 mafia still the buckest and besides their new artist chrome , who really is garbage , they are still the kings of crunk , not lil ' john \n",
      "\n",
      "Row 674 has been classified as neg and should be pos\n",
      "i decided i wanted this a while before i got it . as i read reveiws i realized majority of them were postive . there is nothing wrong with it , the microphone works really good but you can not watch your videos with sound on the camera . it can take around 300 some pictures and about 60 minutes of video on super sine mode , where it uses the most megapixels . it is definetly something i would recommend for anyone \n",
      "\n",
      "Row 675 has been classified as pos and should be neg\n",
      "this is the first movie i have seen whose rating slipped further the longer it played . \" eight women \" is the story of , well , eight women , who are trapped by a snowstorm - - all 5 inches of it . the man of the house has been murdered in the night . young and old , black and white , of different classes , the women must try to determine who the killer is . \" eight women \" is also a movie about secrets , of which everyone seems to have several . the plot has more twists and turns than an alpine road on the tour de france . yet the first 2 / 3 of the film is tolerable , funny and even a bit interesting . the characters are self-interested and fun . there 's dotty old grandma , a prissy , hysterical virgin aunt , the dead man 's vampish sister and coltish young maid , two daughters , a somber yet elegant wife ( catherine deneuve ) and a black cook . plenty of class and age tension to make three movies . did i mention the music ? every twenty minutes or so , one of the characters breaks into song . these are always those stereotypical french songs - - full of longing and sadness and references to sleep and springtime - - that are tedious to american ears . and bizarre . while one character sings , the rest do slow little dances . strange . by the 2 / 3 mark , i was going to give this quirky film 4 stars . but soon , the plot line spun out of control , getting more and more manic until it finally derailed completely with a tragic ending . definitely not recommended unless you are desperate need of a bizarre experience . \n",
      "\n",
      "Row 687 has been classified as neg and should be pos\n",
      "what has happened to the song \" lives in the balance \" on this set ? if you go to his website it sounds really great ! ! ! on this set it sounds awfull ! ! it sounds as if he was in a really big hurry to get the song over with . the packaging if you could call it that is really lame . foam dots for holders ? what do you do when those fall off ? i suppose you put the cd 's in jewel cases or else they will get really scratched up . not to mention it is missing some of his greatest work ! true you do get alot of songs for the money but , there should have been more time planning this set out before actually producing it . if you own an i-pod i suggest you go to apples i-tunes web page and import the great songs this set is missing as well as the others you really like off of this set and you will probably have spent the same amount of money if not less \n",
      "\n",
      "Row 689 has been classified as neg and should be pos\n",
      "i purchased the videocamera thinking i could watch my old tapes also . this videocam does not do that . i had to return it \n",
      "\n",
      "Row 694 has been classified as pos and should be neg\n",
      "the little rascals collection is a set of 5 dvds with a few shorts on each dvd , the fifth disk with an extra from the 50s and a documentary about child stars . this set was poorly put together , the shorts included are quite random , and buying this set would be a waste of money . each disk opens with a montage of some of the characters . first there is alfalfa , then buckwheat , spanky , darla , porky , mickey , stymie , then fatty - oh wait , no that is joe cobb only they did n't know his real name , then farina , and last phil macmahon - who you may be asking ? phil macmahon , the kid who got bitten by the love bug in a song number in our gang follies of 1938. still do n't know him ? maybe that is because he was n't a regular cast member and should never have been featured like he was in this collection . disk one features the shorts dogs of war and derby day . dogs of war is a silent film featuring the gang running loose on the hal roach lot ; it is one of my favorite shorts from the series . however , it seems that they ripped off the cabin fever print and added a worse score . derby day also seems to be lifted from the cabin fever series . it is a silent film about the gang visiting the horse races . the films themselves are very good . disk two features a rarer silent film called stage fright . it is a film about a show put on about marc anthony by the kids in front of their parents . it is a total disaster . just like in reunion in rhythm , one kid wants to go out on stage and recite poetry . the film has been seriously cut ; there are no opening credits and the short is much shorter than the usual film length . the print is washed out and new title cards have been inserted . the music is much more childish than normal silent rascals scores , but it works . there are sound effects too . sundown limited is a great short about the gang building their own train . it is a very cute film ; farina is especially funny in it . the train that the kids build would have been the envy of all the children in the neighborhood . the print is washed out and the music sounds just like grapevine video 's soundtracks . the film titled the pirates in this set is really called the buccaneers . it is also a cute film about the kids trying to build their own ship . when it sinks , they find a real one to destroy . this short has also been cut ; there is no opener for it either . it is a bad print and has kiddie music attached to it . disk three opens with mary queen of tots . it is a really enjoyable film where mary receives toys that look like the gang . she dreams they come to life , and when she wakes up , she finds the gang and believes they are her dolls come to life . this print is really bad especially considering there is a better print available on another cheaply made dvd set . it is funny that the music is the same on this set as on that one though . the fourth alarm is a film about the kids becoming junior fire fighters . the print on this one is not bad at all . the last film is school 's out , a talkie featuring a different cast . it is a film featuring miss crabtree , the new teacher . the picture is good ; it seems to be the one from cabin fever . disk four begins with bear shooters . this is a less than great film . the print is great ; it is the one from cabin fever . our gang follies of 1938 is a great film , very funny , long , and exciting . it features the later talkie cast . waldo 's last stand is a film from the later mgm years , a lesser film that seems forced . it was also released in a 5 part rascals set . disk five is the extra features dvd . it starts out with a segment from the you asked for it television show . on it , some of the silent gang are reunited . joe cobb , jackie condon , farina hoskins , johnny downs , and mickey daniels are featured . the documentary called kid stuff really does n't have a whole lot of information about the gang although jackie cooper is mentioned and butch bond does an interview . other child stars like jackie coogan , judy garland , shirley temple , roddy mcdowall , and ron howard are focused on as well . the films in this collection are films that have lapsed into the public domain . many of them have been available cheaply for years . the only reason a fan might want to see this collection , the same reason i bothered , was to see the rarer silent films . however , the rest of the set is trash \n",
      "\n",
      "Row 695 has been classified as neg and should be pos\n",
      "this was the only place i could find turbo tax where i did not have to pay extra for state tax . i live in washington and we do not have state income tax . i even asked intuit how to get a version without the state tax , they said that was not possible . i have used turbo tax for many years and i will buy from amazon again next year . too bad some people can not read and then blame someone else for problems they caused . sound like a couple of 5 year olds . the only down side for me i received an email from amazon saying shipment would be delayed 15 days . 2 days later the software arrivied , right on the day amazon originally said it should . do n't know why they sent the 15 day delay email \n",
      "\n",
      "Row 712 has been classified as neg and should be pos\n",
      "i agree with everyone else ; the music on this album is completely magical . two masters at work with a great rhythm section , very spontaneous-sounding contrapuntal harmonies , unbounded joy in every tune , and some interesting arrangements . this is also the worst-sounding cd ( or lp , for that matter ) that i have ever heard . it sounds worse than lo-res mp3s played over the web ; i have recordings of 78s that sound better . i cannot believe that even laserlight would release this . i have other laserlight cds and none of them sound this bad . if they remastered this and made it sound better , i would buy it again . that 's the only reason for 4 stars rather than 5. still , it 's worth getting if you can listen past the horrible sound quality \n",
      "\n",
      "Row 718 has been classified as neg and should be pos\n",
      "my 5 and 6-year olds did n't seem to want to play , maybe too hard . i enjoyed playing and my 11-year old twins really liked it \n",
      "\n",
      "Row 725 has been classified as neg and should be pos\n",
      "the movie is a brillant mix of drama , love , and comedy . the casting was brillant with greats like judd and bullock . in the movie we are introduced to siddalee walker a women who has made her mother vivianne mad . vivianne always seemed heartless and distant to sidda and when sidda tells a reporter about her mother some things get twisted out of proportion and printed the wrong way , which makes vivi mad . enter the ya-ya 's three of vivi 's friends . they feel that sidda should know the truth about her mother and maybe she would understand . so they kidnap sidda and start to tell her about her mother . we learn that vivi was n't well liked by her own mother and was seen as a bad person by her mother . then we learn that vivi 's first love whom she never got over was killed at war which is why she hates her husband . sidda then starts to question her current realationship thinking she 'll be a bad mother and calls off her wedding . phase two of the ya ya 's plan . they must tell sidda something about her mother that will change everything . very good plot that will make you cry and laugh at the same time . this would be a good one to watch with friends or mothers . penny lan \n",
      "\n",
      "Row 743 has been classified as neg and should be pos\n",
      "i used to have some remington shaver that a friend bought me for the last 5 yrs . it was n't bad , but sometimes it irritated the skin . my first shaver was my dad 's old school norelco shaver so i thought i 'd give them a try again . the first one i got from amazon was $40 ( i forgot the model # ) and ended up sending it back to norelco for their 60 day guarantee . it was just alright . this one i feel about the same way . i mean it shaves decently , but as an asian male with not much facial hair , i still see that i have to shave every couple days which i prefer not to . the cleaning system is cool , and the fact that this shaver is so easy to clean ( it says you can open it up and run it under water which i 've been doing to clean it ) make it worthwhile to me though . the battery life is also good . if there was a half star system , i 'd give this shaver a 4.5 / 5 \n",
      "\n",
      "Row 754 has been classified as pos and should be neg\n",
      "i got season one from a friend as a gift and loved it . i bought season two and was pretty dissappointed . the show just became vulgar and sacrificed the hilarity of season one . i loved the ideas for episodes , but did n't care much for how they played out . bill got soft . cuddles and dan got mean . buttons and rocko stayed about the same , but it was n't enough . great show , but stick with season one \n",
      "\n",
      "Row 759 has been classified as pos and should be neg\n",
      "i read the book and saw the movie , which other than title and major characters , have little in common . i ca n't say i really liked either . the book is a little funnier . my major learning from the whole project was when \" who wants to be a millionaire \" taught me about \" roman a clefs \" , of which \" devil \" is one . perhaps if i had more interest in the fashion industry , i 'd have been more fascinated by the inside look that \" devil \" provides . meryl streep is very good as the apparently soulless miranda priestly , editor-in-chief of runway magazine , but somehow she 's never quite devil enough . anne hathaway is passable in her second ( or third ) \" made over princess \" role . the minor characters , including the wonderful tracie thoms as \" best friend \" lily , are mostly wasted . \n",
      "\n",
      "Row 763 has been classified as pos and should be neg\n",
      "i gave one star beacuse it is not color this very old movies i want some in color about depression i have the prombleof the derpression of you have any movies about this please let me kno \n",
      "\n",
      "Row 771 has been classified as pos and should be neg\n",
      "i admittedly have not completed the full book , as it is thick . however i do find that the narrative focuses on the reactive rather than the proactive tools needed for dfss . for example almost all the examples given in section 2 talk about an existing system or process and there does n't seem to be any design examples and how the stats are used to solve the design problems . i therefore think the book is more about six sigma than dfss . barry \n",
      "\n",
      "Row 813 has been classified as neg and should be pos\n",
      "i bought this item last month from amazon.com for $149. i thought it is using some kind of hand-like massage motors , and not those vibration motors . when the item arrived and i setup , i found out they are using the vibration motors ! a little disappointed i am . but i use it , it is not bad if you do n't mind the vibration motors . the heat feature is great . however , the knod that is supposed to hold the sitting position is n't holding well . the leather-like material really feels like a lether . the vibration really vibrates the whole floor , so i suggest to put on carpetted areas only . i personally like the hand-like massage chair better . but this $149 chair is worth the price . others would sell for over $300 \n",
      "\n",
      "Row 814 has been classified as pos and should be neg\n",
      "microsoft office can be handy to have . the files you can open , edit and create with it ( most notably .doc , .xls , and .ppt ) are probably the closest to universal compatibility among all your high quality options . it 's ( relatively ) intuitive . it has a pretty broad array of useful functions . it 's also obscenely expensive , considering the fact that you can get all of these things - - .doc , .xls , and .ppt ; intuitive interface ; and functionality - - for free . i hunted up openoffice two years ago when i decided several hundred dollars was an insane price to pay for the ability to write papers , make basic presentations , or put together spreadsheets . i was looking for basic functionality , but i was pleasantly surprised ; openoffice does most of the neat tricks , too . ( actually , it has a neat trick microsoft can never replicate : it 's open source , so it can respond to the needs of individual users . you just say \" add this neat trick ! \" and someone will likely be able to do it for you . ) it is possible that microsoft office has some killer feature you absolutely must have that openoffice doesn't . but considering the price differential , i would n't splurge on this before checking . \n",
      "\n",
      "Row 815 has been classified as neg and should be pos\n",
      "this was 2pac 's last good album before he joined deathrow.he was a good rapper but never the best , he started too much beef with other rappers for no reason.he had alot of beef with east coast rappers like biggie , nas , jay-z and mobb deep , but he never opened his mouth about wu-tang because they would lyrically destroy him.this is one of the best albums from 95 right behind gza 's liquid swords and mobb deep 's the infamous \n",
      "\n",
      "Row 818 has been classified as neg and should be pos\n",
      "most reviewers on this site are unenthusiastic about this particular product . i think the main reason for that level of dissatisfaction is , as someone else suggested , that people need to pay attention to how , exactly , this trimmer works . because of its design , best results are obtained when it is inserted , withdrawn , then inserted again , and the procedure repeated . second tip : rinse the rotating blade , switched on , under the hot tap to remove accumulated hair , etc , after each use . it works better when clean . the main plus of this product is its size . yes , it is flimsy , made in china , and would probably sell for $2.50 if it did n't say panasonic on it - or come with a 12-month panasonic warranty . but it works very well if you use it right and keep it clean . i have had mine a couple of years and the only problem is that the blade is now dull and replacement blades are apparently not available \n",
      "\n",
      "Row 819 has been classified as neg and should be pos\n",
      "this one is the best of the \" song \" series - the hero is not a rapist , the heroine is n't dumb , and the plot is actually a bit different from the others . nice light reading - renews my faith a little in the author \n",
      "\n",
      "Row 829 has been classified as neg and should be pos\n",
      "i encountered these at last week 's carlsbad triathlon . they tasted really good and i figured if it 's good enough for the military , i 'll give it a try...sure enough , the military knows what it 's doing- -it seems to work as claimed . thumbs up , or , hooah \n",
      "\n",
      "Row 830 has been classified as neg and should be pos\n",
      "i 'm a pc mechanic . i have been using ad-aware with ad-watch ( now called ad-aware plus ) for the last 5 years . it 's pretty good at what it does , but there is newer technology that is going to replace it soon . i 've never had any problems with these program - it does not add any malware - it removes it . however , using ad-aware and ad-watch to their fullest does take some computer savvy - as it seems does any anti-malware on the market these days . all of the other runtime problems the other reviewers here have reported are \" fixable \" by using the controls and tweaks in the software , so that you are not overprotecting your system - one example , the pop-up blocker in ad-watch is adjustable as to its intensity . however , this requires changing two settings - one in ad-watch itself and one in ad-aware . and , yes , at times , i have had to turn ad-watch off to download a file or see a popup i wanted . soooo ? software these days is not as \" automatic \" as the companies would have you believe . if you 're not willing to take the time to learn ( which also means going to the company 's online user forums and asking questions ) , just stick with what windows offers , do n't use outlook or outlook express ( major source of malware on pcs ) and only look at websites you know are safe . ( kinda like the safest form of sex is abstinence - the safest form of surfing is none ! ! ! \n",
      "\n",
      "Row 831 has been classified as neg and should be pos\n",
      "today is 3-19-07. this item is labeled as being purchased on 3-21-07. will i purchase another order on that date \n",
      "\n",
      "Row 836 has been classified as pos and should be neg\n",
      "certainly this album offers very little to a fan of the ocean blue 's eariler work . the vocals and guitars sound quite different ( gone is that beautiful dreamy sound ) . and what about those awesome saxaphone and keyboard sounds that made their earlier tracks so fun ? just because steve lau is gay is no reason for the band to abandon keyboards altogether . so , anyway , what does this album offer instead ? harder sounding guitar , angrier sounding vocals , and songs that are somewhat intersting , but are lacking in any magic that would make you want to listen to them after you 've had the cd for a couple weeks . exceptions : & quot ; whenever you 're around&quot ; , and & quot ; slide&quot ; are good enough songs to standout inspite of boring production \n",
      "\n",
      "Row 839 has been classified as pos and should be neg\n",
      "i was excited to plan out an interior design project with this tool , but ended up disappointed . they definately oversell it as an interior design tool . looking at the brochure online , i really think they must have touched up the images , because i do n't see any way that they could have created them with this product . as a matter of fact , the website punch interior design software package implies that they did just that . the reason i do n't give it 1 star is that the video tutorial section is really great . i wish all software had that . \n",
      "\n",
      "Row 840 has been classified as neg and should be pos\n",
      "i have always been a fan of the star wars saga but never really read any of the novels . this was my first sw novel . i must say i want to be a sith . i just finished this novel last night and honestly want a 2nd coming . if u read the epilogue of this book u will grind your teeth ! the storyline at first felt familiar but then radically changed but had the sw ripple effects . i however got more excited because i played kotor / ep3 the game / kotor 2 and jedi academy so allot of the visuals and things in the book were already visualized for me in those games . i loved the entire transformation and how gradually even the sith were headed like the jedi in ep3. it an amazing story and ca n't wait to a sequel if any . \n",
      "\n",
      "Row 843 has been classified as neg and should be pos\n",
      "i read the review centering on the box the dvd comes in and must admit that i was stumped as well . it was \" different \" but i do n't foresee this as being a problem overall . the new office ultimate 2007 loaded quickly . how quickly ? well , i had to check my new vista hp notebook because i could n't believe that it packed all of the programs onto the system in such a short amount of time . it asked for the product key and one or two other bits of data but that was it . out of all the office suites i have owned , this one loaded so quickly i was sure there was a problem . nope . access , outlook , word , powerpoint , publisher , onenote , excel , groove and a host of others were there ready to be activated ( do n't worry ; you only do it once , not for each separate program . naturally , if you are like me and totally dependent upon email , you 'll activate outlook first ) . the new office \" feels \" different . the ribbons are ok but i would suggest that they allow us the option to retain the classic ( xp ) view . i rely quite a bit on the research task pane and i do n't mind telling you that it was difficult to find . the menu bar is a bit on the thin side and having so many icons on the top added clutter and confusion , at least for me . of course , finding the research task pane could have been quickly resolved if microsoft had put a product manual in the box ( yes , the online help is nifty but sometimes a man just needs to read about it from a manual instead of printing it out ) . all in all you will find all of your old favorites . and , true to the office legacy , they really have not changed enough to warrant a major release but i 'm willing to bet that after all is said and done , office ultimatae 2007 will become the industry standard \n",
      "\n",
      "Row 845 has been classified as neg and should be pos\n",
      "expect a liberal dose of everything you generally do from a martial arts flick - - slapstick comedy , overly melodramatic subplotting , and , on occasion , even a hint of a story . all that aside ( which is how i am sure the director saw it ) the balletic , intricate and often incredible stunt work during the action scenes is an absolute treat . jet li 's utter disregard for human limits is evident as he turns in a surprisingly measured yet kinetic performance , nothing like his forgettable hollywood yawns . the subtitles for this mandarin-language effort are a bit difficult to read , since the english is in small print below the more prominent chinese subtitles . but when the action kicks into gear , forget them and just watch the graceful choreography of the fight scenes . notably notable in the three installments : part-i : a mind-blowing hook-and-ladder battle , plus a terrific umbrella sequence . part-ii : the climactic fight with donnie yen . the speed and technique shown during the double-pole fight is staggering ; yen 's moves with his cloth staff left me gob-smacked . part-iii : this one clearly suffers and is even borderline skippable . the final fight scene at the lion-dance competition is a colorful pageant , but lacks the impact of the one-on-one fights in the first two films , mainly because the participants are all wearing giant lion head masks . all in all , ca n't go wong with this purchase . \n",
      "\n",
      "Row 846 has been classified as neg and should be pos\n",
      "for years i used powerquest 's drive image 7 for backups . it 's rock solid and totally dependable . when symantec aquired powerquest they rolled the underlying technology of drive image 7 into norton ghost . the result is a very capable and reliable package that can backup partitions or entire drives and also provides support for incremental backups . most importantly , like drive image 7 , it provides for emergency recovery of your system . just boot from the ghost cd and restore the backup ( restore point ) that you select . i 've tested this process by making both full system backups and subsequent incremental backups , and then restoring the system from those backups . the process works flawlessly . if you need to restore to a different physical drive ( replaced a failed drive , etc ) , the process requires a few extra selections , but is still very straightforward . just take the time to read the manual . i 've seen acronis true image recommended by some both here and elsewhere . i 've tried acronis and find it lacking in one major respect : it simply is not reliable . during trials , i made backups with acronis . acronis indicated that the backups were successful but , when attempting to make a system recovery just minutes later , acronis indicated that the backups were corrupted and could not be used . the backups were worthless . when purchasing backup software remember that bells and whistles do n't count for anything . the only thing that counts is reliability . it must be able to reliably restore your system . norton ghost passes that test with flying colors . \n",
      "\n",
      "Row 847 has been classified as pos and should be neg\n",
      "as a peripheral bnl fan , i have always admired the off beat sense of humor these guys dish out . with previous releases , i have been able to discover new things in repeated listenings . this cd got stale fast . seems to be geared to the tween crowd . i am hopeful newer releases will stay true to the bnl i have enjoyed in years past \n",
      "\n",
      "Row 851 has been classified as pos and should be neg\n",
      "did n't last that long when use on a digital camera ! ! \n",
      "\n",
      "Row 852 has been classified as pos and should be neg\n",
      "if you want the why and the wherefore ... stay away . informative to general audiences , it provides little scientific support for its contention . with the wealth of information out there , this was not the critical review needed , nor was it terribly informative about any particular statin-caused effect \n",
      "\n",
      "Row 858 has been classified as neg and should be pos\n",
      "buy this cable through amazon and you wo n't be sorry . i looked all over the internet and its sometimes hard to find a good company online to buy through and after the manufacture was sold out these cables , a friend told me about amazon , i typed in the cable number and amazon had it in stock . i decided to order this and hope for the best well sure enough the cable arrived on time just like amazon said . i know have a great working usb cable for my digital camera . i order three since all my friends and family always ask to borrow mine and the fact that i need a replacement . if i had the money i would buy five of these . its the fact that me , my family , and friends are always misplacing are cables or losing them . so i order this cable through amazon . its nice to know if i lose my cables i can buy more . ever since i bought these cables i have been making sure i know where i put em . be happy and buy with no worries \n",
      "\n",
      "Row 861 has been classified as neg and should be pos\n",
      "low tech and brilliant , music that seems to have channeled zappa , winchester cathedral , and god knows what else . incredibly funny , and then suddenly sad . mr pink is a genius , you betcha . and he explains what it is and how it is to live here in this strange quasi-city in the shadow of the industry , in the curiously full and fun wasteland of other people 's dreams \n",
      "\n",
      "Row 864 has been classified as neg and should be pos\n",
      "this movie is a scream ! i laughed until i thought i was going to die . comedy does n't get any better than this . the characters are incredible . it 's amazing the actors could keep straight faces while making this movie ! do yourself a favor and watch this movie ! it 's even better the second time around \n",
      "\n",
      "Row 866 has been classified as neg and should be pos\n",
      "this product is very easy to install and use . in couple of minutes , i was able to set it up . i used the phone jack to input the music from cassette player to the computer and it worked well . the reason i give it four star out of five is that it records the music in wave format and there is no software in the package that converts wave file to dvd / cd / mp3 format \n",
      "\n",
      "Row 867 has been classified as neg and should be pos\n",
      "i 'm a big koontz fan and as is generally the case , i greatly enjoyed this story . it was a little strange but that 's to be expected from this author and genre . that said , it starts off fairly quickly and flows well through most of the book . it had the curious sense of near-division in that the book almost seemed to be separated into two distinct sections that were not , in my opionion , as well-connected as in many of koontz 's other books . in addition , the ending seemed a little hasty . thus i gave it four rather than five stars . that said , i would gladly recommend it to a friend as i would most any of this author 's work \n",
      "\n",
      "Row 872 has been classified as pos and should be neg\n",
      "the & quot ; latin&quot ; moves in this workout seem strangely like american aerobics to me . you can work up a sweat by adding a lot of intensity to the moves , but if you 're interested in latin dance , my advice is to buy brazilian dance workout with vanessa isaac instead . this workout just is n't as energetic and fast-paced as it looks \n",
      "\n",
      "Row 877 has been classified as pos and should be neg\n",
      "i saw this movie and was shocked at the contents , considering that it was aimed at children . it starts out with the gypsy esmeralda doing a very provocative stripper style pole dance . while no stripping happened , there was n't much other difference in the style of dance . later in the movie , one of the men is obsessing over her in a manner i would never want my children to see . he sings a song about how she will burn in hell if he does n't have her , and meanwhile a vision of her provocative dancing is playing out in the flames of a fire . regardless of the rest of the movie , these two scenes make this highly innapropriate for children . not to mention that the story is very untrue to the novel , which had a tragic ending rather than a happy ever after one . \n",
      "\n",
      "Row 880 has been classified as neg and should be pos\n",
      "the best part about my ijoy 130 is the price i paid . day after xmas linens and things had only the floor model left . got 20% off of that plus signed up for the credit card to get another 10% off . 30% off made the chair $500 instead of $700. i am in it as i write this ! ! ! very nice and relaxing . sometimes the \" percussion \" setting is a little too hard in some spots but otherwise it 's great . i would agree that i wish it went a little further up the neck . i just sit a little lower in the chair for it . not sure if it 's worth $700 just because that 's alot of money but i 've got no problem with $500. i think my wife and i will get alot of use out of it \n",
      "\n",
      "Row 885 has been classified as pos and should be neg\n",
      "what could have been a hilarious , informative account of breaking outlandish old-fashioned laws and getting ( or not getting ) in trouble for them turns out to be no more than the story of a couple of clueless young british guys ( i think the author is around 23 ) wryly making fun of america 's perceived backwardness . sometimes it just seemed like they were trying to do things and , when they could n't , they outright gave up on some great chances . the swedish girls in frisco : why include it if it did n't come to fruition and , furthermore , involved no lawbreaking ? ? ? i 'm still wondering why they included their 2-page tour of hearst castle when it was little more than a miniscule travel log ( cool , hearst had greco-roman statues in his poolroom ) . they do n't get arrested and they do n't really accomplish anything . too bad \n",
      "\n",
      "Row 892 has been classified as neg and should be pos\n",
      "i really enjoyed this movie and felt it was better than the remake . both this one and the new one hold to a very similar story line \n",
      "\n",
      "Row 894 has been classified as pos and should be neg\n",
      "the dvd came in a timely manner , packaged well and i have had no problems with the item . it seems to be in great condition \n",
      "\n",
      "Row 895 has been classified as neg and should be pos\n",
      "this book consists of 29 stand-alone essays , beautifully written and previously published in the \" new england journal of medicine \" during the early seventies . from the first chapter : \" the viruses , instead of being single-minded agents of disease and death , now begin to look more like mobile genes...we live in a dancing matrix of viruses ; they dart , rather like bees , from organism to organism , from plant to insect to mammal to me and back again , and into the sea , tugging along pieces of this genome , strings of genes from that , transplanting grafts of dna , passing around heredity as though at a great party . \" although there is no continuity from chapter to chapter , there are consistent threads of thought as the author free associates : 1.there is a joyful attitude about science and discovery and abundant tidbits about the goings on of living things . 2.there is constant reference to the interaction , symbiosis , and co-operative living arrangements amongst the different species . 3.there are numerous references to the mindless activities of ants , bees , and termites , whose activities create sophisticated , developed projects without any evidence of central control . these examples are repeatedly compared to humans and their social activities , with the human emphasis being on language . 4.the cell is the unit of life , complete with all its intricate inner workings . the cell membrane ( cell wall in plants ) is the protective layer that makes this unit of life possible . in the first chapter and frequently throughout , the author wants to think of the earth as a kind of organism , but he ca n't make it work - too big , too complex , too many working parts without visible connections . then in the last chapter , a better analogy emerges . the earth is like a huge cell and the protective atmosphere that shields us from meteors and cosmic rays is our cell membrane . this fine book is a precursor to books from the likes of carl sagan , richard feynman , and stephen jay gould . reading the chapters randomly is not a bad idea - each one is only four to six pages long and each gives the reader plenty to think about . amazingly , after 30 years , there is a little - but not much - in this book that is out of date . if you are a little rusty on biology , have your \" oxford dictionary of science \" handy . first class . \n",
      "\n",
      "Row 899 has been classified as neg and should be pos\n",
      "i got tiger to improve the working of my powerbook g4 1.5. my jaguar installation was getting pokey after two years and a clean install with tiger cleared out the annoying slowdowns in my computer . before tiger , my computer would hang when playing large dv files ( such as the ones i made in imovie ) but now they run without a hitch even though the hardware is the same . this tiger upgrade does n't include some of the apps ( games , quicken , etc. ) that my wife has on her new macbook , but it did include a 30-day trial verion of iworks which has come in handy \n",
      "\n",
      "Row 906 has been classified as neg and should be pos\n",
      "the picture is fine at this price . i bought the panasonic vdr-d100 for my daughter because she usually does n't want to do anything with the computer like edit video . when we gave it to her the first thing she asked was , \" can i edit the movies ? \" i did a quick test to make sure the dvds would finalize and work on another dvd player with success on 3 computers and 3 dvd players . i did n't find anything the disc would n't play on . then i started up vegas movie studio platinum which i use to edit my minidv movies . i selected import from dvd and it went straight to the minidvd and loaded in the files where i was able to edit and add titles , music , sound effects and a voice over if i wanted to . since i already bought dvd-r / w discs she will be able to reuse them if she ever edits the movies because you can unfinalize the discs and reformat them . \n",
      "\n",
      "Row 912 has been classified as neg and should be pos\n",
      "una de las mejores compras que he hecho , es facil de manejar y deja el cabello liso y con brillo.. . es fantastica \n",
      "\n",
      "Row 913 has been classified as pos and should be neg\n",
      "babyliss pro instant heat 5 jumbo roller hairsetter comes in a compact , useful size . however , the rollers take a long time to heat up . even if left plugged in for a half-hour , they do not reach a high enough temperature to effectively curl thick hair . i would not recommend this product \n",
      "\n",
      "Row 915 has been classified as pos and should be neg\n",
      "this woman may have a great body , but she cannot teach dancing for anything . in the 35 minute ' cardio dance ' portion , dance steps are taught frustratingly fast ( and this is from somebody that enjoys dancing ! ) . it took so long to figure out the steps- -which are not your ' typical ' exercise or step class steps- -that i shut the dvd off and jumped on the treadmill . the two 15 minute hip and thigh workouts are a little better , but you really need to do them both back-to-back to feel any benefits . i would say this is a good video for anybody thats got lots of patience to learn the moves and an alternate workout for the first few times you run the dvd , because you 'll get no benefit from the workout while trying to figure out what she 's doing . save your money ! \n",
      "\n",
      "Row 925 has been classified as neg and should be pos\n",
      "i read this book on vacation . many years ago i read & quot ; in the shoes of the fisherman&quot ; and & quot ; the clowns of god . &quot ; i enjoyed both of these books but not enought to search out and read the third book in the trilogy . what a mistake ! this book contains the politics of power , the behind the scenes strugles and the fears and doubts as well as the faith and triumphs of the servants of the vatican , as well as the italian and international scene . the relationships both formed , forming and parting kept me glued to the book . the pace was fast and enthralling . do not miss this book . the end was somewhat predictable , but never-the-less still shocking \n",
      "\n",
      "Row 926 has been classified as neg and should be pos\n",
      "its just realy sad that hip-hop dont sound like hard to earn anymore.. . gang starr still gets daily airplay on my stereo and im glad i support these guys \n",
      "\n",
      "Row 927 has been classified as neg and should be pos\n",
      "works fine . like several other office packages lacks database program , access \n",
      "\n",
      "Row 931 has been classified as pos and should be neg\n",
      "this is the cheesiest music ever . phil collins , glenn frey , chaka khan ? are you kidding me ? these were the worst artists of the 80's . where 's u2 , rem , the pixies , x , the pretenders , tom petty , prince , springsteen , the replacements , husker du ? does anyone like rock and roll ? phil collins writes songs for disney and pixar now ! what did glenn frey know about ' smugglers blues ' ? do you think he was writing from the experience or from the heart ? these are the worst artists , songwriters and performers of the 80's . enjoy the nostalgia , but the art which is song is seriously missing on this cd . \n",
      "\n",
      "Row 939 has been classified as neg and should be pos\n",
      "it installed without any problems . it runs without any problems . i am very happy with it . i am a convert from microsoft money . i am self employed and have one employee . my wife is also self-employed . we have twenty different financial accounts ( investment accounts , retirement accounts , checking accounts , savings accounts , a mortgage , a home equity line of credit and credit cards ) . we often pay business expenses with our personal credit card , as the credit card gives us frequent flyer miles for every purchase . quicken 2007 home and business allows us to do our personal accounting and business accounting all in one program , which makes it much easier . the one step update ( automatic downloading of our transactions and balances from financial institutions ) works with 17 of our 20 accounts . downloading data from the other 3 accounts requires some manual steps , but is still fairly painless . i like the online backup feature . it is inexpensive ( you pay a small annual charge ) and easy to use . i am not very impressed with the investment analysis features , although i have not yet fully explored them . i would like to be able to compute realized and unrealized annualized rates of return for individual positions or groups of positions , and it does n't seem like i can do that in this program . \n",
      "\n",
      "Row 954 has been classified as neg and should be pos\n",
      "i notice with gratitude that symantec has removed many glitches from nav . installation is now faster and smoother . the program is running well in the background , updating itself and sending notifications of any attention it needs \n",
      "\n",
      "Row 957 has been classified as neg and should be pos\n",
      "all i needed was to upgrade the hard drive on my dell laptop , so i got acronis true image version 9 for half the price of the current version 10. i put the new hard drive ( right off the sealed box ) into a usb caddy that i got on ebay for $6 , plugged it into the usb port , and ran acronis 9. selected the \" clone drive \" wizard , and less than an hour later it was done . no need to cross my fingers.. . the new drive booted right up , and i 'm using it now to write this review . what could be easier \n",
      "\n",
      "Row 959 has been classified as pos and should be neg\n",
      "i love canon products and i have had a complete canon system for about 10 years . i love everything canon does . however i do not understand canon 's reasoning behind producing this lens . the reason for the ef-s lenses is offering wider angle by getting the rear elements of a lens closer to the \" film \" plane . they cannot do this on film and full frame sensor cameras because the mirror is larger and would hit the rear elements of an ef-s lens . they have indicated , however , that by 35 mm that advantage is gone . why then do they produce a 60 mm macro lens when they already have their macro requirements covered with they current three lenses ? i would guess that the short back focus makes the lens cheaper ; but this lens is only $60 short of the excellent 100 f2.8 usm macro . as i said , if for $60 i can get a lens that has 40 mm more reach ( 66 in 1.6crop cameras ; useful in macro photography ) and that works on all canon cameras , i 'm not going to be thinking about this lens at all . granted , you might not be thinking of buying a ff camera anytime soon , but canon has indicated that eventually they will have ff on all their dslr 's , so why bother with this lens ? the 17-85 or 10-22 are very reasonable offerings for the ef-s lineup , but the 60mm macro does n't make any sense to me . my $0.0 \n",
      "\n",
      "Row 964 has been classified as pos and should be neg\n",
      "i should have reviewed this along with fm . both were double record hit soundtracks . both represented youth . both are excellent time capsules of what radio was playing . one was a bad movie with a great soundtrack and the other was a classic movie with a terrible soundtrack . this is the terrible soundtrack . when the best songs are by billy squier and sammy hagar you know you 're in trouble . jackson browne , joe walsh , don henley are each awful . so were the go-go's . not surprisingly don felder and jimmy buffet both sucked . i almost fell asleep in route 128 traffic when graham nash played . the band that called themselves poco ca n't be the same poco i grew up with . there were some listenable tracks by timothy b . schmit , louise goffin and stevie nicks but then there 's quarterflash . however , amongst all this crap was a gem...the very last song is goodbye goodbye by oingo boingo . this song rocks and danny elfman sounds crazed . unavailable anywhere else which saves this from the trash \n",
      "\n",
      "Row 974 has been classified as neg and should be pos\n",
      "i bought version 5 of this software a few years ago and was very pleased with the many features . a tech at my isp ( bellsouth ) recommended this software to me . i recently purchased version 6 for my new laptop which is running windows xp pro . installation was a snap . updates are frequent and install quickly with my dsl connection . the software suite has in my opinion more and better features than norton pro which i use on my desktop . i really like the registry cleaner ( fixer ) and the defrag tools . ( they use trend micro for virus protection ) the program allows simple maintenance or for more experienced users indepth tools that allow you to maintain and tweak your system . there is a lot of extra programs that come with this software that i did not install after reading some reviews and warnings about using them . however , my personal experience after installing just the system suit 6 professional has really been good for me . i bought my copy from walmart and filled out the rebate following the instructions carefully and i received my rebate after about 6 weeks . i hope if anyone buys this software because of my recommendation will have similar results . i would rate my knowledge of computers as above average , which may be why i did not have any problems with the software . \n",
      "\n",
      "Row 985 has been classified as neg and should be pos\n",
      "what can i say other than this is simply hands down the best operating system on the planet ! we were spoiled by how flawless it performed , and sold our pc soon afterward . \n",
      "\n",
      "Row 987 has been classified as neg and should be pos\n",
      "the philips digital frame truly stands out from all other digital pictures frames that i 've gotten . the resolution and picture quality superb , and the sleek outer design is an additional plus . also , the picture frame can be charged and last a couple of hours without a cord , which is very convenient . as another reviewer said , you have to scroll through your entire collection one-by-one on your memory card in order for you to get to the picture you want . it would be more convenient if you could skip through pages or have a blackberry type rolling scroll on the side of the frame to speed through if you needed to . also , i would like to see philips next frame include a flashdrive slot as well , that way we can upload pictures from our computers to the usb flash drive and directly insert the flash drive into the frame without tranferring them onto a memory card . thank you \n",
      "\n",
      "Row 993 has been classified as pos and should be neg\n",
      "one good song , of course \" the sound of silence \" , and the studio version is far better than this one . i am not a fan of the genre as you might expect \n",
      "\n",
      "Row 997 has been classified as pos and should be neg\n",
      "my boys have grown up with dave hood playing all sort of characters like busdriver dave , pilot dave and fireman dave . i was excited to get this new dvd as my youngest is crazy for tractors and dump trucks . unfortunately , there 's a new dave ( kind of like the change that took place in blues clues ) and it 's just not the same . the new dave is not bad perse , but after years of dave hood 's cheesy grin , i ca n't say that we watch this one much if at all \n",
      "\n",
      "Row 1023 has been classified as neg and should be pos\n",
      "they do't make musicals like this anymore . well , they do n't really make musicals anymore , do they ? they used to make them , made them well and they came out like \" down argentine way . \" the plot is just enough to keep your interest but the music is bright , costumes lavish and not a few laughts . the major players - betty grable and don ameche - are as engaging as usual.carmen miranda makes her us film debut and sings , dances and mispronounces her way to stardom . the 20th century fox role players appear ( charlotte greenwood , j . carrol naish , henry stephenson ) and add to the fun . \n",
      "\n",
      "Row 1028 has been classified as pos and should be neg\n",
      "you get a view into 60 's white america . the only people of color in this book are a policeman , and a caricature . i do n't have a problem with other seuss books where they are set in fantasy land and the whole world is make believe . this is set in everyday life , and i think its best left on the bookshelf , it has nothing to offer my child who has and who lives in a world where folks have brown eyes and black hair , not to mention various shades of skin colour . the rhyming is also not entertaining enough to enjoy and makeup for this one-dimensional & quot ; white&quot ; depiction of the world \n",
      "\n",
      "Row 1031 has been classified as neg and should be pos\n",
      "i really like my new windows vista upgrade.the graphics are stunning and it is extremely user friendly.infact , i liked vista business so much , i upgraded to the ultimate version.both versions are very easy to install ; many people seem to be waiting for ' all the bugs to be worked out ' but , honestly , the bugs are n't a problem.it is important to run the advisor about -is your system ready for vista before you install - to get rid of any conflicts your computer might have with vista ; other than that everything else is a breeze . use my system about 6 hours a day and am using a xps 700 dell computer go for it , you 'll have lots of fun ! \n",
      "\n",
      "Row 1036 has been classified as pos and should be neg\n",
      "we went to a book siging to get this book . truthfully , i was n't sure if the book was going to live up to the hype . t.o. graciously signed books and all proceeds went to charity . i was surprised this book was so well written . my four year old wants me to read it over and over again . he does n't like for me to read to him but he loves this book ! it is the perfect book for children . its not too short but not too long . i have read this book at least 10 times in the past 3 days . i would recommend this book to anyone with small children . it is great book for little boys because of the football theme . however , the lesson is something everyone can appreciate . great book \n",
      "\n",
      "Row 1037 has been classified as neg and should be pos\n",
      "for a plot synopsis please read the amazon review . i wish to talk about the reasons why you will love this film . as a longtime fan of both sam raimi ( of the evil dead series ) and bill paxton ( aliens , twister ) , i went to see this on opening night . not many people can claim this i 'm sure because it was and is , such a small film that received next to no marketing . for shame . this film is in the best tradition of modern film noir including blood simple and fargo , both made by the cohen brothers . film buffs will be able to draw the connections to those films and their filmakers , so i wo n't bother to get into that . should you have seen either of these films and enjoyed them , i suggest you stop reading and immediately rent a simple plan . if not , keep reading and i will try to express why this film is so remarkably brilliant . and why i hope you will take a look at it . a simple plan is , at its core , about four people . and underneath all the plot devices and twists , it 's about how they relate to one another . notice i did't say characters , because this film does n't have actors simply delivering dialogue . it 's about people you get to know , understand and sympathise with as they undergo the most brutal of dilemmas . sure , finding a mysterious bag filled with money is an excellent plot device , but the heart of this film is much simpler than that . it 's about the basic human flaw of committing a criminal act and trying to weasel your way out of it . and being forced to do the most unthinkable things in the process . that 's what gives this film such depth . you watch these people try to figure out how to cover every angle so they can get away with stealing a whole lot of cash . and in the end it falls apart for two reasons : the details and the human factor . they say the devil is in the details and this is never truer than with a crime . as for the human factor , where greed is concerned , people cannot trust one another because they fear the other person 's greed while are unable satisfy their own . in many respects this film is almost an homage to blood simple and fargo , but in many ways i think it is superior . i often draw the comparison by a scene which is both a simple plan and blood simple where a body is increasingly difficult to dispose of . and even afterwards , after the emotional toll the has been taken , once one evil act is committed , another is sure to follow . it 's so painfully facsinating to watch a person work out their problem on camera , frantically going over the details in their mind , all the while their heart is beating a mile a minute . bill paxton does this better than anyone . he is such a likable man ( both in the film and in life ) that you ca n't help but feel sorry for the mess he has created . his entire performance is a balancing act between getting away with a seemingly harmless crime , keeping his partners at bay and their mouths shut while being prodded along by his conspirator wife . that may make them all sound malicious , but really the opposite is actually true . they 're all normal folks , like we 've all seen a hundred times . and in the end it really gets to you because you can imagine how you would react in the same situations they find themselves in . after all , were you faced with the choice to steal a couple million dollars that no one would miss , what would you do ? but then again , nothing is ever that simple \n",
      "\n",
      "Row 1055 has been classified as pos and should be neg\n",
      "this product is great at exfoliating , not so great at hair removal . your skin will be silky smooth , but still have hair . the hair that is removed does n't stay gone long . and it 's tricky to maneuver into the curvier parts of your body . it will definitely have to be used in conjunction with another product . \n",
      "\n",
      "Row 1056 has been classified as neg and should be pos\n",
      "its kind of hard to deny what krs-one has brought to the game . his flow is phenomenal and the insight he gives is precious even now . standout tracks : duck down , ruff ruff ( dope match up with freddie foxx ) , 13 and good ( the story of a guy who sleeps with a teen that calls her father who is a gay cop will have you in stitches ) , poisonous products , questions and answers , like a throttle , we in here , the real holy place ( the deepest track on here ) , who are the pimps ? and the reggae tinged joints like say gal and sex and violence are gems also . filler : none ! bottom line : bdp 's six album is still a classic with a message that still isnt heeded till this day . besides the slammin production , krs showed that he was 100 steps ahead from the average rapper with this album . any born again hip hop head would do well to start off with edutainment and work their way down to this album . \n",
      "\n",
      "Row 1060 has been classified as neg and should be pos\n",
      "o.g. ron c did a good job screwin ' & choopin' . he really gave the rest of tha u.s. a taste of texas ( tha lone star state ) . tha best time to listen to any screwed & chopped music [swishahouse , chamillitary , d.s.r. ( dirty south rydaz ) ] is you are throwed ( drunk ) off that syrup . this was a good thing that o.g. ron c did , choppin ' boyz up & not sloppin ' boyz up. chamillitary man ! ! \n",
      "\n",
      "Row 1061 has been classified as pos and should be neg\n",
      "i loved shedaisy 's first album the whole shebang . and i also really enjoy their christmas albumn . they have beautiful voices and i love the three part harmonies they come up with . i was very excited to get their newest album but i was sure dissapointed . this is a very dark and depressing album . almost every song is about lost love . also , all the songs but 1 are slow . where is the upbeat shedaisy i fell in love with ? ? ? i would suggest passing this one up and instead just listening to the whole shebang again . still , i look forward to what the future may bring from them . these sisters have alot of talent \n",
      "\n",
      "Row 1072 has been classified as neg and should be pos\n",
      "i 've seen this item for no less than $7.00 elsewhere , so i got a good deal . \n",
      "\n",
      "Row 1073 has been classified as pos and should be neg\n",
      "very good product very satisfied , the night vision is great clarity is very good and portability is awesome plus the price is even bette \n",
      "\n",
      "Row 1076 has been classified as neg and should be pos\n",
      "it is working well , little slow warm up . but actually i wanted a hot air brush , not this , because i have very short hair , but i was mistaken when i ordered hot brush instead of hot air brush \n",
      "\n",
      "Row 1079 has been classified as pos and should be neg\n",
      "many words - few practical tips ! this book did not give much more ( -valuable - ) information than i already had found out by reading the manual delivered with my pocket computer . after reading the book i still had to search for web communities , where some of my questions could be answered . my expectations when buying the book were mainly focused on the need for practical hints concerning how to manage tasks , contacts and appointments . unfortunately , in my view , these important and basic issues were treated too superficially . \n",
      "\n",
      "Row 1081 has been classified as neg and should be pos\n",
      "i remember putting season 9 as the worst season of friends in my book , but it 's not as bad as i remembered . some episodes are actually incredibly funny . the faux pas was when they started to have aisha tyler guess star as charlie , and have her come between joey and ross . also , the whole story line with rachel 's infatuation for joey could 've been better executed , or should n't have been there at all . it got bad towards the end , but i 'm not disappointed . the stuff leadings towards it was classic friends \n",
      "\n",
      "Row 1087 has been classified as pos and should be neg\n",
      "homesick : my own story by jean fritz is a story about an american girl who grows up in china . she spends a good part of her life wishing she could be in america , where she belongs . when she 's not doing that , she 's corresponding with her grandmother , trying to make friends with some young chinese children , and learning british culture in school . as you can see , jean fritz would be an excellent storywriter had she made it up . however , this story is an autobiography , and is in almost no way fictional . jean fritz is an excellent storywriter anyway , though . jean fritz describes the setting as if her pen were a plane ticket . her story line makes it difficult to locate the plot , or even understand the full story . the autobiography is punctuated by emotions . all in all , this is a fine educational history text , but is not , in my opinion , a fitting storybook \n",
      "\n",
      "Row 1111 has been classified as neg and should be pos\n",
      "i 'm a high school freshman studying romeo & juliet and i cannot understand hardly any of it . i found this book at a borders bookstore and i have been reading it and it is extremely helpful . there 's a line-by-line translation that makes a ton more sense . buy this if you 're having trouble with r&j \n",
      "\n",
      "Row 1117 has been classified as neg and should be pos\n",
      "onecare is not a tweaker 's friend . it has no knobs and gizmos for power users to tinker with . however , it does one thing right . it works . when you use it , you truly do have one care . do what it tells you to make it green . if you can do that , your computer is safe from viruses , hackers , malware , spyware , known security vulnerabilities , low disk space , slow disk access , and data that is not backed up . onecare takes a layered approach to keep you and your data safe . it has an inbound firewall to keep bad stuff out of your computer . if bad stuff gets through the firewall , it has antivirus to stop it from affecting your system and an outbound firewall to keep it from spreading . if that does n't stop the bad stuff , it makes sure you have a backup of your data on a separate drive or on cds . in the past , i have n't bought security products . there are plenty of free ones on the market that do a satisfactory job . however , ever since i tried onecare as a beta tester , i fell in love with it . it is simple to use . reduce your worries about being online down to onecare and try it today . you can even install it on other computers to help keep friends and family protected \n",
      "\n",
      "Row 1126 has been classified as pos and should be neg\n",
      "yes , i have to agree with the previous review . it does n't seem to make any difference in reducing lens flare from light sources . it does n't seem to extend far enough to actually do anything . if it was less expensive i would n't mind as much , and just chalk it up to extra protection . but that seems to be all it 's good for \n",
      "\n",
      "Row 1143 has been classified as neg and should be pos\n",
      "the overwhelming impression i get from this film is : wow , these guys are alive ! they are not just making their way through a boring life , they 're out there doing interesting things , doing cool stuff , having adventures & generally living their lives to the fullest . the \" they \" that i refer to includes just about everybody in the movie , from paul pena to the guys travelling with him to richard feynman to the tuvans that paul meets and befriends . the documentary gets hazy in spots ( i 'm still not sure of some of the tuvan inter-relationships ) but does a good job of establishing empathy with pena , a blind man relying on others in a place far from home . the dvd extras are o.k. , the interview with the filmmakers gave some backstory to the movie . i did not watch the film with the filmmakers commentary turned on ; a commentary seems kind of contrary to the purpose of a documentary but i suppose you could get more factual info & technical details on the commentary \n",
      "\n",
      "Row 1144 has been classified as pos and should be neg\n",
      "the problem with america was that started out great . the first album was fresh and different from everything . three young boys and accoustic quitars was a song all it own . \" horse with no name \" and \" sandman \" , was what pave the way for them . the problem was that each album after that they got farther away from their roots and into the middle of mainstream pop . they should of left \" muskrat love . \" to the captain and tennille . this album does a fine job of showing their career from beginning to end . the problem was that there was their first two albums , ( america and venture highway ) and there was their others . my recommandation would be to pick up the first 2 and leave this for the die hard fans \n",
      "\n",
      "Row 1159 has been classified as neg and should be pos\n",
      "excellent product . the ' over $450 value ' might be a bit overstated but the packages is still an excellent value . during installation , the 1 year free trial to [...] showed up as a 30 day trial but was resolved quickly through familytreemaker.com support and a subsequent call to ancestry.com support . ancestry.com provided a 1 year free trial to their us deluxe product over the phone and did n't ask for a credit card number for renewal . to me , that 's a sign that they 're a reputable company . some of the additional software in the package is buried on the installation cd but is worth the extra manual effort to find and install - especially the gensmart software . \n",
      "\n",
      "Row 1162 has been classified as neg and should be pos\n",
      "i bought this camera just before a trip to ca and then a cruise ! it is very easy to operate ( even for a techno-retard like me ) and the pictures turned out great ! i have started to use the filming feature recently as my video recorder is with my son @ college and i want to film my daughter 's drill team performances ! i really like the fact that it does n't turn on while in my purse ! ! ! my old camera did that a couple of times , and i ended up with quite a few pictures of the contents of my purse - anyone want one ? ( lol ) all in all , a great buy ! 8 months later and the lcd display is gone ! literally , gone ! do n't know what happened - took pictures / movies of daughter 's drill team performance , and when i got it out again to take pictures before sadie hawkins , it would still take pictures ( i just downloaded them ) but since the display looks like \" a piece of plaid fabric with a marijuana leaf coming in from the right side \" i do n't know what i 'm taking a picture of ! need to replace soon ! i 'm ( now ) bummed \n",
      "\n",
      "Row 1177 has been classified as neg and should be pos\n",
      "i have been procrastinating in upgrading our website so i figured i 'd read a few books.. . a great way to procrastinate some more . well marcia writes in a step by step practical way , creating a marketing foundation first then getting to the beef . i 'm now educated and inspired , have a notebook full of notes and ideas that i 'm actually implementing . it 's getting done . i 'm actually recommending this book to friends who are redoing their marketing message since the first two chapters do that so well.. . great book , not heavy , beefy info \n",
      "\n",
      "Row 1190 has been classified as pos and should be neg\n",
      "not that great . a far better read is \" sun , sin and suburbia : an essential history of modern las vegas \" by geoff schumacher . \n",
      "\n",
      "Row 1208 has been classified as neg and should be pos\n",
      "jimmy carter is usually considered a mediocre president at best , totally incompetent at worst . nothing could be further from the truth . this book lists his presidential successes and goes on to show how they led to his influential post-presidential activities . we now can see jimmy carter for what he truly is , a human rights champion and a shining example to us all \n",
      "\n",
      "Row 1213 has been classified as neg and should be pos\n",
      "i read horror storied about 7.0 nero so i upgraded to 6.6 from 5.5 by going to the amazon new & used market . this is a good program that does all you need for dvd 's and cd's . it gets good reviews . i ca n't imagine what happened to 7.0 but they may have gotten carried away with \" user friendly-ness \" - i see a little of that in 6.6 compared to 5.5 \n",
      "\n",
      "Row 1217 has been classified as pos and should be neg\n",
      "the title of this book should be \" photoshop finishing borders \" dave devotes too much time and effort giving tips on framing and giving borders to your images . there are a few other tips i was happy to see , however i have to give this one a definite thumbs down . i still love you dave . ( i want my money back ! \n",
      "\n",
      "Row 1230 has been classified as pos and should be neg\n",
      "kate moss ? that gawddamn rollerskate song ? oh , no . the spoken tracks are equally repelling . there is really no atmosphere to this album \n",
      "\n",
      "Row 1232 has been classified as pos and should be neg\n",
      "the mirror 's light is quite dim and the magnification ( 5x ) is inadequate for most purposes \n",
      "\n",
      "Row 1237 has been classified as neg and should be pos\n",
      "this original version is much funnier than u.s. version . the humor is dry and intelligent , and the characters are very complex : at times , you feel sorry for them ; other times , you love them and laugh with them ; and mostly , you think they 're idiots . what a talented group of actors and comedians to create such a complexity of emotion in an audience . it 's not often i can watch a dvd or series over and over , but this is one that i 've enjoyed each time \n",
      "\n",
      "Row 1241 has been classified as pos and should be neg\n",
      "the quality of the samples is better than the quality of the recordings . \n",
      "\n",
      "Row 1244 has been classified as pos and should be neg\n",
      "having been a fan of joan osborne 's take of \" son of a preacher man \" on her original indie record and \" heat wave \" from the recent ' standing in the shadows of motown ' soundtrack , i was looking forward to hearing this record of covers . i was ultimately disappointed . first of all , i have to say , there are two real gems on here that really needed to be updated , one for its amazing vocal / instrumental sound ( the spinners ' \" i 'll be there \" ) and the other for its message ( timmy thomas ' \" why ca n't we live together \" ) . to be sure , there are some great tunes on here that i am always up for listening to , such as stevie wonder 's \" love 's in need of love today \" and undisputed truth 's \" smiling faces somtimes \" , but osborne adds little to these . when she does change things around , the effect is questionable . i know that norah jones has brought back the torch song style , but osborne 's bluesy take on edwin starr 's \" war \" is seriously misguided . the same is true when you rip the melody and add bland vocals to classics like aretha franklin 's \" think \" or the band 's \" the weight \" - especially since the former could have really used some punch from such a powerful singer like osborne . overall , this was a missed opportunity . i hope her upcoming 2005 record is a reinvention \n",
      "\n",
      "Row 1245 has been classified as pos and should be neg\n",
      "gonzalo is a fantastic pianist . this cd however is meant to capture his more thoughtful and sensitive side . however , it is languid and the tunes do n't stand out . it is hard to tell if track 2 is really track 4 as the plodding bass and minimalist approach on piano make for sleepy moments - if driving later in the day . i have heard him with fire and brimstone and sometimes it goes over the edge of taste . but it is exciting . not here . there is barely a hint of any cuban influence in this music as well . now some will like the gentleness i suppose , but with weak material and not much diversity , it sits pretty flat with me \n",
      "\n",
      "Row 1247 has been classified as pos and should be neg\n",
      "but leaves a lot to be desired in practice . just get a small electric or hand crank food processor . this is not worth your time \n",
      "\n",
      "Row 1248 has been classified as pos and should be neg\n",
      "i purchased two aquis microfiber , waffle , white ( 19 x 39 inches ) towels . although they are quite expensive , the positive reviews made them sound great . well , they are not . the towels are quite thin , and do not rub / slide well on the skin . they give the feeling of having a rubbery coating of some kind which makes them wad up when you rub your skin . they are the same thickness as a dish towel , so we are using them to blot the dishes when they come out of the dishwasher . save your money on this one ! \n",
      "\n",
      "Row 1249 has been classified as neg and should be pos\n",
      "funny thing to mention here is that the stated region block ( region 1 ) is n't really present . i took the shot to order this and unlock my dvd player if i had to ( i live in amsterdam , region 2 ) but i did n't have to ! ! this dvd is region free ! thanks amazon , but in future it would be nice to provide correct region-information . i bet that a lot european ( and perhaps australian , russian and so on ) customers cancel their order because of the region code not corresponding with their country region . regard \n",
      "\n",
      "Row 1251 has been classified as neg and should be pos\n",
      "as one who is not an accountant , i found quickbooks premier non-profit edition 2006 to be very easy to learn . read the books that come with the software before you dive in \n",
      "\n",
      "Row 1254 has been classified as neg and should be pos\n",
      "these are by far the best newborn size diapers especially for small babies , but if you order them through amazon , your baby may outgrow them before they even arrive ! i waited 5 weeks then cancelled the order and ordered size 1 , which actually arrived in a few days ! update : i have ordered pampers again through amazon ( different size ) and they shipped right away \n",
      "\n",
      "Row 1259 has been classified as pos and should be neg\n",
      "i got really disapointed when i received and read this book . it provides advanced techniques that a regular woodworker would never use . the parts that woodworkers use the most are vague . i 'm not intereset in making violins or boats . i need techniques to bend wood , to use joints for curved surfaces , to build equipment and fixtures to bend wood and so on . this book lacks of the practical guidelines to do so \n",
      "\n",
      "Row 1269 has been classified as neg and should be pos\n",
      "like the product very much . comfortable and convenient . i would recommend then if : you have a small hat size , do n't mind carrying around an odd shaped soft carrying bag . with the above i do n't have a problem . the most distracting problem is your eyes sweat inside the foam enclosed , goggle like eye pieces on warm days . i 've thought about cutting vents in the foam around the eye , but have not done this as of jan , 2007. i like them very innovative \n",
      "\n",
      "Row 1272 has been classified as neg and should be pos\n",
      "dope cd..im a huge spice 1 fan..this cd is off da hook...check out immortilized and bossalini cds...those are dope quality cds..i have over 600 hip hop cds in my collection..and i do n't really express my fealings on amazon unless its worth it..i love hip hop till da day i die...and spice 1 is one dope smokin hip hop lyracist...tru dat...plus im from da old school..nwa , pe , rakim , boogie down , naughty by nature ( 1rst cd ) , big daddy kane , old school jazzy jeff and fresh prince , old school ll...naw mean..wor \n",
      "\n",
      "Row 1278 has been classified as neg and should be pos\n",
      "i purchased this hairdryer after my professional conair yellowbird from the late 70 's broke . i definitely wanted another conair and i wanted to move into the 21st century ! i did the research and this hairdryer had the most features for the best price . i was n't disappointed . as the other reviewers have stated , this hairdryer dries your hair in half the time ! it 's also nice to reduce the static in your hair when you want to freshen up and are \" dry brushing \" your hair . it does draw a lot of power when on high heat and the highest blowing setting and the lights in my dressing room will dim . otherwise , it is very solidly built and i hope to have this hairdryer for another 30 years . \n",
      "\n",
      "Row 1280 has been classified as pos and should be neg\n",
      "this collection is a must have if you like the bee gees and do n't have any of their albums...or even if you do . it 's one hit after another plus some i 've never heard , which is nice for variety . i could n't ask for a better collection - it 's like i had burned this for myself . \n",
      "\n",
      "Row 1291 has been classified as neg and should be pos\n",
      "i tested numerous anti-virus programs after getting fed-up with previous norton anti-virus , which would always \" hang \" my incoming email , causing me to redownload larger files and sometimes make it impossible to retrieve them at all . ( incidentally , this had nothing to do with the \" time-out \" settings . ) after testing other top rated anti-virus programs , the only one that would n't \" hang \" large email files , was kaspersky . even though i have my \" time-out \" set to only 1 minute , kaspersky never stumbles and lets go , even if it takes much more than 1 minute to download . i also like the easy to use \" pause protection \" when i 'm doing file clean-ups , because there 's no sense passing temporary files through a second time , and it speeds the clean-up 5 times faster \n",
      "\n",
      "Row 1301 has been classified as neg and should be pos\n",
      "i expected this to be dry and mechanical like lots of other math texts - too-technical proofs , homework questions irrelevant to the material , insufficient explanations for why things are the way they are . this book really surprised me because it was n't \" mathy \" at all . it does n't just throw proofs at you expecting you to wade thru page upon page of math notation until you understand - it gives you the intuitive side of important concepts , which means you only need common sense , not an intensive mathematical background to get everything . the examples they picked simplify rather than confuse the concepts . each easily and naturally leads to the next . if there 's anything not thoroughly elaborated , they were sure to cover it in the homework questions , by gently prodding the reader along towards the answer step by step instead of smacking them in the face with impossible problems . homework questions supplement the material perfectly and basically leave you with a full and well-rounded impression of what the concepts mean as well as when and why to use them , not just how to plug numbers into some formula . if anything , i 'd say this book errs on the side of caution in that in some sections it could pick up the pace a little . but then again , you could always just skip the easier parts \n",
      "\n",
      "Row 1302 has been classified as pos and should be neg\n",
      "i really want to like thich nhat hanh 's books . i want to because people i respect like them , because i believe in the value of mindful living.. . but the truth is that i did n't find this book very helpful . i have real and continuing struggles with anger and this book while interesting in a round about way is , as others have mentioned , not directed toward the problem of anger . it is a mindful living remix . i 'm going to keep searching for a great tnh book and when i do i 'll recommend it . good hunting \n",
      "\n",
      "Row 1307 has been classified as neg and should be pos\n",
      "for more than a year now , i have been using ad-aware . i love it . the program scans for spyware , adware , hijackers , keyloggers , and common trojans ( but norton is the one that takes out the trojans ) . so far , i am happy with this product . even though i have never had anything bad on my computer ( just cookies...mmm , cookies ) , my friend sure has had his share with minibug , axela , ezula , funwebproducts , and some others , and ad-aware completely removes it . and it does it all for free ( yes , you can get the personal version free at lavasoft 's website ) . so what 's something that ad-aware personal does n't do ? real-time . you 'll notice on the personal version that if you click on ad-watch to enable real-time , it will state \" realtime protection not avaliable in the personal edition . \" . so , i checked out the plus edition . so , i did a test on an old computer , and installed ezula . that 's right , it did n't go through . right when it reached , an ad-aware pop-up stated \" ezula was found at c : / ( whatever ) . would you like to remove ? \" . wow ! amazing ! one thing that is does n't do is block most pop-ups . this is dissappointing , mainly because competetors like superadblocker / superantispyware has a great pop-up blocker along with everything ad-aware has . but , superadblocker does n't have real-time , and ad-aware does . i 'd recommend getting both . for now , if the computer is in a school , hotel , or airport of such , getting the plus edition would n't be a bad idea . but if you just use it for home , just keep the free personal edition . there are n't that many spyware programs that do things virus do , but i have seen some that restart computers and add odd programs , such things trojans do . though , for now , if you 're not using this for public use , just have ad-aware personal se . if this is for public use , this is a great idea , and you may also want to get superadblocker for extra spyware protection and an excellent advertisement blocker ( hell , now that i think of it , even if you have adware and superadblocker , it will block the adware ) , and norton or mcafee for viruses or trojans ( actally , every computer needs norton or mcafee , unless it 's a mac or something ) . as for ad-aware , it 's an excellent program , and it 's highly recommended . maybe in feature editions , maybe well see a pop-up / banner / flash blocker that superadblocker / superantispyware has \n",
      "\n",
      "Row 1316 has been classified as pos and should be neg\n",
      "the only reason i gave this dvd set 2 stars , instead of the 5 that i would rate the show itself , is because there are absolutely no extras on this dvd set . no featurettes , no cast interviews , not even any episode commentaries . while i appreciate the studios putting the season sets out in such a timely manner , i 'd prefer they take a little longer and give us some fun extras to go along with the wonderful episodes \n",
      "\n",
      "Row 1317 has been classified as pos and should be neg\n",
      "i really do n't want to be mean , but i find this album very shallow . classical indian music is a very complex , subtle and beautiful thing . comibining it in this way may help to get these wonderful tabla players to a wider audience , but the true energy has been tainted and lowered to make it palatable to simple-minded people who need westernized electronic and wishy-washy \" world music \" cliches . i do n't find this music to be uplifting or enlightening or interesting . and this is not coming from a strict old fundamentalist of anything , i have delved deep into the avante guard , minimalism , \" new music \" , eastern and western music theory , microtonal , etc. i would recomend jsut being a non-westernized album and getting the full benefit of tabla playing . however if your mainstay is jungle / drum&bass , then this would be a step up for you , so go for it , it is worth the pruchase in that case \n",
      "\n",
      "Row 1322 has been classified as neg and should be pos\n",
      "\" the case for faith \" is the weakest volume in a strong series . strobel 's format is fun and engaging . i find his books as \" un-put-downable \" as any blockbuster page-turner . strobel holds a degree from yale law school , and he was an award-winning legal editor at the chicago tribune . he begins with a question : \" does historical evidence support the historicity of jesus ? does current science support the existence of a creator god ? does it make sense to have faith in god ? \" and then travels north america , interviewing acknowledged , academic experts on the question at hand . some rather shrill and not entirely rational attacks on the web protest : \" but , strobel 's books are n't fair , because he only presents one side ! \" perhaps these individuals missed the titles of these books , titles that appear quite prominently on the covers of the books . the first three words of each title is , \" the case for.. . \" no , strobel is not presenting the case *against* his topic ; he does n't represent himself as doing so . our christophobic media and academia presents that case relentlessly ; why should strobel waste paper and time doing that , when that is obviously not what he purports to be doing ? strobel 's accounts of his interviews of the experts are always reader-friendly , but he never talks down to his reader . if you do n't want to wade through the all too often alienating prose of too much academic writing , but want to get to the nub of the issue , strobel is your man . these techniques worked excellently in \" the case for a creator \" and \" the case for christ , \" but less well in \" the case for faith . \" there are three remarkably strong episodes in the book ; these episodes highlight what the rest of the book lacks . in the introduction , strobel interviews canadian evangelist turned atheist charles templeton . templeton presents a righteous , enraged case *against* god , and then , tearfully , admits how much he continues to adore jesus , and , indeed , to miss him . this wrenching passage masterfully captures the dilemma of many who have a love-hate relationship with their creator . in a few brief pages that serve as coda to chapter one , which addresses the question of suffering , strobel 's friend marc harrienger talks about his own pain when his wife ran over their child with the family car . this very brief account is testimony to the power of faith , even in the face of profound suffering . in another brief passage , strobel tells of his friend ron bronski , who went from being a vicious criminal to being a christian minister . these highly personal passages are what i will remember best from this book ; they were the most rewarding to read . the formal interviews with the experts did n't do a lot for me , and some were alienating . norman geisler 's treatment of the slaughter of the amalakites alienated me with its coldness and divorce from human concerns . it may be true that in war , children are killed with their adults - - when the us bombed german and japanese cities during ww ii we killed children as well as adults - - but any attempt to address such killings would have to be delivered with more compassion than geisler manages to convey . too , there is doubt , if not complete disbelief , among archaeologists as to whether these wars of conquest ever took place ( see israel finkelstein . ) the chapter entitled \" church history is littered with oppression and violence \" was especially weak , compared to other treatments of the same material . strobel 's treatment of the witch trials could have been improved with insights from lyndal roper 's work . strobel does n't handle understandings of nazism as a christian phenomenon well at all . the insistence that nazism was a christian phenomenon is revisionist and divorced from historical fact , and that should be made immediately clear as day in any discussion of the matter . nazism was a pagan and a scientific phenomenon . the pagan swastika was to replace the christian cross . scientific approaches to what constitutes life worthy of life was to replace \" weak \" christian ideas about humanity 's unity as god 's children and the value of all life . this is not made clear enough in strobel 's account . all in all , i have to say i 've encountered better treatments of the question of faith in other books ... and yet , strobel is such a good writer , and his technique is so engaging , that you could do worse than to read this book . read the other two books in the series first , though . \n",
      "\n",
      "Row 1326 has been classified as neg and should be pos\n",
      "i understand that software companies strive to give new versions of their products \" new \" or \" better \" appearances but in my opinion toos and defaults should be recognizable from version to version as much as possible . i have used versions of corel since coreldraw ! 3 i just moved to x3 from 10 and find that the trace tool works better but the mechanism is somewhat cryptic . i would have great sympathy for a buyer that is using it for the first time if they had never used an older version simply because i could only figure it out through past knowledge and trial and error . the results were great but the methodology lacks some of the intuitiveness of the past versions . the pallettes are far less comprehensive thn version 10 's pallettes . i truly wish i had version 8 's pantone pallette back even though it is incomplete it was so much better layed out . i will never understand why black has to be at one end of the pallette and white at the other , waste of time.. . the tools are all there but they appear different . i went to work in x3 fright away and found i could work effectively on day one but i did resort to version 10 ( which i have kept on my system ) a few times in the first week to perform operations that i coupd n't figure out in x3 which were simple in 10. the help files are circuitous , apparently never actually getting to the point . the on line tutorials are great for the absolute novice but useless to anyone who actually has worked with vector art before . the export to ai is still a little inaccurate even after all these years . ( you cannot select a line terminus and expect it to be there in ai ) the eps export filter does n't always want to be readable in adobe either . the price is excellent , the product spectacular in its own right and i am happy with my purchase . i expected a little more in this version than i got but no less than i had with additional compatibility . i still need to have a copy of illustrator on my machine to deal with people who have only that program \n",
      "\n",
      "Row 1331 has been classified as neg and should be pos\n",
      "order received in good time - no problems . battery lifetimes are short - not as good as first original from dealer , but twice as good as poorer choice batteries from other suppliers \n",
      "\n",
      "Row 1333 has been classified as pos and should be neg\n",
      "i was so disappointed in this book . i do n't find a closeness to god in the pages . instead it seems intellectual . it contains beautiful sounding prayers that are more like poetry than speaking with god face to face . even though it contains prayers from across the ages it seems to keep me distant from the personal god i seek . and though the author 's prayers are included too , i feel the same about them . i expected more from richard j . foster \n",
      "\n",
      "Row 1335 has been classified as pos and should be neg\n",
      "though the description of this product says it 's filled with natural buckwheat hulls and rice , mine had a strong smelling deodorant coming from the removable bags you heat . i used them once and then packed them away because i do not like the odor . i wish the mitts had been unscented . perhaps over time , or by next winter , the odor will be gone and i 'll get some use out of them \n",
      "\n",
      "Row 1338 has been classified as neg and should be pos\n",
      "i made the mistake of ordering this product and microsoft office 2007 which i did n't realize that it was also offered in office 2007 which i did n't need 2 of them so i gave the other one to my sister who just loves to keep all her records in the \n",
      "\n",
      "Row 1342 has been classified as pos and should be neg\n",
      "overall this is a well-designed case which is custom fit for your panasonic lx1 or lx2 camera , but it has a few major flaws . first , there is no simple way to attach it to your belt . there is a belt loop on the back but it is so small and tight that it wo n't fit any belt more than 1 / 2 \" wide . also , there are two zippers on this case , one on each side , which could potentially scratch your camera coming in or out of the pocket . finally , the velcro tab that closes the case is not particularly strong and can occassionally pop loose on its own . this might be a good case if you are going to keep it in your backpack or suitcase , but not for carrying around for everyday use . \n",
      "\n",
      "Row 1345 has been classified as neg and should be pos\n",
      "i like wordperfect much better than microsoft word as it is easier to use . reviel codes solves a lot of problems when text wont behave . not available in word . i bought the x3 version because of some bad bugs in ver 12. , like not being able to export my address book without errors and mail merge problems . the price was right on amazon and it was easier that trying to fix 12. i do n't see a big difference between the two versions except that they fixed all the problems that i was having in 12. if an earlier version is working for you , i see no good reason to upgrade . b \n",
      "\n",
      "Row 1363 has been classified as pos and should be neg\n",
      "how many times can you wear out the same story line . kahlan lost , kahlan found , kahlan lost again , kahlan found again . or richard lost , richard found , ohp...richard lost again , richard found again . goodkind has run out of ideas . he should put the sword of truth series down and move on to something fresh . \n",
      "\n",
      "Row 1365 has been classified as neg and should be pos\n",
      "this book is beautiful outside , i love the lace up binding and place for picture on the front . what i do not like is how there is no specific places to write in , you just have to use your imagination as to how to word and to position things on each page..too much like scrapbooking for me , i wanted a book with blank lines and spots to write in..for example one blank page will say , \" all about mom \" then another that says \" baby shower \" etc..but the pages are blank . i need more structure \n",
      "\n",
      "Row 1370 has been classified as neg and should be pos\n",
      "a surprisingly tiny book . ( the picture in the upper-left corner is nearly actual size . ) after receiving it , i immediately looked up its dimensions in the description on this page . it says 4.7 x 3.3 x 0.6. i had not noticed that before i ordered it . the book seems much smaller than that . not that that is a problem ; it was just somewhat of a shock to find such a minuscule book when i opened the box . i believe it is intended to be carried with you in your pocket or glove box or the locket around your neck so you 'll have a chance to pick out a few choice topics of conversation before you enter a party or whatever . it certainly is not intended as bathroom reading . for one thing , the pages are much too small for emergency tp use . not that i am complaining , mind you . this is a gem of a book with over 200 interesting bits of trivia listed more or less alphabetically from \" the amish \" to \" zero \" . ( this is not to imply that the title of each page has much to do with the text , but who cares - the book is fun . ) each page has its stated \" fact \" and a follow-up paragraph to expound on the subject . also , there are a number of pages randomly strewn through the book with three \" instant personalities \" each - little tidbits of info about famous people . ( although , thomas jefferson got his own page , as did alfred hitchcock . ) and unlike another trivia book i purchased recently ( bla bla ) , the information here is actually correct . will and mangesh research their topics , not just publish un-provable \" facts \" gathered from the internet . use the contents with confidence . \n",
      "\n",
      "Row 1372 has been classified as neg and should be pos\n",
      "aside from the all-star cast , this story takes turns you 'd never have guessed . it 's a feel good movie in every sense of the word \n",
      "\n",
      "Row 1384 has been classified as neg and should be pos\n",
      "okay , i am new to the world of stargazing . i purchased this telescope based on recommendations here at amazon.com . i have been completely satisfied . i am especially impressed with the clear , crisp viewing of the moon . i can see a few planets , but they are of course very small through the eyepiece . i do have a suggestion to anyone who may purchase this telescope . take your time putting it together . read all the directions first . pay special attention to the details concerning the collimator . if you do n't know what that is , you need to . i almsot made some major mistakes , screwing and unscrewing parts that needed to be left alone . if you pay attention to all of the details on the instructions , you will have the telescope together in a couple of hours and be well on your way to enjoying yourself , especially on a clear night . the package containing my telescope arrived in four days and was completely intact . i could n't be happier with my purchase . i am sure a more avid sky-watcher might want a little something more , but for the once-in-a-while gazer , this is the telescope . see ya next review . \n",
      "\n",
      "Row 1399 has been classified as pos and should be neg\n",
      "dennis leary is hailed as some great angry young man who is trying to bring the world to rights . personally i prefer bill hicks . at least when bill did it he was being original ! ! ! ! ! ! ! dennis leary has in my opinion nicked bill hicks act in a similar way to how i feel about joss stone compared to proper soul artists . sitting in front of a few live videos of a great man and taking notes does not mean you will ever be one dennis ! definately a must have for anyone who enjoys covers bands...stick to the acting dennis \n",
      "\n",
      "Row 1403 has been classified as neg and should be pos\n",
      "i found it hard to work with and was disappointed that it was n't more versatile . my needs are not quite the same as a standard business , however , and i have friends with businesses who like this very much . \n",
      "\n",
      "Row 1405 has been classified as neg and should be pos\n",
      "rien a dire si ce n'est que too $hort et ses potes ça claque c'est tout \n",
      "\n",
      "Row 1406 has been classified as neg and should be pos\n",
      "i have read all of the karen rose books and i continue to love every one of them . the other reviews go into great depth explaining the plot so i won't . the best review i can give an author is when i can honestly say \" i ca n't put it down ! \" when i fall asleep at work due to reading all night i can tell you it was a karen rose book . \" nothing to fear \" did not diappoint me yet thrilled me with more suspense and visual images than most of karens books . i honestly can say that i wish she wrote 10 times faster so i would n't have to wait so long for another book to get published . when i meet a friend or stranger reading romance i ca n't help but recommend a karen rose book . this is my latest favorite of hers . keep writing karen ! \n",
      "\n",
      "Row 1409 has been classified as neg and should be pos\n",
      "this is an exceptional value for an exceptional dryer . i have paid alot more for more well known , brand named dryers . i have long thick hair and this product dries my hair in half the time other dryers have done in the past . buy this hair dryer , you wo n't be sorry \n",
      "\n",
      "Row 1411 has been classified as pos and should be neg\n",
      "if you want the original recordings , do n't purchase any volume of television 's greatest hits . i 've had better luck recording the songs off of my tv with a cassette tape recorder and then dehissing them on my pc . these collections have sterile sounding fake stereo recordings of \" the beverly hillbillies \" and \" the munsters \" that just do n't sound right to me . if the original recordings do n't matter to you , then you may like this cd \n",
      "\n",
      "Row 1415 has been classified as neg and should be pos\n",
      "i have used the unit for about two weeks , with nimh rechargable batteries installed , and it performs as advertised . there is , in my opinion , a design flaw : the start / stop button acts as the power on{off function , and is easily depressed at unwanted times , e.g. putting into or removing from the case . they could / should have included an ac adapter \n",
      "\n",
      "Row 1427 has been classified as neg and should be pos\n",
      "piglia muestra que es un explorador de nuevas formas narrativas , pero la lectura de este libro y de otros suyos nos deja ver a un autor que no se deja leer con facilidad , que es críptico ; debe ser leido con mucha atención , con papel y lapiz en la mano para seguir sus tramas y personajes y eso no es un virtud en un escritor \n",
      "\n",
      "Row 1430 has been classified as pos and should be neg\n",
      "carter burwell 's soundtrack music to & quot ; rob roy&quot ; was an early sign that he was not just getting it right . the score is all wrong but so is the movie . this movie needed an uplifting score . carter burwell could not deliver it \n",
      "\n",
      "Row 1433 has been classified as pos and should be neg\n",
      "if you like redon for his vibrant color , look for another book . dream symbolism and spirituality that inspired redon 's imagery are the main topics of this book . most of the many examples are black and white drawings . however , the real magic of redon is his use of color in his mature works . this was not adequately represented . \n",
      "\n",
      "Row 1438 has been classified as pos and should be neg\n",
      "the film is pretty lightweight on a whole but it has a nice charm with a well known hollywood cliche in film making.i applaud the effort.the chicks in this film are happening babes fo sho.but there ai n't much to the film but it has some fun to it \n",
      "\n",
      "Row 1440 has been classified as neg and should be pos\n",
      "i was like the previous reviewer . i had rented it and after watching it the first time , purchased it before i had even returned the rental ! i loved the content , it gives one hope and a small glimpse into what lies beyond our human experience . how lovely to know that there is a life we can barely imagine , waiting to be returned to . and i did n't learn this fact from the video , i have been studying this subject for many years and already believe , no i know , that there is more that lies beyond this brief stay on earth . this video illustrates it so beautifully with people who have had a glimpse into that wonderful place that is our true home . people who are dying yet unafraid as they are being shown what is yet to come . my own mother saw her mother as she died . she came to take her home . there is no specific religion addressed here , only the fact that there is more to life than living and dying . and that it is something to be totally unafraid of . in fact physical death is only the beginning of something great ; it is a step in the evolution of our souls \n",
      "\n",
      "Row 1447 has been classified as pos and should be neg\n",
      "i got this lens in a kit with a nikon d80 camera . this lens failed to deliver the goods 99% of the time . why buy an expensive camera and then use a cheap lens like this ? its silly to spend big money on the camera and have only blurry pictures to show from it . it was only tolerable in very bright situations and using less than 100mm focal length . a cloudly day or all of the 200 mm zoom would result in a picture that had significant distortion noticeable even on little 4x6 prints . very few pictures came out when it was used in the fullest zoom ( 200mm ) . i disliked this lens enough to return the entire camera kit and purchase a different camera ( d200 ) that came with the highly ranked 18-200 vr lens from nikon . if your interested in nice sharp pics , then pass on this lens . if you want to save a few bucks and like blurry photos , this lens is for you. . \n",
      "\n",
      "Row 1458 has been classified as neg and should be pos\n",
      "based on the description , i expected this to be a davinci code knock-off , but gave it a shot since i recieved a free copy . comparing labyrinth to the davinci code do it injustice ; this is definately not an imitator and is worth reading in it 's own right . i enjoyed the characters , plot , and switching between the past and present . i 'm not sure it has literary value ( i would n't argue that the davinci code does , either ) , but it 's certainly complex enough to make you think about the plot and character relationships without being difficult to follow \n",
      "\n",
      "Row 1460 has been classified as neg and should be pos\n",
      "i was a norton user for a long time . i think this is a better program - - lighter , leaner , easier to use . it automatically updates frequently . i 've never had a virus . i use wireless and i can always tell if someone is trying to use my system ( which is never , but i 've tried to break in myself just to check . ) nice program \n",
      "\n",
      "Row 1461 has been classified as neg and should be pos\n",
      "this recommended software is easy to load , except for online requirements to update the files due to changes in the documents from the time of publication / software release . the files for download was large and took a long time on a dialup internet connection . the software was easy to use , without documentation , though documentation would have been much desired . the time to fill in the data was not too long . it took about 4-6 hours given that i had been filing all the tax info in a folder with all the references required . the help in the software was great and insightful . i preferred using a cpa in the past , but since my taxes has gotten significantly easier , this has been a definite cost savings . e-filing was easy , but make sure not to lose the cd-sleeve after downloading the software . otherwise , it costs extra to e-file . overall , it appears to be a great software package with great info and help . i plan to use it next year , lord willing ! \n",
      "\n",
      "Row 1465 has been classified as pos and should be neg\n",
      "hallmark entertainment has made many movies from children 's books , and this probably one of the worst . based on both \" alice in wonderland \" and \" through the looking glass \" this movie stars many of the familiar faces of hallmark movies and children 's movies , such as gene wilder , miranda richardson , martin short , and whoopi goldberg . the lead character of alice is unfortunately played by an actress that is not so good . the movie revolves around her , and she seems to move from one scene to the next with little emotion or expression . even the crying scenes seemed fake . where is dakota fanning when you need her ? the cinematography , costume and set design are spot on , as usual for hallmark movies , but the soundtrack was unnoticeable . the only bright spot was the engaging song by gene wilder 's character . all in all , quite boring \n",
      "\n",
      "Row 1472 has been classified as pos and should be neg\n",
      "this book expounds endlessly on how best to limit the impact of people on the backcountry in the very best traditions of the sierra club . it 's more of a philosophy book than a & quot ; how to&quot ; book . if anyone wants to learn how to backpack and / or camp , he would be better advised to buy the several books by karen berger and chris townsend , in particular the backpackers handbook \n",
      "\n",
      "Row 1479 has been classified as neg and should be pos\n",
      "absolutely love this program . i 'd been using norton for years and so was initially hesitant to switch . its not as user friendly as norton and has the annoying habit of repeatedly asking for permission even after it has been granted . on the upside this feature adds to its efficiency and gives the user complete control over all internet activity , making it an exceptionally good security program . \n",
      "\n",
      "Row 1480 has been classified as pos and should be neg\n",
      "it does n't really smell like anything , and the heat creates dampness on what ever you put it on . but it is a good size and shape \n",
      "\n",
      "Row 1482 has been classified as pos and should be neg\n",
      "all in all , i was really dissapointed ; i really enjoyed the king geedorah album . i thought the king geedorah album boasted stellar , thematic , production , tolerable skits , and street-wise but deep lyrical content . doom is on the boards for about 1 / 3 of the tracks on ' escape.. . ' all have the stereotypical doom sound , with the only standout being ' 1 , 2...1 , 2. ' the x-ray produced tracks are minimal , but generally sound stiff , lacking much of a groove - thin synth lines , few sampled melodies . i did like ' warning ( kong ) , ' which has a nice , minimal , dark groove . the lyrical flows have a classic new york sound , pretty good . lyrical content is pretty bad , unless you enjoy repetitious rhymes about smoking weed and women riding my d$ &*. \n",
      "\n",
      "Row 1487 has been classified as neg and should be pos\n",
      "so many disbelievers out there ! i feel so sorry for you : no magic left in your dull and predictable worlds ? of course this book is on the level . while my dog ernestine does not build art pieces as such , she 's a pretty good cook and a crack shot . so why not dog artists ? the review of dog art is a little species-centric , however . most of the dog artists i know use faecies or urine to construct art , or engage in performance pieces : \" rooting the leg \" ; and \" licking the balls \" spring to mind . dog culture can be appreciated by humans but is not the same as human cuture . so a little less chauvanism please ms mathison \n",
      "\n",
      "Row 1489 has been classified as neg and should be pos\n",
      "i guess in this book you can see both the good qualities of ayn rand as well as some of her non-desirable traits . good gateway book before tackling on the big and long atlas shrugged \n",
      "\n",
      "Row 1490 has been classified as pos and should be neg\n",
      "the case looks exactly as in the pictures above , and the camera fits perfectly in it . however , the case is hardly a protection , it 's not to be considered as more than a carrying bag . the velcro that keeps it closed is quite easy to open so i 've dropped the case a few times while walking outdoors . fortunately the case is designed to use the straps on the camera for carrying it around , so my camera stays with me in any event . there is a little strap on the case , supposedly to attach the case to the camera or to the straps , but it opens too easily , so it ca n't be trusted at all ( the strap almost opens by the very weight of the case , which is not much ) . there is also a small pocket in the back , providing barely room enough for a set of replacement batteries ( 4 aa batteries ) and the usb cable . again , the velcro on it is too easy to open , even more after placing the batteries and the cable inside the pocket . definitely , this is not designed as a practical solution . just enough to protect the camera from dust and some scratches . if you value your equipment and want to protect it from more than the wind and the sun , while not being worried of losing the case around -or its contents , do n't buy this one . spend some more money and get a decent carrying case . i will \n",
      "\n",
      "Row 1494 has been classified as pos and should be neg\n",
      "i have to clarify this is not the same as youthful essence . it does not work the same and the product is not the same . i must clarity that.. . i dont want to confuse anyone here . youthful essence for instance is not pasty or harsh , or gritty . it is very smooth , and makes yours skin incredible and soft \n",
      "\n",
      "Row 1499 has been classified as neg and should be pos\n",
      "i 'm not sure how well since i have never used anything like this before , but my bath water feel a whole lot better and i do not itch for an hour afterwards . i probably should have rated a 5 star , but i really have no base for comparing . i will definitely buy this product again . \n",
      "\n",
      "Row 1503 has been classified as neg and should be pos\n",
      "you might think from the title and the commercials this movie is about a super sexy porn star slut...but it 's actually the opposite . i really liked how the movie was done to portray the struggles some girls really have to go through in their carrers and mixed it with the toughness of high school . this is definately a movie i would reccomend to people over like 16 but only if you want to watch a funny movie about the discovering and strength of two people...this movie is the real thing , i enjoyed it and i think many other people could too \n",
      "\n",
      "Row 1515 has been classified as neg and should be pos\n",
      "these never leak and are good enough to wear over night . this is the only diaper i buy \n",
      "\n",
      "Row 1518 has been classified as neg and should be pos\n",
      "i used the huggies overnite diapers on my son at night until we started potty training . i used to put absorbent inserts inside his pull-ups to get him through the night without leaks , but even that did n't work very well . finally , huggies came out with an overnight pull-up - and it really works well ! ! ! excellent product \n",
      "\n",
      "Row 1521 has been classified as pos and should be neg\n",
      "microsoft office can be handy to have . the files you can open , edit and create with it ( most notably .doc , .xls , and .ppt ) are probably the closest to universal compatibility among all your high quality options . it 's ( relatively ) intuitive . it has a pretty broad array of useful functions . it 's also obscenely expensive , considering the fact that you can get all of these things - - .doc , .xls , and .ppt ; intuitive interface ; and functionality - - for free . i hunted up openoffice two years ago when i decided several hundred dollars was an insane price to pay for the ability to write papers , make basic presentations , or put together spreadsheets . i was looking for basic functionality , but i was pleasantly surprised ; openoffice does most of the neat tricks , too . ( actually , it has a neat trick microsoft can never replicate : it 's open source , so it can respond to the needs of individual users . you just say \" add this neat trick ! \" and someone will likely be able to do it for you . ) it is possible that microsoft office has some killer feature you absolutely must have that openoffice doesn't . but considering the price differential , i would n't splurge on this before checking . \n",
      "\n",
      "Row 1523 has been classified as pos and should be neg\n",
      "far better models for similair price range - dissapointed with the quality of the finish etc etc. works fine though . \n",
      "\n",
      "Row 1531 has been classified as pos and should be neg\n",
      "this movie , while not a bomb or a turkey , has a couple of serious flaws . one is the casting . ted wass has lots of credits to his name , according to imdb , but what a wimpy , character-less , uninteresting washout he is ! was blake going for a harold lloyd lookalike ? he got one , but there 's nothing else to recommend him . he looks like a clark kent without the superman suit underneath . the other flaw is the length . even the opening credits ( using a defreiling / patie ripoff style ) go on forever . but the slapstick , which is masterful as always ( blake having been raised on or at least heavily influenced by silent comedies , especially those of laurel & hardy ) ...my god , does he stretch things out here ! the cameos are the saving grace , especially roger moore's . his vocal impersonation of clousseau is perfect . why did n't he dub the voice for clousseau in the concurrently filmed trail of the pink panther ? whoever did that voiceover sounded like sellers on helium ! it 's sad to see our icons age , especially burt kwouk , who looks and sounds awfully tired . david niven looks as close to death as he actually was . rich little 's uncredited overdubbing was beautifully done : subtle and convincing . herbert lom 's dreyfuss got bigger and more ridiculous in each successive film . and harvey korman 's prof . balls is delightful . the entire scene in his shop is a stitch . no , there will never be another sellers ( and i have no intention of seeing the new film with steve martin ) . but blake could have done better with his stopgaps \n",
      "\n",
      "Row 1533 has been classified as neg and should be pos\n",
      "although many reviewers did n't like the second part of the \" hills \" , i still would n't call it \" one of the worst sequels ever \" or \" the worst wes craven film \" . certainly this is not a masterpiece , even in the framework of horror genre , but i do n't see why it should be worse than any other slasher flick . when i was watching it , i came to a conclusion early wes craven had been imitating other directors rather often . i 'm not saying he was not original at all - eventually he shot \" a nightmare on elm street \" in 1984. but \" the hills have eyes \" were reminiscent of \" texas chainsaw massacre \" , and in the beginning of 80s , when slasher era started , i guess craven decided to make something in the same manner . maybe the reason was craven 's long-time buddy sean cunningham created \" friday the 13th \" in 1980 , and wes was envious ? : ) anyway the second part of \" the hills have eyes \" turned out to be a pure slasher like many others at that time . and it obviously was n't the worst and in many ways was like above mentioned \" friday the 13th \" : the score was written by harry manfredini , known to every \" friday \" fan , and the music in \" hills 2 \" is just like in early \" fridays \" . the body count increased comparing to the first part and approached a regular slasher movie . kevin blair who had a leading male part here , would star in \" friday the 13th part vii \" a couple of years later along with kane hodder , who did stunts for \" the hills have eyes 2 \" and in \" friday \" would play you know whom . of course here we can see some stupidities as in other slasher movies ( like characters wandering in night all alone instead of sticking together , all the big strong guys get killed , and a handicapped girl survives - i 'm not even considering it as a spoiler for it is obvious from the very beginning , especially if you 've seen a couple of horror films in your life ) , but is that a problem for a true horror fan ? we 've learned not to take this trivia into account . so i think \" the hills have eyes 2 \" managed on many levels , and it would be interesting to have it in your collection , if you have the first one . for they are two totally different films talking about the subgenres of horror . \n",
      "\n",
      "Row 1549 has been classified as pos and should be neg\n",
      "avoid this cheapo release of these great film ! subpar prints..certainly not from original 35mm elements..wait for the good one to come out down the road \n",
      "\n",
      "Row 1552 has been classified as pos and should be neg\n",
      "i 've seen several pretty funny comedies this year , but none of them could touch what i watched saturday night . this dvd had it all , slapstick , funny costumes , hilarious sight gags , geeky dancing and more . there were times i was laughing so hard that my stomach hurt . i just could n't stop laughing and in fact spent most of the show with tears rolling down my cheeks . it was so funny , that i felt at a couple of points i was going to lose control of my bowels . yes , it 's that funny . i highly recommend this one , as it 's the closest thing i 've seen to the classic monty python days of english humor . i do n't know when i saw a movie that was non-stop hilarity , without a single moment of serious content . over two hours of complete madcap behaviour and a near fatal dose of cheese . the name of the dvd ? castles & dreams , by an english comedy troupe called \" blackmore 's night \" . these guys are like a combination of monty python , benny hill and marty feldman . my sides are still aching.... . those crazy f&^king brits... . \n",
      "\n",
      "Row 1553 has been classified as neg and should be pos\n",
      "when someone goes to the time and effort to expose the watertower bible company and death brokers , they get five stars from me . america is overflowing with former jehovah 's witnesses that are now living shattered lives . so , the more such books there are saturating the market , the more likely it is someone will read just the right book that will keep them from getting involved in this end of the world death-cult . or help a poor suffering jw find their way out . david reed , thank you for both of your fine books . may they be read far and wide and in between ! read i was a teenage jehovah 's witness and jehovah unmasked for two of the wildest rides ever ! \n",
      "\n",
      "Row 1563 has been classified as neg and should be pos\n",
      "i found i did enjoy this movie , even though the director took liberties . it does n't follow so much the novel by jane austen , but if you have n't read the book and are unable to do the comparisons , this movie is enjoyable . i gave 4 stars because of the liberties taken by the director , but did like what i saw \n",
      "\n",
      "Row 1566 has been classified as neg and should be pos\n",
      "\" the climb \" was written by bourkeev and dewalt as an answer to krakaur 's \" into thin air \" . while not showcasing the same prose as krakaur 's book , i feel that this is utlamitely better . my reasoning for this opinion is that \" the climb \" seems like a much more fair and unbiased account . bourkeev does not resort to playing the blame game ; he simply tells the story as he experienced it . krakaur , it seemed to me at least , relied to heavily on assumptions , and we all now what happens when you assume ( hint : you make an _____ out of you and me ) and came off as very arrogant and ( for some reason ) took a feverious dislike to bourkeev and lopsang . thought not as well written as \" into thin air \" , \" the climb \" still managed to draw me in fully , although some parts of the book are a little confusing , mainly the interview with bourkeev about his single handed rescue of three striken climbers who otherwise would have surely perieshed . this interview was conducted in english , the only problem with that is that bourkeev 's english is not very strong ! it is passable and most of the time you can understand him but in other parts it is very hard to dechyper . dewalt tries to help by adding \" translations \" about what bourkeev is saying but i felt the interview should have been caried out in bourkeev 's native tongue of russian and then translated into english . to not have done this is a great injustice to bourkeev . if you want to read a fair and unbiased book about the may 1996 everest tragidy that was written simply to tell the truth and not to play smeer tatics and make money ( as krakaur 's clearly was ) , read this . i really recommend you read both books , though and also check out the imax movie \" everest \" . \n",
      "\n",
      "Row 1570 has been classified as neg and should be pos\n",
      "we keep this in our kitchen and sanitize dropped baby toys and pacifiers as needed . it takes a 30 minute cycle , and you just put things in and walk away . it has n't damaged anything vs. sanitizing in the washing machine - and i do n't have to worry about any chemical residue from spray sanitizers . we 've even started to use it on more things around the house like toothbrushes , etc. to periodically clean them . i think it 's great \n",
      "\n",
      "Row 1574 has been classified as neg and should be pos\n",
      "rewind to 1992. it 's the dawn of the so-called information & knowledge age . back then , i wrote a book on the need to liberate and effectively channel the creativity of all employees in an organization . the rationale : to create higher performing organizations in a time of intense global competition . with pressing needs for superior innovation . and improved productivity . amid ever-leaner budgets . ( sound familiar ? ) flash forward a dozen years to today and ideas are free ( a title echoing phil crosby 's classic quality is free ) . this new book makes clear today that my impassioned plea from a decade ago failed to eradicate idea-stifling organizational cultures . way too many work places , it seems , still quell expressions of innovative thinking by both frontline employees and middle managers . so the case for turning on the innovation spigot needs to be made again with renewed vigor . in answering that call , professors robinson & schroeder offer some worthwhile and occasionally surprising and compelling contributions to this topic that is as relevant now as ever . ideas are free presents an articulate case that organizations - - and individual managers - - need to unleash the *still* largely untapped brainpower intentionally and quite unfortunately held-back by employees . three elements make ideas are free especially worthy of your time and money . 1. the authors aim their advice at regular workaday managers . sure , they rightfully point out how organizational systems are often \" dysfunctional . \" and they make the case that many corporate practices actually *discourage* creative contributions by individuals even as they try to *incent* those very behaviors . but robinson & schroeder do n't aim their prescriptions at policy-making top executives only . many chapters conclude with what the authors term \" guerilla tactics \" - - clear directives for simple actions that even frontline supervisors can put to work \" without the boss 's permission . \" 2. the book dramatically makes the case that paying for ideas - - as part of an organization 's formal suggestion systems - - is fraught with potential negative side-effects . my own corporate experience as an executive championing a newly installed suggestion system bears out the startling reality that this well-intentioned process can turn into a self-destructive minefield . ( and , let the record show , i largely missed this dimension in covering suggestion systems back in my ' 92 work . ) 3. many interesting , well-developed ( albeit occasionally dated ) anecdotes illustrate the book 's sound principles . they help make ideas are free a grounded , engaging , and palatable read . back in ' 92 , i suggested in my book mavericks ! that , \" managers should be asking questions like : what is the value of a useful new idea ? if one good idea leads to another , where could thousands and thousands lead us ? what is the cost to the organization for not tapping the endlessly renewable resource of ideas in our employees ' heads ? \" getting to the root of the problem , i asked : \" is n't the job of a manager to *recognize and choose* from lots of great ideas generated by fellow work associates ? \" and answered : \" unfortunately , most managers - - even those who claim they invite suggestions from their people - - subscribe to the time-honored myth that a manager 's job is to *have* the ideas . \" in 2004 , robinson & schroeder again plow many of these very same themes ( and cite data that also have been around for a long time ) . still , this book explores afresh the opportunities that arise from drawing out the best thinking of every employee . and it presents realistic tactics that all managers can deploy to effectively deal with these still-critical issues . wherever you sit in the hierarchy , read ideas are free to seize powerful ideas about potential gains for your organization 's progress and prosperity . don blohowiak lead well\u001A institut \n",
      "\n",
      "Row 1584 has been classified as neg and should be pos\n",
      "this is an outstanding documentary of the campaign team that changed presidential campaigning . one does not need to love the results of these changes ( i personally believe that this campaign was the beginning of the end of democracy as we know it , even as i marveled at the talent and loved the outcome of the election ) to appreciate how clinton 's 1992 campaign , as seen in this film , changed the american political world . \" war room \" should be seen along with more recent documentaries ( like , for example , \" staffers ' 04 \" ) to see the difference between a campaign that used techniques to achieve a goal and campaigns that use the same techniques as the goal ( to be elected rather than to govern ) . hopefully , it will encourage you to do what you can to return political campaigns to discussions of ideas rather than the useless , mind-numbing , dumbing down assessments of candidate traits ( like \" character \" or \" integrity \" ) we seem to have resorted to in the past ten years \n",
      "\n",
      "Row 1593 has been classified as neg and should be pos\n",
      "unlike many of the other reviewers , i actually bought this shaver to use on my head . i have been shaving my head for the past 2 years and during that time have used a panasonic es8066. it was a fine product ( able to be used either wet or dry , unlike the braun ) , but i had no idea that upgrading to the braun 8985 would make such a difference . i shaved my head in one third the time it took me using the panasonic ! no longer did i need to keep going over the same spot again and again . the braun took off the hair in one or two passes , cutting just as close with considerable ease and less irritation . i ca n't believe i wasted two years shaving with my old shaver ! i know panasonic has since come out with new and improved shavers , and i ca n't comment on its new vortex shaver , but i know i wo n't be returning my new braun any time soon \n",
      "\n",
      "Row 1595 has been classified as pos and should be neg\n",
      "i use pdfs a lot and i must say that quite often i turn to free pdf software to actually do the tasks that acrobat fails to do . one area i have always had a problem with is the formatting of some documents in size and sometimes acrobat simply fails to recognize them and so i switch to the free pdf software which has no problems doing this and is easier to use . however if you are a pro pdf maker who wants to add sigs and links and notes and chapters and all the other function tags including security tags then i recommend this product hands down as the best one . i just find that it is not always the best pdf software package in the world , but a good one all the same . i would not recommend buying this one just to make standard pdf files alone . if you want to touch up those file then this is what you need to do that right . \n",
      "\n",
      "Row 1596 has been classified as neg and should be pos\n",
      "what an awesome cd.. . i bought a flogging molly cd as well but dropkick murphy 's are better by far ! \n",
      "\n",
      "Row 1597 has been classified as neg and should be pos\n",
      "i recently purchased this camera . it arrived one day before i was due to fly out to palm springs . i took lots of pictures with this camera and was pleased with all of them except the night time pictures . this may or may not be because i am a novice photographer . even with the night time setting my pictures came out blurry , but all others came out better than i ever expected . i think once i play around with it , my night time pictures will improve , but straight out the box this was kinda disappointing to me . no regrets with this purchase though . also , buy a larger memory stick . the one that comes with the camera only stored 6 pictures and i had to run out and buy another . \n",
      "\n",
      "Row 1600 has been classified as neg and should be pos\n",
      "i purchased the mitts for a gift and also for myself . the person for whom i purchased them is very happy with them and so am i . i was looking for a mitt that could keep my hands as hot as possible because i have arthritis and was surprised that the heat stays for more than 1 hour . it is too soon to tell but i hope it will help me with the arthritis in my hands . \n",
      "\n",
      "Row 1604 has been classified as neg and should be pos\n",
      "having spent five years trying to establish an open-source software platform standard , in retrospect it would have been awfully nice to have had this book . if you 're going to compete with the big commercial firms you have to be comparable to or better than they are in as many areas as possible \n",
      "\n",
      "Row 1610 has been classified as neg and should be pos\n",
      "at home , i 've been a mac user since 1991. i also have been something of a linux fanatic too and have used several distros , mostly red hat and now fedora core . at work , however i have used ms-dos , windows 3.11 , 95 , 98 and xp . it 's fair to say i have never liked microsoft . but on a laptop i use at work ( an older gateway 400vtx with a 2.2ghz intel celeron ) , i just upgraded to vista home basic . i also upgraded the memory to its maximum 1gb . and despite my years of eschewing microsoft , guess what ? i must say i really like the os . it runs fine on my slower system and i had no problems installing and no conflicts with drivers . i think microsoft has really made a \" cool \" os \n",
      "\n",
      "Row 1612 has been classified as pos and should be neg\n",
      "http : / / www.strangeland.com / asp / show.asp ? id=13635 http : / / www3.strangeland.com / asp / show.asp ? id=99 \n",
      "\n",
      "Row 1615 has been classified as pos and should be neg\n",
      "if the name pink floyd was n't on this cd , who would really rate it higher that one or two stars ? i am a pink floyd fan , but i have to say that i do n't like any of their early works . to me , the band begins to make great stuff with \" meddle \" and their first cd were boring , even with the pink floyd name on it . the only good track is \" childhood 's end \" , the other tracks are poor \n",
      "\n",
      "Row 1619 has been classified as neg and should be pos\n",
      "i run the after school program at the local jr high where i work . we try to push the importance of computer skills on the children . i just upgraded to the 800 , 000 clip art library . we use these images for just about every project . i have never wanted a certain type of image and not been able to find it ! ! ! \n",
      "\n",
      "Row 1635 has been classified as neg and should be pos\n",
      "as the name implies , this is about the elements of programming style . the examples are a bit dated ( old languages , not c / c++ / java / the-next-great-language ) . but this is n't a *language* programming book , it is about how to write good programs in any language \n",
      "\n",
      "Row 1639 has been classified as neg and should be pos\n",
      "we love this camcorder ! we bought it because our other bulky , digital video that uses tapes , which we would have to copy onto vhs / dvd , stopped working . we did n't want to spend a lot of money . we loved the idea that it was easier to carry in my purse and you could download it straight to the computer or burn it ( which is very simple to do , and you do not have to download any software . ) i have to admit i was a little reluctant that the quality of the picture would be less than great , and only 60 minutes concerned me , but the pictures is great and i have n't ran out of time yet . we have used this indoors , outdoors and have no problems . we have recorded our son 's basketball games and it worked great . we read where the batteries did n't last very long , but we have been using rechargeable batteries and have been impressed with lifetime they have . this is a must for those who have children or grandchildren \n",
      "\n",
      "Row 1641 has been classified as pos and should be neg\n",
      "after viewing the avengers with emma peel , which i do every evening after the dreadful news , enjoying repeats and repeats as well , with reluctance i played the hospital dvd . i thought it was terrible . the diagogue idiotic . i could not help but laugh when scott attacked diana . emma peel would have thrown him across the room . i had to play a few episodes of emma peel in the avengers series to cleanse me of this disappointing and terrible hospital dvd . the lovely diana rigg is a great actress and an extremely intelligent woman , and i was saddened that diana after all those wonderful and exciting avengers collection , with her unrivaled beauty and possessing the most beautiful voice and able to do her own stunts took on this dismal role in the hospital dvd . i see that this dvd was dated 1971 , this was only 4 years after her last avenger episodes dated 1967. in hospital , i believe she was 33 years old . oh well , i will cleanse myself of this hospital dvd and devote an eveningr to a few episodes of the avengers with the lovely diana rigg as emma peel . finall , john steed would have been shocked to see how emma reacted to george scott the doctor . can you imagdine if john steed appeared in the hospital dvd to collect diana rigg and ride off into the sunset as they do after an avenger episode . perhaps they will issue hospital 11 , and bringr in john steed and a few other great actors of that series . robert lyons reno , nevad \n",
      "\n",
      "Row 1642 has been classified as neg and should be pos\n",
      "like the new look but am having problems making the transition . jury still out \n",
      "\n",
      "Row 1644 has been classified as pos and should be neg\n",
      "if you do n't know much more about woodrow wilson than an overview of the important events of his life , this book is n't going to help much . there 's very little political analysis , almost no attempt to portray what diffiulties wilson needed to overcome , and no passion at all in the writing . actually this book feels a lot like a high school term paper that someone knew they had to write and just wanted to turn in for a passing grade . auchincloss talks a bit about the two wilsons ( one good one bad ) and hints at wilson 's dependance on women , but neither of these positions is fleshed out or used consistently . maybe woodrow wilson 's life is just too large for a book this small \n",
      "\n",
      "Row 1651 has been classified as pos and should be neg\n",
      "i have found another product that i want to recommend . it 's called alert and is sold by consultants like avon , but you can also go the starlight website and order it . it 's a nutritional supplement and for me does provide energy without the jitters , and as a bonus i do n't feel hungry when i 'm using it . they also have a product specifically for weight loss . i have tried that as well . i did feel a bit jittery at first.. . but it settled after a week or so of taking it . i would recommend it also . i used it a few years ago and lost 35 lbs . i did consistent diet and exercise which obviously is what did the weight loss , but i credit the supplement with giving me the energy to get moving and helping me curb cravings . i 'm now looking for energy and help maintaining that weightless so for me the alert does both of what i need ... energy and hunger control and it 's less expensive than the weight loss supplement so i now use it . i 've used this for years and have not had any problems . \n",
      "\n",
      "Row 1667 has been classified as pos and should be neg\n",
      "i like to have natural sounds or some type of ' yoga style ' music while i 'm either practicing yoga or just trying to relax . this cd just did n't fit . there are a few ok ' songs ' but the rest of it is either too fast / upbeat or there 's too much talking / chanting . i found myself distracted when i put this cd on \n",
      "\n",
      "Row 1668 has been classified as neg and should be pos\n",
      "i actually discovered this book accidentally . it was in the \" return to stock \" section of my borders book store and i was perusing the many books people had been interested in . the summary caught my attention , but it was the first page that drew me in . even from the beginning this book is captivating . it 's thrilling , tragic , heart-breaking , and even at times so amusing . greer has a talent for making max seem so real . i could n't stop reading it . it 's so hard to put down ! definitely one the best books i 've ever read . \n",
      "\n",
      "Row 1676 has been classified as neg and should be pos\n",
      "this omron blood pressure monitor is ok , but not as good , in my opinion as my old one from the same company . this one does n't print out results , although it does store them . also , the cuff is very stiff and cumbersome . \n",
      "\n",
      "Row 1685 has been classified as neg and should be pos\n",
      "multiple reviewers of other washington biographies recommended this abridgement over the book they were reviewing . i am a reader , as claimed above , but i have not read any washington biography . i still thought the above information might be helpful to other seekers \n",
      "\n",
      "Row 1686 has been classified as neg and should be pos\n",
      "turbotax was a great service , but i would like to be able to navigate with menus / tabs to a greater degree of specificity within the input pages itself . writing the return often requires back-tracking to a page that you alread covered . to get to a particular prior page , i would often be forced to go through up to 5 or 6 prior pages , reading the question each time because turbotax highlighted the default which was not my previous choice . this was a colossal waste of time in an otherwise excellent product . it could easily be fixed in the 2006 software if turbotax 1 ) switched the defaults to the users ' previously-inputted values ( completetax does this and it seems like an obvious thing to do ) and / or made it easy to navigate to a prior page by giving a link to every input page when a user clicks a superior tab or link . this is what a good web-page does , and it would be very helpful if turbotax did the same . \n",
      "\n",
      "Row 1693 has been classified as pos and should be neg\n",
      "unfortunately ttd went off the deep end on this album . consequently he put off many fans from buying the brilliant next album & quot ; symphony or damn&quot ; and the superb follow up & quot ; vibrator&quot ; . if you loved the first album , give this one a miss and get the two i just mentioned . come on ttd hurry up and release a new album \n",
      "\n",
      "Row 1694 has been classified as pos and should be neg\n",
      "with much anticipation we awaited the arrival of clay 's second album , thinking this one would make the career of one of our favorite singers.. . and instead we fear that it is likely to end his career . while clay 's voice still sounds great , the cd is an entire collection of uninspired , underproduced remakes ... not one of which goes beyond the original . as you can see , this cd is nowhere on the billboard charts , and we 're very sad to say in our household , that it 's for good reason . save your money and buy one of the much better idol cds ... and almost any of them are , most recently kelly pickler and carrie underwood . \n",
      "\n",
      "Row 1702 has been classified as pos and should be neg\n",
      "this is a nice item to add to a collection of d&d trinkets , but in no way is good . it is lacking in story and acting . a lot of the scenes were pleasant , but i was never \" compelled \" by the story . i would only recommend this to a hard core collector or a funny break from your current game. . \n",
      "\n",
      "Row 1719 has been classified as pos and should be neg\n",
      "do you know why this double cd is often in the bargain basement ? simply because it is an inferior product . for some very odd reason , the compiler at the record company decided to put 13 live songs instead of the studio versions that we all remember . for all we know , it may have been a copyright problem . i bought this for my dad about 5 years ago , but we were both unaware of the live recordings until we played it . the live recordings on this cd are dismal and not related to the awesome \" hot august night \" . fortunately for me , i own the right neil diamond cd 's which contain the studio versions . these are still available . the first is called \" 12 greatest hits \" ( a black and white photo a young neil ) , and the second is called \" 12 greatest hits volume 2 \" ( a colour photo of neil sitting on a sofa ) . both of these contain all the studio versions - and not one live recording in sight ! ! ! just released is a new compilation called neil diamond gold , as part of the gold series but i do not know if it too contains the dreadful live recordings . all i know is that it is missing a lot of key tracks \n",
      "\n",
      "Row 1723 has been classified as neg and should be pos\n",
      "it does what it advertises . the bodyfat readings do fluctuate , but that 's normal , it gives you a good general idea of how much bodyfat you have , and it gives a simple reading of whether your bmi with your body fat is low , normal , high , too high . i got it for about 25 bucks so good buy . \n",
      "\n",
      "Row 1725 has been classified as neg and should be pos\n",
      "the print looks like you 're watching it through muddy water ; is this something to do with the unclear \" public domain \" status of this and other of capra 's works ? does n't he have a family that could help out his dvds the way that chaplin 's family has done , or even , to use the opposite extreme , the family of edgar ulmer , who have released superlative versions of some pretty dicey movies ? the point is that if people are paying for something they deserve to get it served up nice , and all the various dvds of meet john doe are painful to watch . we 've heard for years of the re-worked ending of the film , and that another one exists ( or existed at one time ) . bring it on ! for now the pleasure is nearly entirely in watching gary cooper react to barbara stanwyck 's pure life . it 's sort of like ball of fire but a bit more subtle . moviemakers knew they were on to agood thing teaming the two , because cooper 's slow-moving , nearly snakelike screen presence got an injection of caffeine when placed next to stanwyck 's vibrant beauty and her gorgeous clear gaze and complexion . she does n't even have to speak , she emanates something very basic in her bones and her posture . okay , the movie writes itself into a corner , for what else is going to happen except that if gary cooper is not going to kill himself the movie will break the trust it 's established with the viewers . this has always been doe 's problem , that it has to cheat to come out ahead of itself , and it did n't work in 1943 and it still is n't working now . it 's great up until about an hour and fifteen minutes ; then you feel the gears start to whine and complain as \" hollywood \" tries to solve a basically philosophical dilemma \n",
      "\n",
      "Row 1738 has been classified as pos and should be neg\n",
      "ahh , \" iron eagle \" . a classic of the 1980 's golan-globus production mill . with the current spate of historic / \" current \" military movies , it 's sometimes good to see how hollywood 's come in trying to get the details right . one ca n't do much better than using this flick as a baseline . in case you are n't already familiar with this gem , louis gosset jr. playing a reserve air force colonel , and a teenage kid fly a mission inside an unnamed arab country -ok i 'll name it : libya - to rescue the kid 's dad . pop gets shot-down when he 's intercepted in international waters , but the us refuses to do anything more than diplomatic pressure . the kid and lou gosset meet up when the kid 's challenged to race the local bully with his plane while the bully 's using his dirt bike . suffice it to say he wins and impresses his babe ; he does n't get his slot at the usaf academy , though . you gotta take the bad with good i guess . when the words on dad get back to the family , this kid uses his base \" network \" to get access to imagery , enemy air defense data , and two f16s carrying a b52 's worth of ordinance . all of this being done by his friends exploiting the dim bulbs who are their parents , no less . ( if only strike planning was this easy . ) of course , the kid has flown training missions with his dad , and has a boatload of simulator time , so he 's a natural to fly the mission . he convinces gosset to go along with him , and his two-ship is on the way . the flying scenes are nothing spectacular , with obviously israeli f16s playing the good guys , and kfirs ( modified mirages ) acting as migs . cockpit scenes are completely the imagination of the set designer ; i 'm guessing he never was anywhere near a real aircraft . these are especially dated now as many computer flight sims are pretty darn accurate in cockpit , flight , and combat models . anyway , lots of explosions on the way in , lou gets hit and aborts and our hero must press on alone-go figure . he manages to talk with the evil dictator directly and get his dad on the runway for him to land ( ! ) and pick him up . more silliness ensues as he launches weapons on the ground , taxi 's out and takesoff . he kills the bad guy and heads home to find lou punched out and was rescued . rather than the prison sentence for espionage , and theft of government property that lou , the kid , his pals and the idiots they exploited on base should 've got , he gets his slot at the air force academy . the end . overall , i guess lou 's performance was fairly good , but everyone else performed at the grade-b level this flick is . note especially a very young shawnee smith as one of the kid 's buds . worth seeing for laughs , and as a film version of a kid 's pilot fantasy . \n",
      "\n",
      "Row 1740 has been classified as pos and should be neg\n",
      "this is a good book for serious health nuts that have the time and energy to make simple easy recipes with a million strange ingredients that you 've probably never heard of . if you plan on making lots of baby food with kelp and sea weed then this is the book for you \n",
      "\n",
      "Row 1741 has been classified as neg and should be pos\n",
      "interesting . i never knew there were so many varities of garlic and onions . i 'll be growing some next year \n",
      "\n",
      "Row 1744 has been classified as pos and should be neg\n",
      "while i think the basics of the book are good , i do n't like how fat-free items are treated as always being the best option . i did much better on the south beach diet , where good fats in moderation is emphasized as well as natural foods . fat is what makes us feel satisfied . after years of trying to diet by limiting fat , it was a revelation to me i could lose weight without feeling hungry and deprived . an omelette made of egg whites and fat-free cheese is not at all satisfying and not necessary . secondly , many foods are altered in a negative way to make them low-fat . i just noticed this week that cool whip lite has high fructose corn syrup and hydrogenated vegetable oil as two of it 's top ingredients . this ca n't be better for you than actual cream . i also prefer the book \" french woman do n't get fat \" , which emphasizes enjoying food by eating smaller portions of good , natural food when it 's in season . the pleasure of good food makes you stop thinking diet and start thinking about lifestyle . i feel that the g.i diet is oversimplified and written to appeal to an audience that has never thought about eating right before . i think this book is about the mechanics of healthy eating when the cause of overeating is a lot more complicated . it certainly can help get people on the right track , but i think there are better books available . \n",
      "\n",
      "Row 1750 has been classified as neg and should be pos\n",
      "i think that they are great diapers . i have used other diapers in the past and i am now sitcking with luvs ! ! ! ! i get more for my money and they work great . \n",
      "\n",
      "Row 1753 has been classified as pos and should be neg\n",
      "this is a good charger - quick and portable . but the battery life of the battery sucks ! \n",
      "\n",
      "Row 1755 has been classified as pos and should be neg\n",
      "i am not satisfied by this product . the calrity is not good . also this is the most battery consuming device i have ever seen \n",
      "\n",
      "Row 1759 has been classified as neg and should be pos\n",
      "after waiting months for an order to be filled and then getting screwed by customer service / returns , i decided never to buy from amazon again . go to an electronics or camera store , you 'll get better service and the fresh air will do you good \n",
      "\n",
      "Row 1761 has been classified as pos and should be neg\n",
      "while \" scary movie 4 \" does work in getting out a couple of laughs , it certainly does not live up to the past three . many of the jokes that were used are redundant and frankly , are getting pretty old . although this movie had a lot of different material to work with such as the grudge , saw , and war of the worlds , it misses the funny mark just by a bit . personally , i felt they could have done a lot more in terms of parodying these films , particularily with the grudge . the writers should have taken more advantage of the content they had to spoof in order to have made this film a lot more funnier . and really , was it necessary to spoof films such as brokeback mountain and millionaire dollar baby , both of which are not horror films ? i believe the comedy in this film is aimed towards a more mature audience , and is vastly different from what scary movies 1 & 2 offered ( which i found to be extremely hilarious ) . if you 're looking for over the top funny , look towards the other scary movies \n",
      "\n",
      "Row 1770 has been classified as neg and should be pos\n",
      "i 'm a spanish fan of soul music of the 90's . these days is almost impossible to find a good soul / r&b cd to purchase . in the 90 's i had to buy about 2 or 3 cds per week . now , with all the rap & hip hop topping the charts , what kind of music could i purchase ? luther , anita , lalah , smooth jazz & maybe , some joe 's cd . and of course , this terrific cd by mr.benson . if you 're a fan of good r&b music and you hate the hip hop music , buy this cd now ! ! ! ! you wo n't regret ! \n",
      "\n",
      "Row 1777 has been classified as neg and should be pos\n",
      "i bought from the 3 types of olay total effect , and i did try them after reading the instruction , there is no magical effect apeard after 1 month but there is diffrence , the company was very good in logistic maters \n",
      "\n",
      "Row 1782 has been classified as neg and should be pos\n",
      "i was 5 minutes early getting out of the house to go to work one morning so i decided i could stop by a coffee shop and get a mocha . on my way back to my car the mocha \" splooshed \" out of the sipping hole in the to-go lid and got all over my sweater...naturally , that day it was a white silk knit sweater . so i had these large dark brown coffee / chocolate stains , and a decision to make about whether to make myself extremely late to work by going home to change . the cafe was next to a supermarket so i decided to go buy a tide to go pen and give it a try . i applied it as directed to the stain and immediately the stain lightened noticeably . i was a bit worried because after treatment there were still light tan stains visible , but after blotting the excess liquid and letting the sweater dry while wearing for about half an hour , there was no hint that any mocha had ever touched my sweater . the cleansing agent also gets points for not damaging my silk sweater , despite the fact i was rubbing the product in fairly vigorously ( out of desperation...i was going to be late for work ! ) i 'm not sure how it would work on other stains but i will keep one in my purse from now on . on the packaging it does identify which sorts of stains it works best on , and which it will be less effective on . from other reviews this will not work so well on some common food stains , so that 's why i 'm giving 4 stars and not 5. another minor concern is the warning about blotting the fluid if fabric will come into contact with direct sunlight . it does n't say what will happen if you allow saturated fabric to see sunlight . perhaps there is the potential for color / fabric damage \n",
      "\n",
      "Row 1789 has been classified as neg and should be pos\n",
      "what a wonderful book . it 's too bad so many readers today know only tom wolfe , not thomas wolfe . even though it has been at least 10 years since reading look homewood angel , i knew almost immediately when i came to the new sections . they add a depth to the novel , bringing in the whole town and relatives , rather being only about eugene gant . my favorite wolfe readings involve trains ; the experience about time stopping for a moment when you look into the eyes of someone looking directly at you into the train , is exactly as i remember my earlier train rides.what are they doing now , that the train has passed ? other 800 page books might be dull , but not this one . having been given it as a present recently , i am very surprised and disappointed that it is already ' out of print . &quot ; more people should know about o lost \n",
      "\n",
      "Row 1798 has been classified as neg and should be pos\n",
      "it would be nice if the contents were listed , with all of microsoft 's versions , it gets confusing \n",
      "\n",
      "Row 1810 has been classified as pos and should be neg\n",
      "i was hoping to hear the rockin ' spanish flavor of the robert rodriguez band chingon , but what the hell is this ? ! ! ! the amazon recomendations lead me to this album , and hinde sight i should have read a little more before buying , but i was too excited to hear more of the rodriguez chingon . i hope this helps you \n",
      "\n",
      "Row 1814 has been classified as neg and should be pos\n",
      "i have had this heating pad for over a year and am very pleased with it . the auto shut off is annoying when i forget to reset the pad and it goes completely cool but otherwise , very pleased . just ordered one for my grandma and she is thrilled with the soft cover and the fact that it does n't \" rattle \" like the old fashioned ones . great improvment and larger size \n",
      "\n",
      "Row 1819 has been classified as neg and should be pos\n",
      "along with \" from science to god \" mr russell establishes himself as one of the masters of spiritual reawakening . although this piece has more doomsday in it than his later work , it has the same hopeful message and the same readability . in both books mr russell never seems to lose the reader in scientific mumbo jumbo , even when discussing very complicated subjects . that is n't a statement on his intelligence or research , but rather on his ability to communicate on all levels . neither does he offend when he deals with the spiritual aspects of his writings . in short everyone can sit around his table ( well , almost everyone ) . read'em twice . \n",
      "\n",
      "Row 1820 has been classified as neg and should be pos\n",
      "you definetly should read this book ! do n't believe what the 1 star writers are saying . they do n't want you to know the truth ! the left claims that bin laden would never side with saddam because of their beliefs , yet the left is adamant that osama bin laden was funded by the united states . go figure ! we all knew there was a connection and stephen hayes demonstrates so with great care ! there is a connection with al qaeda and iraq and the book explains it in detail \n",
      "\n",
      "Row 1822 has been classified as pos and should be neg\n",
      "best of dark horse is another half-hearted attempt to gather george harrison 's greatest songs together . this time we only get tracks from 1976 to 1989. while there are some good songs ( blow away , crackerbox palace , cheer down , etc. ) the rest do n't represent his best songs from this period . where 's faster , this is love , someplace else , etc ? the only reasons to purchase this cd are for the rarities poor little girl , cockamamie business and cheer down . until they make a true best of , we 'll have to make our own single-disc compilation . here are the tracks needed : apple scruffs , my sweet lord , all things must pass , what is life , give me love ( give me peace on earth ) , living in the material world , crackerbox palace , blow away , all those years ago , dream away , cloud 9 , this is love , someplace else , got my mind set on you , end of the line , handle with care , cheer down , devil 's been busy , any road , rising sun . [dw] \n",
      "\n",
      "Row 1829 has been classified as pos and should be neg\n",
      "some of the stuff in here was really screwy . it 's not a handbook to the & quot ; food and mood&quot ; book by elizabeth somer , which is what i thought it was when i bought it . it 's a separate program entirely . this one is too woozy and non-western for me . very little hard data to back up what they say , just kind of fruity and flowery \n",
      "\n",
      "Row 1830 has been classified as neg and should be pos\n",
      "this is a great program if you never owned an older version of family treemaker . the new version is so similar to the older versions it does n't pay to upgrade \n",
      "\n",
      "Row 1835 has been classified as neg and should be pos\n",
      "recieved product on time , and i wil for sure order from this company agai \n",
      "\n",
      "Row 1836 has been classified as pos and should be neg\n",
      "do yourself a favor and only buy his albums . they 're much more solid . one love . peace \n",
      "\n",
      "Row 1837 has been classified as neg and should be pos\n",
      "i 'm not sure about all that other nonsense the reviewer before me is talking about ( sounds like someone with an axe to grind ) but this album is a stunning piece of workmanship . the music is inspired , the melodies transcending , and the emotion - deep and meaningful . as far as \" copying yanni \" goes , well - i do n't agree , in fact , yanni is far more generic and less inspired . the sound samples the cranky reviewer alludes to are in fact not the same nor , are they yanni 's creation . i write this review to commend mr farish on his work , and to take to task the idiot who misinformed others and could n't resist his own urge to see his \" critique \" in print . ryans music is distinctly his own , no question - and any similarities are tonal , and not compositional - which the reveiwer would be well advised to take note of . as far as i 'm concerned , you be the judge - and let cranky wannabe music critics continue to wallow in their own self hate as they surf store shelve 's and websites for music to criticize - and well , make themselves feel a little better . personally , i would recommend this album to anyone who likes strong songs with great production and uplifting energy . all the other stuff is for hacks ! enjoy this music ! i do . \n",
      "\n",
      "Row 1853 has been classified as neg and should be pos\n",
      "i bought the datapilot universal pro kit recently and it worked great ! my screen broke on my nokia 6102 , and i ended up buying a razor . i had some really important numbers on that phone and this program really saved me . transferred all my numbers from my broken one into my new razor in a couple of minutes . also , the image editor and the ringtone thingy came in very useful for saving images and sending mp3s to my phone . \n",
      "\n",
      "Row 1865 has been classified as neg and should be pos\n",
      "this works fairly well for me . it easily downloads the capital gains from microsoft money , the interviews are fairly straightforward . however there are a few areas ( like foreign tax credit ) where it should be automated but isn't . but on the whole it does a nice job , they just need to improve it a little every year then it could be a 5 star item . \n",
      "\n",
      "Row 1866 has been classified as neg and should be pos\n",
      "release the bats is definatly one of my favorite dvds i own . it will show you a side of pete wentz and others you may or may not want to see.. . i thought it was very interesting to see and its kind of cool to see another side others may not have . you also get to find out who dirty is or whatever . pete says things about him in a couple of places ( online ) and all i could think is \" who is that ? \" so thats also very exciting . i would say as long as you have a good sense of humor your pretty much safe buying this . remember : its the stuff deemed ' unfit ' for \" my heart with always be the b-side to my tongue \n",
      "\n",
      "Row 1867 has been classified as neg and should be pos\n",
      "we have now entered a second time of deep concern for the science , math , and technological education for everyone . the first one occurred after the sputnik fiasco , when the russians beat us in the race to reach space . the concern now has risen due to what science groups such as the american association for the advancement of science , and educators saw in comparison of assessments made of students in the u.s. and those in other developed countries , such as japan . the answer to this concern was for the aaas along with other groups to put out a guideline as to what constitutes scientific literacy , and what the public in the u.s. should at least know to be scientifically literate . as usual , though the aaas addressed the fact that certain groups in the u.s. were not being ' included ' in the pursuit of science literacy , such as women and racial minorities , in this their first book they skipped over those of us with disabilities . since this is a major concern of mine and the area in which i do research , i was appalled to see they neglected ' us ' once again , especially as the aaas has a separate department dealing with the disabled / deaf . in spite of this mistake , the writing of this book has laid the groundwork for universities and colleges as to what the teachers they train should know and be able to teach so that our country can be more scientifically literate . with new information being made available through newspapers and the internet on a daily basis , it is absolutely imperative that all adults regardless of race , gender , or ability be able to glean the information they need from this outpouring of information to make decisions requiring informed consent in health care , decisions on employment ( since health care is one of the top employers in the u.s. today ) , and to teach their children . this book was the beginning , but it is n't the end . more books have further elucidated what is required for science literacy from both the aaas and other science groups . this is the place to start if you are an educator of any kind who wants their students to become scientifically literate . karen sadler , science education , university of pittsburgh , klsst23@pitt.ed \n",
      "\n",
      "Row 1877 has been classified as neg and should be pos\n",
      "it took cancer to wake me up . i now do everything i can to inform my family and friends of the of the importance of a health lifestyle and eating habits . this author also wrote \" what you do n't know may be killing you \" these two books are great to accidently leave at a loved ones home . they are filled with tons of improtant messages and very easy to relate to examples are given that help you understand what actually is happening to your body . my dad has gone from drinking no water to probably half of what he needs but this is a start , he will read more the next time i leave another book by accident.. . this author is great ! \n",
      "\n",
      "Row 1879 has been classified as neg and should be pos\n",
      "this is a great product . a friend told me about it . i finally decided to get one . i had bleeding gums . in two weeks of regular use , bleeding has stopped and i can see that my teeth is getting whiter and and my gums are great . just be careful when using the water jet side . you must turn it on with the flossing part in your mouth , or it will spray all over the place : \n",
      "\n",
      "Row 1881 has been classified as pos and should be neg\n",
      "i bought this movie for my husband because its one of his faves . when we received it we found out it was a blu ray edition and our dvd player does n't accept blu ray dvd's . so i basically bought a movie i ca n't watch . it should have been put in the description that this a blu ray edition for those of us who do n't have blu ray compatible dvd players \n",
      "\n",
      "Row 1882 has been classified as neg and should be pos\n",
      "i say the scale is pretty good and accurate but the fat % keep changing different % in the morning and night , like in the morning i got 30.2% and at night it say i got 25.8%. i dont really trust the fat % but the pound is very accurate . for the price i would rather get something cheaper \n",
      "\n",
      "Row 1885 has been classified as neg and should be pos\n",
      "these are the best nursing pads out there . i tried several others that would not stick and would leak . i 've never had any problems with these \n",
      "\n",
      "Row 1887 has been classified as pos and should be neg\n",
      "the quality of the dvd 's was good . however i did not like the third season as well as the first two seasons . it seemed that the story was setting up for season 4. \n",
      "\n",
      "Row 1888 has been classified as neg and should be pos\n",
      "if you have used ms streets & trips , then you 'll know your way around autoroute . we are using this to plan a trip to europe next may . based on my knowledge of locations in britian , the software appears to be pretty accurate . if you want to use this with a gps that does not come bundled with the package , expect some frustration . i still have not figured out how to get it to talk to my usb based garmin unit . i think it is possible , just do not know how . \n",
      "\n",
      "Row 1892 has been classified as neg and should be pos\n",
      "the movie is about two men who fake fairytales for money . they are employed to stop these children from disapearing into a forest in a town . wilhelm and jacob grimm take on the job or be forced to die and go into the forest . this is a really good movie and is an action packed fairytale \n",
      "\n",
      "Row 1894 has been classified as neg and should be pos\n",
      "he adquirido este flash para completar mi cámara evolt e-500 y considero que es la combinación perfecta . se requieren de conocimientos adicionales de iluminación y fotografía para obtener las mayores prestaciones que ofrecen ambos equipos . altamente recomendado \n",
      "\n",
      "Row 1921 has been classified as pos and should be neg\n",
      "i have all her other cds i especially love unsung heroes there is a vibe to that cd that gets u right in but with this one its like shes just tryin far toooo hard to be good....sure the technique is spot on but there is no soul the emotion is missing...for me i like my jazz vocals with feeling . i like the singer to take u on a journey deep into to the song . u wont get that here all u will get is technique. . \n",
      "\n",
      "Row 1924 has been classified as pos and should be neg\n",
      "i had never heard leonard cohen 's music but saw references to it frequently when looking at other singers / songwriters . given his status / reputation i thought i should get this cd and learn what all the fuss was about . having had no preconceptions , i have to say i was quite disappointed . i think the music has not aged well and is pretty unremarkable . perhaps the style liberated others to pursue new directions but the work in and of itself is ho hum at best . specific example that speaks volumes : listen to cohen 's singing of his \" hallelujah \" and then listen to jeff buckley 's cover of that song on \" grace \" which was recorded in 1994. sorry , leonard , you cannot hold even a birthday-sized candle to jeff buckley 's rendition of your own song . it is a very unflattering comparison that pretty much put the first and last nail in the coffin for my appreciation of cohen 's legacy . \" tant pis , vers le bonheur . \n",
      "\n",
      "Row 1935 has been classified as pos and should be neg\n",
      "this program is good if you want to mold the matrix bit by bit . but if you want to make games in a snap , spring for the professional and get a level editor on a darkbasic website \n",
      "\n",
      "Row 1944 has been classified as neg and should be pos\n",
      "those who hunt elves is worth the buy , you wo n't regret it . \n",
      "\n",
      "Row 1950 has been classified as neg and should be pos\n",
      "this book is a comprehensive guide that presents a lot of useful information concerning intelligent design for beginners . my rating is short of five stars due to the lack of more biological examples that refutes darwinism on the basis of providing a poor explanation on evolution \n",
      "\n",
      "Row 1951 has been classified as neg and should be pos\n",
      "i liked this movie when i first saw it and i seen it about 10 times.. . i like to watch any movie that involves gangs ( especially bloods & crips ) so i can learn from them.. . if you 're looking or are just a collector like me of gang movies.. . you may not want this one in your collection.. . becuase to me , it does n't show enough bloods & crips in it... . the characters are fictional....there are some minor gangs in it as well called the white fences ( latino / hispanic gang - i 've never heard of this gang , so i do n't know if they are true or not . ) . the actors who play the gang members of the white fences are good actors though.. . i think they are better then don cheadle and wayans who play crip members.. . this movie centers more on white fence and their rivalry w / crips.. . there 's not too much focus on bloods in here.. . it also more focuses on sean penn 's character and robert duvall too ( good cop / bad cop ) , and penn on how he falls in love w / a former gangmember woman in the white fence gang . colors is a good watch...i just wish it had more gang focus in it...and more gang sets ( chapters , i.e. eight tray gangsters , hoover , etc.. . ) if you 're looking for a good gang buy , buy the book \" monster \" by sanyika shakur a.k.a. monster kody scott , or \" do or die \" by leon bing . those 2 books far surpasses this movie. . \n",
      "\n",
      "Row 1954 has been classified as neg and should be pos\n",
      "this is another superbly done documentary from the award winning pbs investigative journalism series frontline ( peabody award , emmy and many more ! ) . disregard what one reviewer said about this being pro-walmart propaganda paid for by the corporation . he 's obviously smoking something , because this is made and hosted by hedrick smith , a pulitzer prize winning journalist who used to write for the ny times . he is one of america 's most respected journalists . i started watching the show since i was in high school ( i 'm now late 20 's ) and their shows are exceptionally high quality . now , if frontline is interviewing people who lost jobs and showing rubbermaid factory equipment being auctioned off because they got put out of business by walmart , how is this pro-walmart ? the story starts in america and its impact on the us economy . he interviews some professors , economists , managers , suppliers , and executives . then the story moves to china and hk , and then back to the us . there are some very clear insights from nmost of the people interviewed especially from one professor who talks about the shift in american culture and business history . is walmart good for america ? i ca n't answer that and neither can frontline . this documentary does an excellent job presenting facts without judgement and presents both sides and the complex shades in the middle . it asks some thought provoking questions . the us trade deficit is getting worse every day . quality is going up ( some \" made in china \" stuff is now very good and getting exponentially better every year ) , and that 's really scary for us in america . who 's the blame ? well , all of us . we 're not competing well in the global economy , and we want the cheapest goods . we 're not willing to put our money where our mouth is . if you 're interested in economics , history , social issues , this is a must see . if you care about the american economy , and global events , you should watch this documentary . it 's loads better than the \" walmart , the high cost of low prices \" film ( which is very one sided and not nearly as well done ) . oh , .. and start learning chinese \n",
      "\n",
      "Row 1955 has been classified as pos and should be neg\n",
      "i ca n't believe none of the other reviews of the ultra lounge series state that these cd 's contain almost all instrumental music , with very few songs that feature vocals . i expect a lounge music cd to have a mix of both vocal and instrumental tracks , and of the four ultra lounge cd 's i purchased , i count only three songs with vocals on all four of them . while the instrumental songs do fit the genre of lounge music , they tend to blend into one another and become mundane after hearing several of them . the titles of the ultra lounge cd 's ( such as bachelor pad or bossanova ) mean very little , as each cd fails to distinguish itself from any other because of all of the instrumental tracks . the best lounge cd i have heard so far is from an unlikely source . i purchased it at pottery barn , and it has a great mix of vocal and instrumental songs . keep this in mind when buying lounge music cd 's so that you wo n't be disappointed the way i was with the ultra lounge series \n",
      "\n",
      "Row 1956 has been classified as pos and should be neg\n",
      "it 's a handy mirror for the price but if your looking for a good vanity mirror , i suggest looking for something larger with a higher magnification . the light is not great at all . it 's very dim . one of the good qualities of the mirror is that it 's cordless and comes with an adapter if you do n't have batteries handy \n",
      "\n",
      "Row 1958 has been classified as pos and should be neg\n",
      "gerry marsden and his pacemakers are great . i just want to point out that the double-cd ' best of ' import has 15 extra tracks and sells for about the same price . there is just no reason to buy this compilation instead of the import \n",
      "\n",
      "Row 1962 has been classified as pos and should be neg\n",
      "i have written software for development projects for 30 years and i have managed several projects . martin fowler has extraordinary insight , and i enjoy reading his papers for the gems of thought i find . the main lesson i pick up from this book is : break your large project into projects sufficiently small that you can sensibly abandon refactoring for each of the small projects . refactoring works well in some cases , i suppose . refactoring works well for some people , i suppose . i 'm skeptical , though . fowler filled the book with page after page of the detailed refactoring method applied to a problem he acknowledged as too simple for application of refactoring . he assures us that refactoring may overload small projects with methodology , making it unsuitable for them , and it works really well for larger projects . i suspect , however , that the burden it imposes enlarges as the job enlarges . fowler gives me no good reason to think otherwise . if i 'm to risk this methodology on a large project , i want to see it perform well on a smaller project first . fowler conceives methodologies that attract zealous disciples . in the case of refactoring , the methodology may succeed for its attractiveness rather than for its practical utility \n",
      "\n",
      "Row 1963 has been classified as pos and should be neg\n",
      "in the golden age of hollywood , each studio usually took a stab all various genres , but excelled in only one . warner brothers cornered gangster films , with forays into musicals ( busby berkeley ) and noir ( bogart ) . universal dabbled in lots of b-films , but succeeded big-time with horror . mgm , of course , produced the best musicals . fox did melodramas - - - especially noir - - - with an occasional romp on mgm 's musical turf . and usually those romps hit some really bad notes . witness the first three flicks in their marquee musicals series . daddy long legs has astaire and caron , pin-up girl has betty grable , week-end in havana has alice faye and carmen miranda , the memory of these films , for the most part , is a lot better than the films themselves . the pleasant but fairly pedestrian scores , thin plots and busy character actors scurrying around propping up the story make for rough going . and make one yearn for mickey and judy \n",
      "\n",
      "Row 1966 has been classified as pos and should be neg\n",
      "with the caliber of musicians playing on this album , i expected a hard hitting original . instead we get re-arranged covers and lots of \" filler \" salsa . no surprises here . the classic salsa albums are worth your cash but if you are curious , you 'll play this one once \n",
      "\n",
      "Row 1972 has been classified as neg and should be pos\n",
      "if you like beatles , monkees and the who , then you will like the group that is better than all of them ; the rascals ! \" lonely too long \" is a sad rock pop painful staple in your 60 's elbow...it hurts...then theres all this other good sh*** here...and i do n't mean groovin ! the harmonys and the killer keyboards and tight drumming in these little pop angry yet cheerful nuggets is where its at ! ...i can remember listening to the rascals intermitently with black sabbath and the stooges...and i realised that above all...i liked my rascals record the most back in 1987 up in that cold lonely bel air gardening cabode ! also known at times as ' the young rascals ' but to me...this band will always be the one from way back in childhood that got me listening to queen and the who later on........its hard to say that they are underrated since in any given conversation , you realise the rascals get tone of respect and people will take over and talk about them ; five stars...buy this thing \n",
      "\n",
      "Row 1977 has been classified as pos and should be neg\n",
      "i do not understand why people are so waxing poetic about this album . there is nothing new or ' fresh ' or ' original ' or at all thought-brovoking about this music , unless you happen to be easily pleased by any simple pseudo-pop sound . i have only recently discovered the world of no-wave music , but i was introduced to it through artists like arab on radar and scissor girls . so when i tried out my first sonic youth album , i was way more than dissapointed . i do n't know how this can be classified as no-wave anymore . sure they show some trait in a few wailing off key guitars and an occasioinal shouted spoken word , but they are all only half-assed and are muddled up in cliche indie pop love tunes that have only been done in every other band . the most notable anything is the catchy medlody of becuz . it is really catchy , yet it managaes to be unique enough to rise above the typical \" catchy tunes \" ethos . xiu xiu 's \" knife play \" would probably be considered more of a pop / no-wave sound that does not sacrifice the aggressive anti-music drive of no-wave.. . and still retain the emotional pop sinsibility . i do n't know. . all i know is that wasing machine is a letdown . it does not reach me artistically by a long shot . emotionally , i can think of am million other artists ( mars volta , emerson lake & palmer , clouddead , ulver , edvard greig ! ) who can put me on a much higher cloud and help me get in touch with the human condition . this however is far to cheezy , and i do n't know , but i think it reeks of that shallow indie fashion clique. . \n",
      "\n",
      "Row 1985 has been classified as neg and should be pos\n",
      "i bought this for my husband . he had a plantars wart on the bottom of his foot that was removed but became a callus that gave him pain . emu oil is the first thing that softened it and it is better than it has ever been and he had suffered with it for years \n",
      "\n",
      "Row 1994 has been classified as neg and should be pos\n",
      "exactly what i thought i was purchasing . shipped quickly . definately would recommend this seller \n",
      "\n",
      "Row 1995 has been classified as neg and should be pos\n",
      "i have used quicken for over 12 years . whenever i got a new version , it always worked for me . but , it has too many things on it that i do n't need . i like to keep it more simple for me , so i just use the register , reconcile , reports , and lists-catagories . for all i use it for , i am happy with it \n",
      "\n",
      "Row 2002 has been classified as neg and should be pos\n",
      "all of these bad reviews confuse a movie they did n't like with a badly made movie . this is a very well made movie , with perfectly competent performances . the tone is quite serious , and the ending wo n't cheer anyone up . but then there are many people who loved titanic , which i found utterly depressing . more to the point , though , who cares about the problems of these rich kids ? not me . the real reason to watch this is to see molly ringwald at her most beautiful . and if you enjoy this film , check out less than zero , another gloomy but solid ( & underrated ) ' 80s film . the worst ' 80s film is bright lights , big city - do n't say i did n't warn you ! \n",
      "\n",
      "Row 2006 has been classified as neg and should be pos\n",
      "i 'm currently learning how to use this product ; however , one of the first things i noticed was that the only way to do my payroll with it was to use a service . now of course , this service was n't free and with only 4 employees , the last thing i wanted to do was expend $20 a month on a service . was n't that the point of getting quickbooks - so i could do it myself ? now i can understand that tax codes , percentages , etc can vary from state to state , but would it have been so difficult for them to just set up a section with the generalized accounts and have the user input the amounts for each account needed on their payroll checks . see , i 'm not even asking them to have the computer calculate the amounts . simple would have been fine with me . as for the rest of the program , it looks as though it will be fairly easy to use after i figure out the best way to set it up for my particular business . i 'm disappointed that a business program designed for the small businessman would omit something as vital as payroll \n",
      "\n",
      "Row 2022 has been classified as neg and should be pos\n",
      "la pelicula es mas o menos , pero la banda sonora es buena , en especial la cancion #1 crush de garbage , es una excelente cancion.. . \n",
      "\n",
      "Row 2025 has been classified as neg and should be pos\n",
      "a good product but like a lot of microsoft releases , not everyone outside of microsoft is ready for it . check with your web hosting service first to be sure they support sites developed with expression web . that is a problem i have run into . in fact some hosting services that support front page , have n't even come to full support of front page 2003 let alone expression web . you could end up changing hosting services to take full advantage of this product and its features \n",
      "\n",
      "Row 2042 has been classified as neg and should be pos\n",
      "we needed something for our baby 's room so that we would n't have to tip-toe around the house while she was napping . we ordered this item based on the great reviews , but did n't really know what to expect . it 's much like the noise produced by a small fan , but without blowing air . it has two speeds , and complete control over the volume and pitch by adjustment of the louvers . some reviews we read said it was not loud enough . i ca n't imagine that being a problem as we have it on the quietest setting ( louvers completely closed , and low speed ) and it 's perfect . on high it 's plenty loud for a device used while sleeping . this product did the trick for us , and i would recommend it to anybody with a light-sleeping baby \n",
      "\n",
      "Row 2048 has been classified as neg and should be pos\n",
      "purchased this a while ago and recieved it yesterday . reason ? my computer was moving much slower than it used to . mcafee scans my computer everyday , and does n't find anything , yet it was fully updated . i had a feeling it was n't working . when i installed this thing , i scanned it right away . this is what it found : viruses : 67 spyware : 312 adware : 51 after the scan , everything was deleted and my computer ran like new again . i am very pleased with panda 's software and will purchase again if needed \n",
      "\n",
      "Row 2051 has been classified as neg and should be pos\n",
      "does anyone know whether this set will become available on sacd or dvd audio format ? how would you contact grp records to ask ? i only give it four stars until multichannel format appears . \n",
      "\n",
      "Row 2059 has been classified as neg and should be pos\n",
      "i have loved dolce & gabanna light blue since it came out . i was so excited to find it at such a competitive price at amazon , and am certainly a satisfied customer ! the shipping was so fast , i was expecting to wait at least 2 weeks , and it was delivered ahead of schedle ! thanks so much \n",
      "\n",
      "Row 2060 has been classified as pos and should be neg\n",
      "we bought this camera thinking that it would be our do-all \" eurocam \" for an upcoming trip to europe . it promised a sufficient range of performance and features to easily meet our needs on such a trip . sadly , the camera is not up to filling this role . we will need to take another camera along with it . however , we will take the v705 for its wide-angle lens , the reason that we picked this model in the first place . it is this disparity between the advertised and actual capabilities of the camera which prompts me to contribute this review . the need for a true wide-angle lens is both a sufficient and a necessary condition for buying this camera . if you do not need a 23mm lens , or if you do not know if you need a 23mm lens , then you do not need this otherwise mediocre p&s ( point and shoot ) camera . good : fairly decent 23mm wide-angle lens ; the 23mm is the default lens ; rapid start-up time ; internal focus and zoom ; chromatic aberration well controlled ; can use 4gb cards ; freeze-frame and extract any video frame . mediocre : soft images ; perceptible shutter lag ; slow shot-to-shot times ; exposure compensation is easy , but steps are too small for digital , and is reset when camera turned off ; flash does not come close to covering the 23mm ; image numbering basically limited to 4 digits ; flimsy construction ; no manual controls ; no raw format ; no optical viewfinder ; histogram on display , but too small to be useful . bad : the absolute worst menu system to be found on a camera ; excessive and unadjustable jpeg compression ; poor battery life with very expensive external charger and spare battery ; unacceptable visual noise starting at asa-400 ; forced in-camera stitching of panoramic images , with inability to save the individual panoramic shots ; panoramic component images forced to 5mp ; overlays for panoramic and delete modes are so dark they obscure the underlying image ( even with display on ` bright ' ) ; mpeg-4 video compression gives very poor results . synopsis : if you need a 23mm lens in a point and shoot , this , and the older v570 , are the only choices . if most of your images are in bright light , the 7mp v705 gives better images . if most images will be in low light , the older , cheaper , 5mp v570 is the better choice . the camera seems very fragile . treat it gently and you will likely be happy with the wide-angle performance . if you chose this as your sole camera , you will likely be unhappy with your choice . the only reason to buy this camera is for the wide-angle lens . = = = = = some expanded comments = = = = = twenty-three mm wide-angle fixed-focus lens . this lens has almost decent optical quality ; though the camera 's processing still produces overly-compressed and soft images from it . on power-up the 23mm is the initially active lens , which is ideal for us . however , considering that this is truly a specialty lens , it would make more sense that the ` normal ' lens should be the default . best would be a menu setting to allow selection of the boot-up lens . better yet would be a camera with only the 23mm lens . the camera does have firmware wide-angle distortion correction . this works fairly well , at the cost of even more image softness , but even-so , barrel distortion is noticeable to a degree that is not present in actual 35mm-film camera wide-angle lenses of similar focal length . this in-camera correction can be turned off . doing so allows one to see the marginal native lens performance . however , being able to turn off distortion correction exemplifies for me how poorly thought out this camera is . the only people who would wish to do this are those who are exploring the artistic limits of the camera - and they would seem better served by the camera having such basics as : manual settings , a physically larger sensor chip , raw image files , or , at least , a choice of degree of jpeg compression . at the other end of the camera 's focal length the 114 / 117mm performance shows slightly below average image softness with average pincushion distortion . there are very few circumstances where one would want to use ` digital zoom ' , so , as with all digicams , the claimed maximum telephoto length is completely bogus . after reaching optical zoom limits , one is much better off doing any further ' zooming ' in an editing program . kodak 's advertised \" 5x optical zoom \" is , at best , misleading . actually , it is just flat out untrue . the camera has two lenses . the only lens that can be optically zoomed is the 39-114mm lens , which is not quite 3:1. the wide angle lens has a fixed focal length . ( note , in some places kodak claims 39-114 , in others 39-117 optical zoom . ) also misleading is the claimed \" anti-blur technology . \" as best i can tell from looking at the images , and at the exif metadata , all this actually means is that at some given shutter speed the camera boosts the asa . certainly there is no optical image stabilization technology in this camera . speaking of asa . this is an opportune time to address the camera 's incredibly poor menu system . it is byzantine : being both awkward and time consuming to use . to adduce , ` auto ' asa ranges from 50-200 , to set a faster ( or to lock in at a slower ) sensitivity rating requires going through multiple menu levels . to change from ` auto ' to the next fastest ( 400 ) requires 11 manipulations of 2 controls ! on either of the other two p&ss which we will be taking along it requires 4 pushes on 1 control . the menu system is next to unusable in the field . still on asa settings , the camera does have sensitivities up to asa / iso 1000 ( though the manual only documents asas up to 800 , 1000 is available on the camera ) . unless your shot is of a once-in-a-lifetime , will never-happen-again moment , then 200 is the max asa tolerable before noise in the shadows becomes annoying . at 400 the entire image suffers from noise and is not really useable for any print larger than 4x5 \" . the previous version of this camera , v570 , had only 5mp , but the same sensor size . by increasing the pixel count , but not the physical size of the sensor , the new v705 camera actually has more low-light digital noise than its predecessor . this has happened with many of the current p&s cameras , as the makers advertise pixel count as a measure of image quality . my initial experience with low-light high asa use of this camera is that you might as well set the capture size to 3 mp , as the larger files have only marginally better printing capability because of the severe noise artifact . another approach to dealing with the sensor noise is to use one of the commercially available products which , when calibrated to the sensor in the camera , allows the subtraction of much of the internally generated noise . doing so does allow for semi-adequate 8x10 \" prints at asa 800. if one really wants to get carried away , combining the preceding with any of the image stacking programs designed for astrophotography ( where dozens / hundreds / thousands of images are averaged together ) makes 8x10 's at asa 1000 doable . people willing to undertake these manipulations likely do not fit kodak 's target market . back to earth . the v705 's still-image quality is below average for this generation of 7mp p&s cameras . mostly i believe this is because of the overly aggressive jpeg compression , which is not adjustable ( e.g. ` best ' , ` good ' , etc ) . my guess is that a compression setting of 30-40 is being used . this results in small files , with a lot of compression artifact . the 7mp jpegs from this camera are about 1.2-1.5mb in size , those from another 7mp p&s i have are 5-6mb . my 6mp prosumer digital slr jpegs are 8-10mb . the more the compression , the worse the image . most cameras allow the user to pick the trade-off point . kodak picks it for you , and picks poorly . the v705 's video performance is very disappointing . it uses mpeg-4 compression , and at very aggressive compression settings . unless it is a video of your baby 's first steps , or aliens landing in the backyard , you will likely find it hard to watch . the total output datastream is about 0.5 mbs . compare this with a minidv tape video datastream of 25 mbs ( total , adding sound , error correction , and time codes , is 36 mbs ) . better to have stuck with mpeg-2 which would give less compression , but decent enough ( tv quality ) videos . that is the choice that most manufactures have made . as a result , the videos from my other p&ss have about a 2 mbs datastream , and so are of much better quality . the battery . kodak 's claim is 150 still images per charge . i am getting 100-120 , with minimal use of flash and the lcd on ` energy saver' . even 150 would be poor , compared with my other digital p&ss , where i expect at least 200 , and often get 250+ if i am at all careful with power-management . this camera has a proprietary ( and hard to remove ) 720 mah battery . my ( several ) other , p&ss have 790-1120 mah batteries , and , i suspect , more efficient processors . since we are only going to be using this camera for wide-angle , the battery will likely last most of a day . we have not bought an external charger and backup battery because the cost is about 25% the cost of the camera . though the body is of aluminum , the camera itself is overall fragile and i doubt will hold up more than a year or two . the battery and media doors do not appear to have been designed for actual repeated use ; there is no cover for the charge socket . the media door often dislodges open . truly , my belief is that kodak designed this camera with the thought that these doors would never be used : that the camera would spend its life simply being taken in and out of the ( not included in this model ) \" easyshare \" dock system . this would also explain the relatively large amount of built in memory , and the overly aggressive jpeg compression . shutter lag , the bête noire of digital cameras , is very evident with this model . i do not have any method of actually measuring the time between pressing the shutter , and the image being recorded . however , based on over 50 years of tripping shutters , it clearly varies , and i estimate is , at best 1 / 4 second , up to a bit over 1 / 2 second . in addition to the shutter lag , there is a perceptible lag in the lcd viewfinder screen showing what is in front of the lens . together this makes the capture of a fleeting moment , an active child at a particular instant , or a wary animal almost impossible . the shutter lag is much more evident than in same-generation / price p&s cameras from other makers . the accompanying ` manual ' is poorly organized , childishly written . \" finish reading this book , so you can take and share your best pictures ! \" at best , it was written for 8 year olds . the manual does make reference to a web-address where one can download the ` full manual ' , however the address given is incorrect . when eventually found , the manual is better than the one enclosed with the camera - in that it contains some information that one could not figure out oneself - but it also is written at no more than a fourth grade level . panoramics , one of the advertising points of the camera , are another disappointment . basically the way it works is that 2 or 3 images can be taken in ` panoramic mode ' , each subsequent shot is overlain by a thin strip of the preceding image , in order to allow alignment . as with most ` panoramic modes ' focus and exposure is locked on the first image . so far , this is all ok ; however , it rapidly goes downhill . first , the max image size of the individual shots is limited to 5 ( not 7 ) mp . next , the image overlay is so dark that , even with the lcd set at max brightness , it is difficult to see through the mask to align the elements . however , it gets worse . the images must be joined in-camera ! the individual images cannot be stored ! in-camera processing is very slow and very battery hungry . aligning the overlaps on a grainy 1.5x2 \" lcd in the field gives , in spite of the camera 's best efforts , much poorer results than aligning them on a much bigger , and higher quality , computer display in the comfort and controlled lighting of your home . the best way to take panoramas with this camera is to use a lightmeter to determine exposure for each segment , and then simply take the appropriate series of images as 7mp single-stills , making exposure compensation adjustments based on your light-meter readings . of course , my smallest lightmeter is almost as large as this camera , so we will not be dragging it along . you can eyeball the needed ec close enough that should be able to match the exposures up in production . much better if the v705 allowed the individual images to be saved . reading back through this review , i see that it is mostly negative . this makes sense , for , as i disclosed at the beginning , it was my disappointment in this camera 's actual vs advertised capability which led me to write the review in the first place . likely i have said all that needs to be said . so i will just close by mentioning that the only reason we did not send the camera back is because of the wide-angle lens . except for this unique lens , the camera 's performance and ease of use is below that of similarly priced p&s cameras currently on the market . if you need a true wide-angle p&s , you need this camera . otherwise forget it \n",
      "\n",
      "Row 2062 has been classified as pos and should be neg\n",
      "this bag could be a bit larger and have more pockets . quite small for the price . just paying for the name on the bag \n",
      "\n",
      "Row 2071 has been classified as neg and should be pos\n",
      "good product amazon had a great price . even though people say it is high priced i paid $44 after discounts . i tried the beta version and i liked it . beta version does not give you all of the features but enough to get the idea . easy to install worked at the get go . intuitive enough to figure it out . you may have to go through things a few times to understand what it means . did n't have a manual with the beta version and still figured it out . manual does provide information , works great . did n't need any help . had mcafee before did n't find any new virus . it works as good as mcafee but it is a lot faster when you start up . both kaspersky and mcafee have features i like . \n",
      "\n",
      "Row 2072 has been classified as neg and should be pos\n",
      "this is a good padded case for your camera . but the back pocket shown in the picture with a phone stick out , was not deep enough for my phone with antenna attached . it measure 4 \" x 3.5 \" . but other than that i enjoy using this bag \n",
      "\n",
      "Row 2104 has been classified as neg and should be pos\n",
      "but a good debut album . this is when i felt proud knowin ja was from ny . no radio friendly s*** here just street for the most part . but i guess when you were never really gangsta in the first place you ca n't keep talkin about it , which is why i guess he changed his style . now the subject i wanna hit . has anyone noticed that guy named progressive ? why does amazon allow goofs who hate hip hop trash our culture ? and everytime i turn around its some damn rocker / junkie hippie . last time i checked rhythm and melody was part of music . i dont hear none of those when i through on heavy metal or rock . i 'm tired of our music bein trashed . you know what im a go trash one of they \" artist \" right now \n",
      "\n",
      "Row 2109 has been classified as neg and should be pos\n",
      "firstly , i have not seen the film adaptation of ' single white female ' and so this review is n't tainted one way or the other . this book , about the stolen identity of a young woman by her psychotic flatmate , is written is very easy style . characterizations , prose , and dialogue are all straightforward . i can understand why a film was made based on it since the book reads more like a screenplay than a novel . and the book 's \" feel \" is anything but original . ' sliver ' by ira levin does a better job of capturing the essence of life ( and danger ) in manhattan for a single , white female . still , ' single white female ' is an entertaining read . bottom line : a very enjoyable , suspenseful read that does n't tax the brain . recommended \n",
      "\n",
      "Row 2112 has been classified as pos and should be neg\n",
      "i was looking for a book to make elegant , simple and practical bags . this book has is all feathers and beads , nothing that i would ever give to someone as a gift ! i was very disappointed . \n",
      "\n",
      "Row 2119 has been classified as pos and should be neg\n",
      "i bought this lens for my canon 30d after reading every professional review i could find . i knew going in that this lens was n't perfect but , was supposed to be better than the 18-55 kit lens . i liked the range that it provided and the image stabilization . i shot pictures with this lens and was extremely dissapointed . the pictures were not sharp at all and the colors were dull . i thought it might have been my new camera at first because i could n't imagine the quality would be this bad . i ruled this out after i used my canon 28-105 lens i had for my canon film slr and the results were much better . for the digital focal length though , my old lens would n't suffice because of the 1.6x focal factor . later , i decided on the tamron 17-50 / 2.8 after reading reviews . the salesperson at the professional camera store guessed that my pictures were very soft when i told him i had this canon lens . he said , \" let me guess , you 'd like to try the tamron 17-50 / 2.8. \" he said that this was the very best lens to buy in the price range and to take it home and try it . i could return it with no questions asked if i was n't satisfied . he also said that he had n't had one person return it yet . my first images with this lens were great . they were sharp and had way more vibrant color . there is absolutely no comparison at all . i was hesitant to buy a third party lens but , my fears were instantly eliminated after seeing the results . this is the first review i have ever posted on amazon . i was so dissapointed that i wanted to help others not make the same mistake . after spending $$$ on a digital slr , it would be a waste not to get great pictures with it because of the lens . before taking a chance on buying the canon , do yourself a big favor and try the canon and tamron at a local store . \n",
      "\n",
      "Row 2135 has been classified as neg and should be pos\n",
      "i 'm like most people with a digital camera . i take a bazillion pictures , develop 10% onto paper , and then banish the other 90% to computer storage archives . i mean , i 'd love to display a lot more of those pictures from my computer , but who has the wall space or time to organize all of those prints ? that 's why i decided to get a digital picture frame . i had been looking for quite some time , but was always turned off by the small-ish lcd sizes or poor resolutions . then i came across this coby 10 \" widescreen unit , with the 800x480 pixel display ! there were no reviews on amazon ( at the time ) , but spec-wise it had what i wanted ; a larger display and higher resolution . i took the chance and ordered one and am i glad i did ! the display is huge , and the pictures look crisp . colors are pretty accurate when compared to that of my calibrated lcd computer monitor . the interchangeable frames ( it comes with a black one as well as the white one ) make it easy to match with your décor . the litte remote is easy to use , but easy to lose as well , so make sure you place it somewhere easy to find . the built-in mp3 player is a nice touch . the speakers are n't that great ( it is a picture frame after all ) , but it 's nice to have the frame play music while in slideshow mode . there is a variety of transition effects to choose from . i have n't tried playing videos on it , so i ca n't comment on that feature . that being said , there are a few things that prevent me from giving this 5 stars . 1. the adjustable stand is made of cheap feeling plastic . i 've seen other frames that have much nicer backs . yes , i know it 's the front you are looking at , but the stand should be sturdier , in my opinion . 2. the angle of the stand , while adjustable , is simply held in place by friction . it actually has one setting that it can click into , but then it is angled too much to view at a normal position . 3. there seems to be a software bug that causes the display to act weird in slideshow mode . well , to be more precise , if you are in slideshow mode and you choose either the fade , mask , or cross comb transition effects , then the very top horizontal pixel line starts to show black sections . it looks like dead pixels , but once you exit the slideshow ( or use other effects other than then ones i listed ) everything is fine . i have recreated this problem , but i do n't know if it 's just my frame or all of these . no biggie . i now use no transition effects it is perfect . 4. this is not really a complaint about the product but more about coby 's specs . on their website they state the lcd is 800x480. great ! so i ordered the frame and then resized a whole bunch of pictures to that resolution . however , when i got the frame and started using it , i noticed that all of my pictures had black ( blank ) bars on both the left and right sides of the picture . it turns out that the resolution is actually 860x480 ( which i found out after some trial-and-error ) . it would have been nice to know this ahead of time to save me from having to re-resize my pictures . plus , sizing pictures to 860x480 is a really weird ratio.. . kinda like getting 4x7 prints . i ordered this from total electronics ( one of the amazon vendors ) and it arrived quickly . when i reported the \" dead pixel \" problem ( which turned out to be a software bug , not a defect , so to speak ) , they responded to my email quickly and offered to take it back no questions asked . now that 's customer service ! overall , i am very pleased with this product . in reality , it rates 4.5 stars . i 'm the type of person that agonizes over something before finally buying it . with this purchase , that was totally unncessary ! \n",
      "\n",
      "Row 2144 has been classified as pos and should be neg\n",
      "i am an alice fan , so this is far far from my favorite . the first star i gave was simply because i love kate beckinsale and the movie is n't scary . the other is because it would be enchanting for a 3-4 year old or another youngster that does n't know anything about wonderland . my 9 year old even got bored with this . kate beackinsale plays the mother in the beginning , and in 1999 she was much too young to be and definitely looked so . she just did n't look well in this movie , and everything looked so cheap and fake . the story was changed in all the wrong places and too much was left out . i would not recommend this . i would recommend the 1999 american mini series of alice in wonderland , it is my absolute favorite ; with martin short as the mad hatter , and a long list of big names . that one is fun for all ages \n",
      "\n",
      "Row 2152 has been classified as pos and should be neg\n",
      "a good dozen years before his spectacular films of the late 70 's and mid 80 's allen got his name on the directorial map w / this piece of fluff . you gotta start somewhere . tiger lily is more of a dry run for his later , real comedies than an original film in its own right . allen 's early work does tend to be stand up material thinly disguised as film . many of the jokes are funny but the one note premise wears thin quick . a must for allen enthusiasts and people who like quirky cultish so-bad-they're -fun movies \n",
      "\n",
      "Row 2158 has been classified as pos and should be neg\n",
      "boy , this is way too much to pay for a hood on this lens . it 's a great a lens , but this is hardly worth the price \n",
      "\n",
      "Row 2163 has been classified as pos and should be neg\n",
      "whether william golding deserved nobel prize or not is still a debatable point , but it is true that he wrote one marvelous book , and its name is ` lord of the flies . ' but let 's not talk about the differences between the book and the film for a while - because after all no one i am afraid can bring the multi-layered world of words onto the screen . even those who loved the 1963 version would admit that . you can interpret the meaning of ` lord of the flies ' but who can really visualize it , or the imaginary conversations of simon for that matter ? the biggest problem of harry hook 's new version is not the changes done to the film . the boys are american military school cadets , using dirty words frequently , but those parts did n't annoy me much . real problem is something more essential to the film , which is storytelling . in short the 1990 film does n't know what it wants to be . on the film 's video cover you can read ( and i quote ) ` this stunning adventure explores the deep dark corner of the human soul . \" well , not exactly . for as adventure story it lacks pace ; the film always feels rushed and often needs better editing . as allegory it needs more distinctive personalities for each character . the conflict between ralph and jack should be clearer , and piggy 's role should be more than that of a whining fat boy . and do n't forget simon , who sees things , it is true , but definitely not those things that the film actually shows us . it is a pity that the cinematography is so beautiful . it could have been a perfect backdrop against which dark allegorical survival story would develop , opposite of optimistic tales of jules verne 's adventure stories . by watching this film you can follow the story of the book , but find no tension or thought-provoking words in it . balthazar getty 's feature film debut . and lewis m. allen , one of the producers of the film , had also produced peter brook version in 1963 \n",
      "\n",
      "Row 2170 has been classified as pos and should be neg\n",
      "this is a nice case , however , i needed something more sleek and small to fit into my purse when i go out with my friends . this case is bulky and my panasonic fxo1 would fit into something much smaller . i ended up going with a great case that i found at wal-mart for a cheeper price , sleeker design , small enough to hold my memory cards and camera and still fit into the small purses i take when i go out on the town \n",
      "\n",
      "Row 2173 has been classified as pos and should be neg\n",
      "definitely not one of his best ! slow slow slow.. . but at least this character had some realistic difficulty learning a foreign language , unlike the hero of \" the partner \" who learned a little known spanish dialect perfectly by sitting in a hotel room listening to cassette tapes for 2 weeks \n",
      "\n",
      "Row 2174 has been classified as neg and should be pos\n",
      "shaving gives me all sorts of problems , i must have super sensitive skin or something . i cannot afford laser and wax just is n't my thing . grabbed this for myself before christmas on a whim . it was money well spent ! after 3 months of use , i have gotten the hang of the product . i suggest you practise then shave regularly for a month or more . say , run the product over each leg once till you get used to it . then trying to completely remove the hair . my legs are unbelievably soft . no rash , one little tender area after i spent too much time there . do keep moving and keep a razor in the cabinet just in case . i still have trouble around my ankles . hair regrowth is markedly thinner since i began using it . by about half . what remains still grows long but i 'm , err , what does one call this process ? - doing it once a week and only takes a few minutes \n",
      "\n",
      "Row 2184 has been classified as neg and should be pos\n",
      "i just finished watching callie and son . i got my copy from the dollar store and it has another movie ( power passion and murder ) with michelle pfeiffer in it as well.. . it really was n't that bad , considering the price i paid . lindsay wagner is actually the main character and i think she did a great job , as did most of the actors in this film . the only trouble is the movie lasted about a hour longer than it needed to . with a bit of editing and a bit better script , it would have been a great movie ! the end was somewhat unexpected and horrifying.. . i 'd recommend it for someone to watch once , but i would n't pay more than i did for it . the dvd quality is really poor , the sound fades in and out , but for what it was , a bargain bin cheapy , i was pleasantly surprised by how much i enjoyed it . \n",
      "\n",
      "Row 2187 has been classified as neg and should be pos\n",
      "i do n't own this cd . i do n't have to own it to review it , because this music is the soundtrack of my high school years . i lived this music . i listened to it while cruising the local shopping center indulging in - er - various activities . half of the bands on this cd i had the privilege of seeing perform live in the 70s . this is what fm radio sounded like back then . every single song on this cd was well known to me and my friends . yes , even black oak arkansas ( hot and nasty ! ) , nazareth ( get hair of the dog cd for more ) , and the runaways ( hot babes ! ) . oh , and i love the movie too . party on , dudes \n",
      "\n",
      "Row 2191 has been classified as pos and should be neg\n",
      "i could not force myself to watch this film in its entirety . i think i made it about 45 minutes in . despite many fine actors , esp . the always interesting jeff bridges , who brings a layered sadness to many of his roles , i simply could not connect and did not care about these people . it was this huge budget american movie shorthand : we 're supposed to care because we 've been given a snippit of a scene that reminds us of something else , but it just does n't work for me . if i do n't care this far into the movie , it just wo n't happen . visually beautiful , and sky high production values on costumes and sets , it is wasted in these disjointed storytelling . whoever cast the extras has wonderful faces , which the cinematographer and editor took full advantage of , but why do n't we get faces like that in the major characters . of course chris cooper has that kind of face , but many others ( esp . all the \" size 2 women \" in the supporting roles ) seem to have stepped out of a commercial . the chicago tribune called this film \" sleek and beautiful . \" i will completely agree with that , but so are music videos . i kept asking myself , what is wrong , what is misfiring ? i really wanted to like it . some of it is the short-hand story telling , but the look was almost too pretty . when the cinematography is this gorgeous , you want and need to linger on something smaller and deeper , or really take all the time you need to connect with something bigger -a mini-series . ultimately , i began wondering if the original length was much longer , and it was cut down so much that it became fractured , and if that is the case , my apologies to the director . this is the kind of film that makes me ponder , what is it that european film-makers \" get \" that we lose in our big budget studio films ? is the system itself hurting some films , by sanitizing and conforming them , when they need to stick out like an unruly horse 's nose at the starting gate ? very beautiful , but no connection , and not satisfying.. . well , that 's a lot of things in hollywood in a nutshell , is n't it ? there are lots of special features on this dvd , but if i ca n't sit through the film , i do n't care about the extras . so glad i borrowed this instead of buying it ! i hear the book is something wonderful.. . \n",
      "\n",
      "Row 2200 has been classified as pos and should be neg\n",
      "the camera case only works if you wear a belt- - there is no clip on . the case itself holds only the camera , not even space for a spare battery or memory card . ( i 've heard the case will darken your camera , but i did n't end up using the case ) . the neck strap is not useful , it 's too long . at ' 34 inches , if you 're not careful you could swing your camera into something and break it . ( the canon camera rocks , however . \n",
      "\n",
      "Row 2209 has been classified as pos and should be neg\n",
      "the game disk does not run on my laptop . but it will play it on my desktop computer . very annoying , but at least i can play ( other reviewers have not been so lucky ) . the game has some good questions and i enjoy testing my friends knowledge . the game itself is rather simple and not totally fun . the \" game board \" is the outside of the friends ' apartment building . when you get a question right a window lights up . when you get one wrong a window dims . if you do n't answer the question nothing happens . you win when all the windows on that floor are lit up . i would prefer that they make you answer all questions - none of this passing on a question - it would up the ante and perhaps add some excitement . if you play a multi-player game you cannot select which letter is your buzzer and the letters assigned by the game designers are adjacent keys on the keyboard ! it 's silly for the two players to be huddled together , hovering over the same part of the keyboard when the designers could have selected other letter keys set further apart . there are some video clips and still images accompanying the questions , but it 's mostly a trivia game without visual aids or embellishments . think trivial pursuit with a computer screen as the cards . this game was a gift . if i had to do it over again i 'd probably spend my money instead on scene it ! friends edition . as of right now , scene it ! friends edition is on sale at circuit city for the same price as this game is on amazon . ( and though i have n't played it , the reviews of that game are much better than this one ) . \n",
      "\n",
      "Row 2218 has been classified as pos and should be neg\n",
      "if i 'm not mistaken , the only difference between the standard 50th anniversary edition and the \" ultimate collector 's edition \" is 1 ) collectible robby the robot replica 2 ) forbidden planet and the invisible boy reproduction lobby cards portfolio 3 ) forbidden planet original theatrical poster mail-in offer 4 ) metal alloy collector 's case in that case , the \" ultimate collector 's edition \" , at more than twice the price of the standard edition , is a rip-off ! the \" robby the robot replica \" is much smaller and much less detailed than the one depicted in the ad the mail in offer for the \" free \" poster requires a $3.50 shipping and handling fee . the \" metal alloy collectors case \" is made of very thin metal and arrived dented . not that it would take much to dent it . save $21.00 and buy the standard version \n",
      "\n",
      "Row 2223 has been classified as neg and should be pos\n",
      "i think if charles bukowski , dylan thomas , and fellini collaborated on a piece of writing , it 's possible they would have come up with this screenplay . this movie is exciting because it 's soooo different from anything i 've ever seen . deliciously non-linear . the substance abuse aspect is a little overdone but that 's the destiny of & quot ; artist movies&quot ; . i loved hearing the dialog , and kristofferson 's acting is the best i 've ever seen by him . anything so daring and so unconventional will naturally upset some people ( like other reviewers here ) , but if you ask me that only validates the work . if ever i go to new york city , the hotel chelsea will be at the top of my list of places to visit . my favorite lines were by the crazy guy in the elevator , who after claiming to have had a conversation with dylan thomas said that ghosts naturally reside in places like the chelsea because people will listen to them there . the dvd extras contain a couple of quirky interviews , one with director ethan hawke and the other with robert sean leonard who plays a deeply troubled folksinger in the film \n",
      "\n",
      "Row 2231 has been classified as pos and should be neg\n",
      "this cd and the one entitled \" night ranger 's greatest hits are almost identical , but are different in this way : \" best \" contains \" i did it for love \" . \" greatest \" contains , instead , \" rumours in the air \" and \" restless kind \" . the other 10 tracks on each cd are the same . so , which one to buy ? my choice is the one with the extra track . also , in my opinion , both tracks on \" greatest \" are better than the one on \" best \" . in addition , here 's hoping that the band or record label decides to release a true \" greatest hits \" or \" best of \" album that will contain about 15 or 16 songs . or maybe a multi-disc compilation that will include some rare tracks . night ranger fans would surely delight to see something like that \n",
      "\n",
      "Row 2233 has been classified as pos and should be neg\n",
      "as a former student of ms. morris , i will state that she and william morris were quite emphatic about keeping the teachings sacred and authentic as taught by grand master takata . her history is to this day accurate \n",
      "\n",
      "Row 2235 has been classified as pos and should be neg\n",
      "...but this album should never have been released as the \" final \" queen-album . a couple of these songs should instead have been added as bonus tracks to one of those many best of queen-releases . \" a winters ' tale \" for example . do i know much about the background for \" made in heaven \" , well perhaps not . but i know that this is known to be the last studio release . sadly it has the sound of elevator-music all over , not that the melodies are bad , it just sounds.. . almost cheap actually -and most importantly to my ears ( at least ) this does n't sound like my queen . one of the most important bands in the history of music saying good-bye with \" made in heaven \" ? was this really freddie mercurys ' wish ? it does n't make much sence after the fantastic \" innuendo \" released in short time before his tragic death containing the haunting ballad \" these are the days of our lives \" . the words and the music.. . wow ! and the music video to this song , have you seen it ? to me that was the real good-bye with freddie , and with queen . and it has the sound of how i will remember them . but is \" made in heaven \" really that bad ? yes , and no . \" heaven for everyone \" by roger taylor made it sound promising , and do n't forget ; i was exited when i heard about \" a final material \" -release . but it turned out , as you might have guessed , far from what i had expected . old songs from b-sides and solo-albums are mainly fillers for this album.. . i mean honestly ? \" too much love.. . \" then quite a resent hit from brian mays ' solo-album \" back to the light \" , i remember thinking \" what 's the point ? \" and it actually sounds better from his solo-album without the synth dominating the song here . do n't get me wrong now , freddies ' vocal is as good as you 'd expect , it 's what they 've made out it that surprises me . and what makes me wish they hadn't . at least not for an entire album . \" a winters ' tale \" is a positive surprise though . perhaps not freddies ' best song , and not better than \" these are the days.. . \" . but it 's a celebration of the beauty in life . at least it sounds like that to me . freddie captures a moment of harmony and peace . and beauty . and it sounds like a classic queen-song ! \" a beautiful day ( intro and reprise ) \" functions well too . but what tracks 12 and 13 are about i have absolutely no idea. . ? i wish they would have ended the album with freddies ' last \" yeah ! \" on the song . i wish.. . so all in all ; \" innuendo \" remains the explosive good-bye with the \" real \" queen . at least it does to me . ( let me add that the cover of \" made in heaven \" is perfect for the title , and somehow amazingly \" seals \" in its ' simplicity the fate of the band with freddie in the lead . the three band members left ( brian , roger , john ) facing the sunset , and a statue capturing freddie in a remembarable style on stage . reminding me of him at wembley 86. to me this actually expresses something beyond words , and it 's impossible not to get a bit of an empty feeling watching it while listening to \" heaven for everyone \" or \" a winters ' tale \" . ) \n",
      "\n",
      "Row 2247 has been classified as neg and should be pos\n",
      "works great on my s2is , clicked on silver on main page but switched to black on order form , did n't notice this but i like the black anyway . looks good with acc \n",
      "\n",
      "Row 2248 has been classified as neg and should be pos\n",
      "for $14.00 , you should get this sleek little package to protect your camera and battery / accessories . if you 've ever accidentally dropped an expensive camera , you know just what i 'm talking about . it 's nice looking as well \n",
      "\n",
      "Row 2255 has been classified as pos and should be neg\n",
      "this product would be excellent but runs fully 4 \" too narrow and 3 \" too short . this creates an aprox . 2 \" lip around the entire matress . very odd . this short coming disturbs the experience substantially . the laminated back works well . be sure to purchase the product sized for a bed size larger than the one you own and it should be fine \n",
      "\n",
      "Row 2257 has been classified as pos and should be neg\n",
      "it 's not great music to dance to \n",
      "\n",
      "Row 2263 has been classified as neg and should be pos\n",
      "an excellent item saved me lots of time and money \n",
      "\n",
      "Row 2272 has been classified as neg and should be pos\n",
      "very good it does what i want and more . now to get more training on doing more with this produc \n",
      "\n",
      "Row 2274 has been classified as pos and should be neg\n",
      "i bought this book before my first trip to austria . i had a sinking feeling while reading it that it was mostly a pastiche of unusable generalizations . that turned out to be true . what shall we do with a paragraph that tells us that austrian women are strong-minded and independent and organize their homelife well , although many go to work ? this book might have some value for a person who had never left their english-speaking homeland before and needed to be warned that people are sometimes naked in the sauna or at the beach . it also provides some amusing anecdotes about language ( especially viennese ) and useful info about festivals . mostly , though this book was good for reading aloud to austrian friends . i would quote it as an iron-clad authority when their behavior did n't quite match the book 's version and thereby amused them tremendously . - -lynn hoffman , author of the new short course in wine and the forthcoming novel bang bang from kunati books.isbn 978160164000 \n",
      "\n",
      "Row 2289 has been classified as neg and should be pos\n",
      "i do n't know if it makes your hair shiny or not ( i never noticed increased shine ) however , i do think it does it does a nice job . it worked better when my hair was around shoulder length , but it puts a nice curl in your hair and as long as it 's not too humid out , it stays in . now that my hair is down to my waist , it does n't hold curl anymore . just a little on the ends and if it 's even a little humid , forget it . the main thing that bothers me about this set is the clips that hold the rollers in . i do n't know what they were thinking , but they really suck . they pull on your hair a little while they 're holding the roller in and make you look an awful lot like madusa . anyone who happens to see you will most certainly have a few jokes and laughs \n",
      "\n",
      "Row 2296 has been classified as neg and should be pos\n",
      "heard other poster said v10 has been available , so searched and found it is true . v10 is available at the maker 's web site at the same price as that of v9 sold here . btw , i planed but have n't buy the product yet . but i have to assign a star number in order to post this message \n",
      "\n",
      "Row 2304 has been classified as neg and should be pos\n",
      "this stuff is awesome for hangovers . it was like my high school staple ! i mean , i went through like a box a week . at least give it a try \n",
      "\n",
      "Row 2306 has been classified as neg and should be pos\n",
      "after reading the reviews here and at [...] on this baby , i was a little cocerned about its low-light and indoor performance . let me be the first to say that my fears were largely unfounded . yes , if you film in very low light , it will darken many colors . but we 're talking 60 lux , which is the roughly equivalent to the light put off from the candles of a birthday cake . just keep the lights on when your kid blows out the candles , and viola ! seriously , i have had absolutely no problems with it filming too dark indoors , outdoors , or even when i film local bands playing in dark bars . the reason i wanted to try this camera was because it is the only flash-based camera that is receiving even mildly positive reviews . i do not want a tape mechanism that will break , nor a fragile hard drive that cannot be used in many film-worthy conditions ( think snow skiing , as the drive mechanism will freeze up on you in very cold weather ) . as i said , i was skeptical when i purchased it , but no more . the videos are far better than any other camcorder i 've owned . my last was a canon zr 50 mini dv , and this camera takes vastly superior videos than that one . the four stars is only because of the mpeg2 format this records to . i have a mac , so editting requires that i convert to dv with streamclip so that imovie can import the movies . mainly , i just do n't edit my home videos so that has n't been a problem . but if would have been nice for it to be an easier option , and it could have been if they encoded to mpeg4 with h264 and mp3 / aac , which appears to be the next standard . if that concerns you , or if you want hd , you might wait until the panasonic sd1 is available because it records in avhdc which is a form of mpeg4. of course , imovie does n't yet support that either , so you may have to wait until ilife 07 to really use it . in parting , i will also mention that the size of this unit is absolutely fabulous . i no longer dread lugging around even my smallish mini dv camera . this thing literally fits in my jacket pocket , so i end up filming a lot more than i did with previous cameras . if you 're looking for small , flash-based , and good quality video , get this camera , you 'll love it \n",
      "\n",
      "Row 2307 has been classified as neg and should be pos\n",
      "this book was someone else 's bookclub selection , and i think having no expectations when i picked it up really helped in my having that wow experience that some folks report with this book and others miss . yes , the prose needed much better editing : overuse of repetition , \" stock \" phrases , and \" hanging \" assertions that should have been cleaned up . however , i found the discussions of brain development / evolution , similarities between certain animal behaviors and human behaviors , development of language in different animals , and the coevolution of humans and dogs to be facinating ( oops , just gave away the ending ! ) . i found the side discussion of outcome-based audits interesting and enlightening . i also liked dr. temple 's recommendation that people with autism be hired for baggage checking positions . great idea ! although the book really goes all over the place , i found it a wonderful opportunity to engage my \" seeking / hunting \" motivation ( you 'll have to read the book for that one ) , and worth wading through the flaws to pick up the nuggets of gold \n",
      "\n",
      "Row 2315 has been classified as pos and should be neg\n",
      "the camera ( canon s-80 ) barely fits in the case and there is no room for even an extra storage card , much less a second battery pack or the charger . i ended up using my old tamrac case that has an extra zippered pouch for accessories . total waste of $$$ \n",
      "\n",
      "Row 2316 has been classified as pos and should be neg\n",
      "you do n't need to be a student or to own your home to get the home and student version . any one can get that version . microsoft does n't enforce the student part and by home , they mean where you live \n",
      "\n",
      "Row 2324 has been classified as pos and should be neg\n",
      "pls tell me tat tis boxset is a joke ! ! ! ! classic rock - reo , romantics ... bangles ? ? ? its more like classic new wave . only thing good would be the price . pls ... who ever the a&amp ; r people are ... pls ... pls ... design something bette \n",
      "\n",
      "Row 2325 has been classified as pos and should be neg\n",
      "this is the perfect cd for taking a nap to . it 's mostly full of slow pop and rock . if you 're a fan of this type of music , i recommend this cd , but if not , do n't buy it . there are only a few good tracks . all star , bad reputation , i 'm a believer , stay home . and i do n't enjoy buying a cd that only 1 / 3 of it is good . so , i would n't buy it , if i were you . \n",
      "\n",
      "Row 2326 has been classified as neg and should be pos\n",
      "ok , first of all oct fri the 13th i finally saw this movie in 3d , sigh i can die happy ! ok this one is really pretty awesome . chris plays a great leading girl ( the only f-13 leadi didnt want to see with an axe in her skull ) . the other characters are pretty harmless too . wev'e got bikers ( snort ) , pothead hippies , a fro 'd chubster and a dude who can walks on his hands better than he can act . plus this came out in the early 80 's so the ratings board didnt demolish all the awesome gore scenes . i give this one a high-5 ! cool deaths , funny scenes and aside from chris 's sherbert pants , some decent 80 's fashion too . yo debbie , i want your bikini , too cuuute . \n",
      "\n",
      "Row 2336 has been classified as neg and should be pos\n",
      "these were a great deal and they are the only diapers , other than cruisers , that my son does n't leak through . \n",
      "\n",
      "Row 2344 has been classified as pos and should be neg\n",
      "collective soul had a few nice attempts toward pop music like dosage . the main problem i have with this album is none of the songs are hits so no airwaves and the fact that the album probably has about 7 fillers ! its just to flawed to recommend to everyone it may be if you are a diehard collective soul fans . i wouldnt lose this album but i wouldnt buy it again \n",
      "\n",
      "Row 2348 has been classified as pos and should be neg\n",
      "listening to this cd took me back to my growing-up years . i remembered all their songs i loved back then . it 's a great homecoming \n",
      "\n",
      "Row 2351 has been classified as neg and should be pos\n",
      "i had a horrible cold , felt like complete #### but i had to work . this little two ounce vitamin b shot knocked the crappy feeling outta me and i was able to get some work done . there really is no crash and the taste is n't that bad . ..it tastes like a melted freeze pop . note : it may give you the jitters if you drink it on an empty stomach \n",
      "\n",
      "Row 2359 has been classified as pos and should be neg\n",
      "nana has a beautiful voice , but her singing is monotonous , predictable . she lacks passion . sometimes you feel she is reading the lyrics instead of really interpreting the song . in addition to this , the arrangements are unfortunately very poor . her soprano range deserves a proper orchestra . only love could be the perfect background music for a romantic dinner with candles , but this is not the album i would like to listen to again and again \n",
      "\n",
      "Row 2363 has been classified as neg and should be pos\n",
      "this is great ! the free trial version on download.com had saved my computer ( the only program that got rid off some spyware that was in my start-up and causing lots of problems ) . and i 've also used the trial version on several of my friends ' computers . it has n't picked up much , though , since i bought it . but that 's probably because now i have a new hard drive and a firewall . before , i bought the computer used and did n't know what a firewall was . i should have saved the disk and installed it when i started having problems . but oh well , it 's doing it 's job and if i start having problems once the cd expires , then i will probably buy a new disk . that 's how good it is \n",
      "\n",
      "Row 2376 has been classified as pos and should be neg\n",
      "while i am not sure what exactly these do taste like , i do n't detect the peanut butter here . the texture is good , chewy enough , but the taste is...odd . not at all sweet . i ca n't imagine any child ( or adult ) grown accustomed to high fructose corn syrup actually enjoying these . bleh . if you want peanut butter , the clif bar has a much better flavor ( and an even denser , chewier texture ) . if you want a z-bar , i slightly recommend the chocolate- -although it too tastes a bit odd and is inferior to the chocolate clif bars . builder bars are also worth a try , sufficiently sweet and flavorful . of course , with these alternative product lines you will get about twice the calories . although i will not buy these again , i give the company a star for a worthy effort \n",
      "\n",
      "Row 2378 has been classified as pos and should be neg\n",
      "this is a decent book on photographing artwork - - but not the the most comprehensive . the strengths of this book are that mr. saddington ( 1 ) discusses the use digital media , and ( 2 ) makes the process of photographing artwork very user-friendly by providing great visual references throughout . the user-friendly aspect is the book 's strongest selling point , especially for artists who are new or novices at photography , or visually oriented ( i.e. , no patience for reading instructions that come with few or no pictures ) . mr. saddington 's book provides pictures of what makes a bad negative exposure / photograph , and provides a concise explanation for these results , and does the same for an example of a good negative exposure / photograph . he also provides illustrations of setting up equipment and artwork for photographing . the weakness of this book lies in the general details provided ... unfortunately , mr. saddington provides a limited amount of helpful hints and leaves out specific details for for problem shooting ... i base this opinion on my comparison of this book with a book called & quot ; photographing your artwork&quot ; by russell hart . if you buy mr. saddington 's book , i 'd recommend supplementing it with the purchase of mr. hart 's book . the two books complement each other . where mr. saddington 's book lacks in details , mr. hart 's book fills in the information gaps . on the other hand , mr. hart 's book is very text heavy and has very few illustrations ... so if you 're a visually-oriented person , mr. saddington 's book would easily compensate in the area of illustrating this very important process . again , mr. saddington 's book is decent , but it should be used as a supplemental reference , especially for the visually-oriented person \n",
      "\n",
      "Row 2379 has been classified as neg and should be pos\n",
      "although this book is only 20 pages long , it contains helpful information about the concept of fair trade . americans have so much , and it is hard for us to imagine the degree of poverty in other third-world countries . rose ericson begins to introduce the subject of what fair trade means to these nations . to us it is only a $1 sometimes , but that $1 in a poor nation can supply food for a day to an entire family . in our hurry to accumulate material goods , we must be careful to not take advantage of the artisans and producers of these third-world nations . fair trade is a concept whose time has come \n",
      "\n",
      "Row 2380 has been classified as neg and should be pos\n",
      "at the elementary school my children attend they have it on their computers . so they were begging me to buy it for them . its very user friendly , even my 5 year old can play with it without assistance . \n",
      "\n"
     ]
    }
   ],
   "source": [
    "for row_index, (doc, inpt, prediction, label) in enumerate(zip (y_test_doc, X_test, clf_y_pred_optnb, y_test)):\n",
    "  if prediction != label:\n",
    "    print('Row', row_index, 'has been classified as', prediction, 'and should be', label)\n",
    "    print(doc)"
   ],
   "metadata": {
    "collapsed": false,
    "pycharm": {
     "name": "#%%\n"
    }
   }
  },
  {
   "cell_type": "code",
   "execution_count": null,
   "outputs": [],
   "source": [
    "clf_optnb = MultinomialNB(alpha=5)\n",
    "clf_optnb.fit(X_train, y_train)\n",
    "clf_y_pred_optnb = clf_optnb.predict(X_test)\n"
   ],
   "metadata": {
    "collapsed": false,
    "pycharm": {
     "name": "#%%\n"
    }
   }
  }
 ],
 "metadata": {
  "kernelspec": {
   "name": "python3",
   "language": "python",
   "display_name": "Python 3"
  },
  "language_info": {
   "codemirror_mode": {
    "name": "ipython",
    "version": 2
   },
   "file_extension": ".py",
   "mimetype": "text/x-python",
   "name": "python",
   "nbconvert_exporter": "python",
   "pygments_lexer": "ipython2",
   "version": "2.7.6"
  }
 },
 "nbformat": 4,
 "nbformat_minor": 0
}